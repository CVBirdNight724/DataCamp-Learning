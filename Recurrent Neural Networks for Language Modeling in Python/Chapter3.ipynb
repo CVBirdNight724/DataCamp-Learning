{
 "metadata": {
  "language_info": {
   "codemirror_mode": {
    "name": "ipython",
    "version": 3
   },
   "file_extension": ".py",
   "mimetype": "text/x-python",
   "name": "python",
   "nbconvert_exporter": "python",
   "pygments_lexer": "ipython3",
   "version": "3.6.10-final"
  },
  "orig_nbformat": 2,
  "kernelspec": {
   "name": "python3",
   "display_name": "Python 3",
   "language": "python"
  }
 },
 "nbformat": 4,
 "nbformat_minor": 2,
 "cells": [
  {
   "source": [
    "# Multi-class classification\n",
    "\n",
    "Next, in this chapter you will learn how to prepare data for the multi-class classification task, as well as the differences between multi-class classification and binary classification (sentiment analysis). Finally, you will learn how to create models and measure their performance with Keras."
   ],
   "cell_type": "markdown",
   "metadata": {}
  },
  {
   "source": [
    "# (1) Data pre-processing\n",
    "\n",
    "## Text classification\n",
    "Application of text classification\n",
    "- Automatic news classification\n",
    "- Document classification\n",
    "- Queue segmentation for customer support\n",
    "\n",
    "## Changes from binary classification\n",
    "What change from binary to multi class:\n",
    "- Shape of the output variable `y`\n",
    "- Number of units on the output layer\n",
    "- Activation function on the output layer\n",
    "- Loss function\n",
    "\n",
    "## Changes from binary classification\n",
    "Shape of the output variable `y`:\n",
    "\n",
    "- One-hot encoding of the classes"
   ],
   "cell_type": "markdown",
   "metadata": {}
  },
  {
   "cell_type": "code",
   "execution_count": null,
   "metadata": {},
   "outputs": [],
   "source": [
    "# Example: num_classes = 3\n",
    "y[0] = [0, 1, 0]\n",
    "y.shape = (N, num_classes)"
   ]
  },
  {
   "source": [
    "## Change from binary classification\n",
    "\n",
    "<p align='center'>\n",
    "    <img src='image/Screenshot 2021-02-12 191952.png'>\n",
    "</p>\n",
    "\n",
    "Activation function on the output layer:\n",
    "\n",
    "- `softmax` gives the probability of every class"
   ],
   "cell_type": "markdown",
   "metadata": {}
  },
  {
   "cell_type": "code",
   "execution_count": null,
   "metadata": {},
   "outputs": [],
   "source": [
    "# Output layer\n",
    "model.add(Dense(num_classes, activation=\"softmax\"))"
   ]
  },
  {
   "source": [
    "Loss function:\n",
    "- Instead of binary, we use categorical cross-entropy"
   ],
   "cell_type": "markdown",
   "metadata": {}
  },
  {
   "cell_type": "code",
   "execution_count": null,
   "metadata": {},
   "outputs": [],
   "source": [
    "# Compile the model\n",
    "model.compile(loss='categorical_crossentropy')"
   ]
  },
  {
   "source": [
    "## Preparing text categories for keras"
   ],
   "cell_type": "markdown",
   "metadata": {}
  },
  {
   "cell_type": "code",
   "execution_count": null,
   "metadata": {},
   "outputs": [],
   "source": [
    "y = [\"sports\", \"economy\", \"data_science\", \"sports\", \"finance\"]\n",
    "# Transform to pandas series object\n",
    "y_series = pd.Series(y, dtype=\"category\")\n",
    "# Print the category codes\n",
    "print(y_series.cat.codes)"
   ]
  },
  {
   "source": [
    "## Pre-processing y"
   ],
   "cell_type": "markdown",
   "metadata": {}
  },
  {
   "cell_type": "code",
   "execution_count": null,
   "metadata": {},
   "outputs": [],
   "source": [
    "from keras.utils.np_utils import to_categorical\n",
    "y = np.array([0, 1, 2])\n",
    "\n",
    "# Change to categorical\n",
    "y_prep = to_categorical(y)\n",
    "print(y_prep)"
   ]
  },
  {
   "source": [
    "# Exercise I: Prepare label vectors\n",
    "In the video exercise, you learned the differences between binary classification and multi-class classification. You learned that there are some modifications to the data preparation process that need to be done before training the models.\n",
    "\n",
    "In this exercise, you will prepare a raw dataset with labels given as text. The data is given as a `pandas.DataFrame` called `df`, with two columns: `text` with the text data and `label` with the label names. Your task is to make all the necessary transformations to the labels: change string to number and one-hot encode.\n",
    "\n",
    "The module `pandas` as `pd` and the function `to_categorical()` from `keras.utils.np_utils` are already loaded in the environment and the first lines of the dataset is printed on the console for you to see.\n",
    "\n",
    "### Instructions 1/3\n",
    "\n",
    "- Get the attribute `.cat.codes` of the column `label` contained on data frame `df` and print its shape."
   ],
   "cell_type": "markdown",
   "metadata": {}
  },
  {
   "cell_type": "code",
   "execution_count": null,
   "metadata": {},
   "outputs": [],
   "source": [
    "# Get the numerical ids of column label\n",
    "numerical_ids = df.label.cat.codes\n",
    "\n",
    "# Print initial shape\n",
    "print(numerical_ids.shape)"
   ]
  },
  {
   "source": [
    "### Instructions 2/3\n",
    "\n",
    "- One-hot encode the vector using the `to_categorical()` function and store the results in `Y` while printing the new shape."
   ],
   "cell_type": "markdown",
   "metadata": {}
  },
  {
   "cell_type": "code",
   "execution_count": null,
   "metadata": {},
   "outputs": [],
   "source": [
    "# Get the numerical ids of column label\n",
    "numerical_ids = df.label.cat.codes\n",
    "\n",
    "# Print initial shape\n",
    "print(numerical_ids.shape)\n",
    "\n",
    "# One-hot encode the indexes\n",
    "Y = to_categorical(numerical_ids)\n",
    "\n",
    "# Check the new shape of the variable\n",
    "print(Y.shape)"
   ]
  },
  {
   "source": [
    "### Instructions 3/3\n",
    "\n",
    "- Print the first 5 rows of the variable `Y`."
   ],
   "cell_type": "markdown",
   "metadata": {}
  },
  {
   "cell_type": "code",
   "execution_count": null,
   "metadata": {},
   "outputs": [],
   "source": [
    "# Get the numerical ids of column label\n",
    "numerical_ids = df.label.cat.codes\n",
    "\n",
    "# Print initial shape\n",
    "print(numerical_ids.shape)\n",
    "\n",
    "# One-hot encode the indexes\n",
    "Y = to_categorical(numerical_ids)\n",
    "\n",
    "# Check the new shape of the variable\n",
    "print(Y.shape)\n",
    "\n",
    "# Print the first 5 rows\n",
    "print(Y[:5])"
   ]
  },
  {
   "source": [
    "# Exercise II: Pre-process data\n",
    "\n",
    "You learned the differences for pre-processing the data in the case of multi-class classification. Let's put that into practice by preprocessing the data in anticipation of creating a simple multi-class classification model.\n",
    "\n",
    "The dataset is loaded in the variable `news_dataset`, and has the following attributes:\n",
    "\n",
    "- `news_dataset.data`: array with texts\n",
    "- `news_dataset.target`: array with target categories as numerical indexes\n",
    "\n",
    "The sample data contains 5,000 observations.\n",
    "\n",
    "### Instructions\n",
    "\n",
    "- Instantiate the `Tokenizer` class on the `tokenizer` variable.\n",
    "- Fit the `tokenizer` variable on the text data.\n",
    "- Use the `.texts_to_sequences()` method on the text data.\n",
    "- Use the `to_categorical()` function to prepare the target indexes."
   ],
   "cell_type": "markdown",
   "metadata": {}
  },
  {
   "cell_type": "code",
   "execution_count": null,
   "metadata": {},
   "outputs": [],
   "source": []
  }
 ]
}