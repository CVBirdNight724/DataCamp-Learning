{
 "metadata": {
  "language_info": {
   "codemirror_mode": {
    "name": "ipython",
    "version": 3
   },
   "file_extension": ".py",
   "mimetype": "text/x-python",
   "name": "python",
   "nbconvert_exporter": "python",
   "pygments_lexer": "ipython3",
   "version": 3
  },
  "orig_nbformat": 2
 },
 "nbformat": 4,
 "nbformat_minor": 2,
 "cells": [
  {
   "source": [
    "# Classification\n",
    "\n",
    "In this chapter, you will be introduced to classification problems and learn how to solve them using supervised learning techniques. And you’ll apply what you learn to a political dataset, where you classify the party affiliation of United States congressmen based on their voting records. "
   ],
   "cell_type": "markdown",
   "metadata": {}
  },
  {
   "source": [
    "# (1) Supervised learning \n",
    "\n",
    "## What is machine learning?\n",
    "- The art and science of:\n",
    "    - Giving computers the ability to learn to make decisions from data\n",
    "    - without being explicitly prgrammed\n",
    "- Examples:\n",
    "    - Learning to predict whether an email is spam or not\n",
    "    - Clustering wikipedia entries into different categories\n",
    "- Supervised learning: Uses labeled data\n",
    "- Unsupervised learning: Uses unlabeled data\n",
    "\n",
    "## Unsupervised learning\n",
    "- Uncovering hidden patterns from unlabeled data\n",
    "- Example:\n",
    "    - Grouping customers into distinct categories (Clustering)\n",
    "\n",
    "## Reinforcement learning\n",
    "- Software agents interact with an environment\n",
    "    - Learn how to optimize their behavior\n",
    "    - Given a system of rewards and punishments\n",
    "    - Draws inspiration from behavioral psychology\n",
    "- Applications\n",
    "    - Economics\n",
    "    - Genetics\n",
    "    - Game playing\n",
    "- AlphaGo: First computer to defeat the world champion in Go\n",
    "\n",
    "## Supervised Learning\n",
    "- Predictot variables/features and a target variable\n",
    "- Aim: Predict the target variable, given the predictor variables\n",
    "    - Classification: Target variable consists\n",
    "    - Regression: Target variable is continuous\n",
    "\n",
    "<img src=\"image/Screenshot 2021-02-01 130537.png\">\n",
    "\n",
    "## Naming conventions\n",
    "- Features = predictor variables = independent variables\n",
    "- Target variable = dependent variable = response variable\n",
    "\n",
    "## Supervised learning\n",
    "- Automate time-consuming or expensive manual tasks\n",
    "    - Example: Doctor's diagnosis\n",
    "- Make predictions about the future\n",
    "    - Example: Will a customer click on an ad or not\n",
    "- Need labeled data\n",
    "    - Historical data with labeled data\n",
    "    - Experiments to get labeled data\n",
    "    - Crowd-sourcing labeled data\n",
    "\n",
    "## Supervised learning in Python\n",
    "- We will use scikit-learn/sklearn\n",
    "    - Integrates well with the SciPy\n",
    "- Other libraries\n",
    "    - TensorFlow\n",
    "    - keras"
   ],
   "cell_type": "markdown",
   "metadata": {}
  },
  {
   "source": [
    "# Exercise I: Which of these is a classification problem?\n",
    "\n",
    "Once you decide to leverage supervised machine learning to solve a new problem, you need to identify whether your problem is better suited to classification or regression. This exercise will help you develop your intuition for distinguishing between the two.\n",
    "\n",
    "Provided below are 4 example applications of machine learning. Which of them is a supervised classification problem?\n",
    "\n",
    "### Instructions\n",
    "\n",
    "- Using labeled financial data to predict whether the value of a stock will go up or go down next week. (T)\n",
    "\n",
    "- Using labeled housing price data to predict the price of a new house based on various features.\n",
    "\n",
    "- Using unlabeled data to cluster the students of an online education company into different categories based on their learning styles.\n",
    "\n",
    "- Using labeled financial data to predict what the value of a stock will be next week."
   ],
   "cell_type": "markdown",
   "metadata": {}
  },
  {
   "source": [
    "# (2) Exploratory data analysis\n",
    "\n",
    "## The Iris dataset\n",
    "<img src=\"image/Screenshot 2021-02-01 135820.png\">\n",
    "\n",
    "Features:\n",
    "\n",
    "- Petal length\n",
    "- Petal width\n",
    "- Sepal length\n",
    "- Sepal width\n",
    "\n",
    "Target variable: Species\n",
    "\n",
    "- Versicolor\n",
    "- Virginica\n",
    "- Setosa\n",
    "\n",
    "## The Iris dataset in scikit-learn"
   ],
   "cell_type": "markdown",
   "metadata": {}
  },
  {
   "cell_type": "code",
   "execution_count": null,
   "metadata": {},
   "outputs": [],
   "source": [
    "from sklearn import datasets\n",
    "import pandas as pd\n",
    "import numpy as np\n",
    "import matplotlib.pyplot as plt\n",
    "plt.style.use('ggplot')\n",
    "iris = datasets.load_iris()\n",
    "type(iris)"
   ]
  },
  {
   "cell_type": "code",
   "execution_count": null,
   "metadata": {},
   "outputs": [],
   "source": [
    "print(iris.key())"
   ]
  },
  {
   "cell_type": "code",
   "execution_count": null,
   "metadata": {},
   "outputs": [],
   "source": [
    "type(iris.data), type(iris.target)"
   ]
  },
  {
   "cell_type": "code",
   "execution_count": null,
   "metadata": {},
   "outputs": [],
   "source": [
    "iris.data.shape"
   ]
  },
  {
   "cell_type": "code",
   "execution_count": null,
   "metadata": {},
   "outputs": [],
   "source": [
    "iris.target_names"
   ]
  },
  {
   "source": [
    "## Exploratory data analysis (EDA)"
   ],
   "cell_type": "markdown",
   "metadata": {}
  },
  {
   "cell_type": "code",
   "execution_count": null,
   "metadata": {},
   "outputs": [],
   "source": [
    "X = iris.data\n",
    "y = iris.target\n",
    "df = pd.DataFrame(X, columns=iris.feature_names)\n",
    "print(df.head())"
   ]
  },
  {
   "source": [
    "## Visual EDA"
   ],
   "cell_type": "markdown",
   "metadata": {}
  },
  {
   "source": [
    "_ = pd.plotting.scatter_matrix(df, c=y, figsize=[8, 8], s=150, marker='D')\n",
    "\n",
    "<img src=\"image/Screenshot 2021-02-01 141551.png\">"
   ],
   "cell_type": "markdown",
   "metadata": {}
  },
  {
   "cell_type": "code",
   "execution_count": null,
   "metadata": {},
   "outputs": [],
   "source": [
    "# Exercise II: Numerical EDA\n",
    "\n",
    "In this chapter, you'll be working with a dataset obtained from the [UCI Machine Learning Repository](https://archive.ics.uci.edu/ml/datasets/Congressional+Voting+Records) consisting of votes made by US House of Representatives Congressmen. Your goal will be to predict their party affiliation ('Democrat' or 'Republican') based on how they voted on certain key issues. Here, it's worth noting that we have preprocessed this dataset to deal with missing values. This is so that your focus can be directed towards understanding how to train and evaluate supervised learning models. Once you have mastered these fundamentals, you will be introduced to preprocessing techniques in Chapter 4 and have the chance to apply them there yourself - including on this very same dataset!\n",
    "\n",
    "Before thinking about what supervised learning models you can apply to this, however, you need to perform Exploratory data analysis (EDA) in order to understand the structure of the data. For a refresher on the importance of EDA, check out the first two chapters of [Statistical Thinking in Python (Part 1)](https://learn.datacamp.com/courses/statistical-thinking-in-python-part-1).\n",
    "\n",
    "Get started with your EDA now by exploring this voting records dataset numerically. It has been pre-loaded for you into a DataFrame called df. Use pandas' `.head()`, `.info()`, and `.describe()` methods in the IPython Shell to explore the DataFrame, and select the statement below that is not true.\n",
    "\n",
    "### Instructions\n",
    "    \n",
    "- The DataFrame has a total of `435` rows and `17` columns.\n",
    "- Except for `'party'`, all of the columns are of type `int64`.\n",
    "- The first two rows of the DataFrame consist of votes made by Republicans and the next three rows consist of votes made by Democrats.\n",
    "- There are 17 predictor variables, or features, in this DataFrame. (T)\n",
    "- The target variable in this DataFrame is `'party'`."
   ]
  },
  {
   "source": [
    "# Exercise III: Visual EDA\n",
    "\n",
    "The Numerical EDA you did in the previous exercise gave you some very important information, such as the names and data types of the columns, and the dimensions of the DataFrame. Following this with some visual EDA will give you an even better understanding of the data. In the video, Hugo used the `scatter_matrix()` function on the Iris data for this purpose. However, you may have noticed in the previous exercise that all the features in this dataset are binary; that is, they are either 0 or 1. So a different type of plot would be more useful here, such as [Seaborn's](http://seaborn.pydata.org/generated/seaborn.countplot.html) `countplot`.\n",
    "\n",
    "Given on the right is a `countplot` of the `'education'` bill, generated from the following code:\n",
    "\n",
    "```\n",
    "plt.figure()\n",
    "sns.countplot(x='education', hue='party', data=df, palette='RdBu')\n",
    "plt.xticks([0,1], ['No', 'Yes'])\n",
    "plt.show()\n",
    "```\n",
    "\n",
    "In `sns.countplot()`, we specify the x-axis data to be `'education'`, and hue to be `'party'`. Recall that `'party'` is also our target variable. So the resulting plot shows the difference in voting behavior between the two parties for the `'education'` bill, with each party colored differently. We manually specified the color to be `'RdBu'`, as the Republican party has been traditionally associated with red, and the Democratic party with blue.\n",
    "\n",
    "It seems like Democrats voted resoundingly against this bill, compared to Republicans. This is the kind of information that our machine learning model will seek to learn when we try to predict party affiliation solely based on voting behavior. An expert in U.S politics may be able to predict this without machine learning, but probably not instantaneously - and certainly not if we are dealing with hundreds of samples!\n",
    "\n",
    "In the IPython Shell, explore the voting behavior further by generating countplots for the `'satellite'` and `'missile'` bills, and answer the following question: Of these two bills, for which ones do Democrats vote resoundingly in favor of, compared to Republicans? Be sure to begin your plotting statements for each figure with `plt.figure()` so that a new figure will be set up. Otherwise, your plots will be overlayed onto the same figure.\n",
    "\n",
    "<img src=\"image/2021-02-01-143554.svg\" width=50%>\n",
    "\n",
    "### Instructions\n",
    "\n",
    "- `'satellite'`.\n",
    "- `'missile'`.\n",
    "- Both `'satellite'` and `'missile'`. (T)\n",
    "- Neither `'satellite'` nor `'missile'`."
   ],
   "cell_type": "markdown",
   "metadata": {}
  }
 ]
}