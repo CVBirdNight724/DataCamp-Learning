{
 "metadata": {
  "language_info": {
   "codemirror_mode": {
    "name": "ipython",
    "version": 3
   },
   "file_extension": ".py",
   "mimetype": "text/x-python",
   "name": "python",
   "nbconvert_exporter": "python",
   "pygments_lexer": "ipython3",
   "version": 3
  },
  "orig_nbformat": 2
 },
 "nbformat": 4,
 "nbformat_minor": 2,
 "cells": [
  {
   "source": [
    "# Classification\n",
    "\n",
    "In this chapter, you will be introduced to classification problems and learn how to solve them using supervised learning techniques. And you’ll apply what you learn to a political dataset, where you classify the party affiliation of United States congressmen based on their voting records. "
   ],
   "cell_type": "markdown",
   "metadata": {}
  },
  {
   "source": [
    "# (1) Supervised learning \n",
    "\n",
    "## What is machine learning?\n",
    "- The art and science of:\n",
    "    - Giving computers the ability to learn to make decisions from data\n",
    "    - without being explicitly prgrammed\n",
    "- Examples:\n",
    "    - Learning to predict whether an email is spam or not\n",
    "    - Clustering wikipedia entries into different categories\n",
    "- Supervised learning: Uses labeled data\n",
    "- Unsupervised learning: Uses unlabeled data\n",
    "\n",
    "## Unsupervised learning\n",
    "- Uncovering hidden patterns from unlabeled data\n",
    "- Example:\n",
    "    - Grouping customers into distinct categories (Clustering)\n",
    "\n",
    "## Reinforcement learning\n",
    "- Software agents interact with an environment\n",
    "    - Learn how to optimize their behavior\n",
    "    - Given a system of rewards and punishments\n",
    "    - Draws inspiration from behavioral psychology\n",
    "- Applications\n",
    "    - Economics\n",
    "    - Genetics\n",
    "    - Game playing\n",
    "- AlphaGo: First computer to defeat the world champion in Go\n",
    "\n",
    "## Supervised Learning\n",
    "- Predictot variables/features and a target variable\n",
    "- Aim: Predict the target variable, given the predictor variables\n",
    "    - Classification: Target variable consists\n",
    "    - Regression: Target variable is continuous\n",
    "\n",
    "<img src=\"image/Screenshot 2021-02-01 130537.png\">\n",
    "\n",
    "## Naming conventions\n",
    "- Features = predictor variables = independent variables\n",
    "- Target variable = dependent variable = response variable\n",
    "\n",
    "## Supervised learning\n",
    "- Automate time-consuming or expensive manual tasks\n",
    "    - Example: Doctor's diagnosis\n",
    "- Make predictions about the future\n",
    "    - Example: Will a customer click on an ad or not\n",
    "- Need labeled data\n",
    "    - Historical data with labeled data\n",
    "    - Experiments to get labeled data\n",
    "    - Crowd-sourcing labeled data\n",
    "\n",
    "## Supervised learning in Python\n",
    "- We will use scikit-learn/sklearn\n",
    "    - Integrates well with the SciPy\n",
    "- Other libraries\n",
    "    - TensorFlow\n",
    "    - keras"
   ],
   "cell_type": "markdown",
   "metadata": {}
  },
  {
   "source": [
    "# Exercise I: Which of these is a classification problem?\n",
    "\n",
    "Once you decide to leverage supervised machine learning to solve a new problem, you need to identify whether your problem is better suited to classification or regression. This exercise will help you develop your intuition for distinguishing between the two.\n",
    "\n",
    "Provided below are 4 example applications of machine learning. Which of them is a supervised classification problem?\n",
    "\n",
    "### Instructions\n",
    "\n",
    "- Using labeled financial data to predict whether the value of a stock will go up or go down next week. (T)\n",
    "\n",
    "- Using labeled housing price data to predict the price of a new house based on various features.\n",
    "\n",
    "- Using unlabeled data to cluster the students of an online education company into different categories based on their learning styles.\n",
    "\n",
    "- Using labeled financial data to predict what the value of a stock will be next week."
   ],
   "cell_type": "markdown",
   "metadata": {}
  }
 ]
}