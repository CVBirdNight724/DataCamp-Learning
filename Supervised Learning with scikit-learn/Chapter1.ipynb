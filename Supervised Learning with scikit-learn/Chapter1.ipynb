{
 "metadata": {
  "language_info": {
   "codemirror_mode": {
    "name": "ipython",
    "version": 3
   },
   "file_extension": ".py",
   "mimetype": "text/x-python",
   "name": "python",
   "nbconvert_exporter": "python",
   "pygments_lexer": "ipython3",
   "version": 3
  },
  "orig_nbformat": 2
 },
 "nbformat": 4,
 "nbformat_minor": 2,
 "cells": [
  {
   "source": [
    "# Classification\n",
    "\n",
    "In this chapter, you will be introduced to classification problems and learn how to solve them using supervised learning techniques. And you’ll apply what you learn to a political dataset, where you classify the party affiliation of United States congressmen based on their voting records. "
   ],
   "cell_type": "markdown",
   "metadata": {}
  },
  {
   "source": [
    "# (1) Supervised learning \n",
    "\n",
    "## What is machine learning?\n",
    "- The art and science of:\n",
    "    - Giving computers the ability to learn to make decisions from data\n",
    "    - without being explicitly prgrammed\n",
    "- Examples:\n",
    "    - Learning to predict whether an email is spam or not\n",
    "    - Clustering wikipedia entries into different categories\n",
    "- Supervised learning: Uses labeled data\n",
    "- Unsupervised learning: Uses unlabeled data\n",
    "\n",
    "## Unsupervised learning\n",
    "- Uncovering hidden patterns from unlabeled data\n",
    "- Example:\n",
    "    - Grouping customers into distinct categories (Clustering)\n",
    "\n",
    "## Reinforcement learning\n",
    "- Software agents interact with an environment\n",
    "    - Learn how to optimize their behavior\n",
    "    - Given a system of rewards and punishments\n",
    "    - Draws inspiration from behavioral psychology\n",
    "- Applications\n",
    "    - Economics\n",
    "    - Genetics\n",
    "    - Game playing\n",
    "- AlphaGo: First computer to defeat the world champion in Go\n",
    "\n",
    "## Supervised Learning\n",
    "- Predictot variables/features and a target variable\n",
    "- Aim: Predict the target variable, given the predictor variables\n",
    "    - Classification: Target variable consists\n",
    "    - Regression: Target variable is continuous\n",
    "\n",
    "<img src=\"image/Screenshot 2021-02-01 130537.png\">\n",
    "\n",
    "## Naming conventions\n",
    "- Features = predictor variables = independent variables\n",
    "- Target variable = dependent variable = response variable\n",
    "\n",
    "## Supervised learning\n",
    "- Automate time-consuming or expensive manual tasks\n",
    "    - Example: Doctor's diagnosis\n",
    "- Make predictions about the future\n",
    "    - Example: Will a customer click on an ad or not\n",
    "- Need labeled data\n",
    "    - Historical data with labeled data\n",
    "    - Experiments to get labeled data\n",
    "    - Crowd-sourcing labeled data\n",
    "\n",
    "## Supervised learning in Python\n",
    "- We will use scikit-learn/sklearn\n",
    "    - Integrates well with the SciPy\n",
    "- Other libraries\n",
    "    - TensorFlow\n",
    "    - keras"
   ],
   "cell_type": "markdown",
   "metadata": {}
  },
  {
   "source": [
    "# Exercise I: Which of these is a classification problem?\n",
    "\n",
    "Once you decide to leverage supervised machine learning to solve a new problem, you need to identify whether your problem is better suited to classification or regression. This exercise will help you develop your intuition for distinguishing between the two.\n",
    "\n",
    "Provided below are 4 example applications of machine learning. Which of them is a supervised classification problem?\n",
    "\n",
    "### Instructions\n",
    "\n",
    "- Using labeled financial data to predict whether the value of a stock will go up or go down next week. (T)\n",
    "\n",
    "- Using labeled housing price data to predict the price of a new house based on various features.\n",
    "\n",
    "- Using unlabeled data to cluster the students of an online education company into different categories based on their learning styles.\n",
    "\n",
    "- Using labeled financial data to predict what the value of a stock will be next week."
   ],
   "cell_type": "markdown",
   "metadata": {}
  },
  {
   "source": [
    "# (2) Exploratory data analysis\n",
    "\n",
    "## The Iris dataset\n",
    "<img src=\"image/Screenshot 2021-02-01 135820.png\">\n",
    "\n",
    "Features:\n",
    "\n",
    "- Petal length\n",
    "- Petal width\n",
    "- Sepal length\n",
    "- Sepal width\n",
    "\n",
    "Target variable: Species\n",
    "\n",
    "- Versicolor\n",
    "- Virginica\n",
    "- Setosa\n",
    "\n",
    "## The Iris dataset in scikit-learn"
   ],
   "cell_type": "markdown",
   "metadata": {}
  },
  {
   "cell_type": "code",
   "execution_count": null,
   "metadata": {},
   "outputs": [],
   "source": [
    "from sklearn import datasets\n",
    "import pandas as pd\n",
    "import numpy as np\n",
    "import matplotlib.pyplot as plt\n",
    "plt.style.use('ggplot')\n",
    "iris = datasets.load_iris()\n",
    "type(iris)"
   ]
  },
  {
   "cell_type": "code",
   "execution_count": null,
   "metadata": {},
   "outputs": [],
   "source": [
    "print(iris.key())"
   ]
  },
  {
   "cell_type": "code",
   "execution_count": null,
   "metadata": {},
   "outputs": [],
   "source": [
    "type(iris.data), type(iris.target)"
   ]
  },
  {
   "cell_type": "code",
   "execution_count": null,
   "metadata": {},
   "outputs": [],
   "source": [
    "iris.data.shape"
   ]
  },
  {
   "cell_type": "code",
   "execution_count": null,
   "metadata": {},
   "outputs": [],
   "source": [
    "iris.target_names"
   ]
  },
  {
   "source": [
    "## Exploratory data analysis (EDA)"
   ],
   "cell_type": "markdown",
   "metadata": {}
  },
  {
   "cell_type": "code",
   "execution_count": null,
   "metadata": {},
   "outputs": [],
   "source": [
    "X = iris.data\n",
    "y = iris.target\n",
    "df = pd.DataFrame(X, columns=iris.feature_names)\n",
    "print(df.head())"
   ]
  },
  {
   "source": [
    "## Visual EDA"
   ],
   "cell_type": "markdown",
   "metadata": {}
  },
  {
   "source": [
    "_ = pd.plotting.scatter_matrix(df, c=y, figsize=[8, 8], s=150, marker='D')\n",
    "\n",
    "<img src=\"image/Screenshot 2021-02-01 141551.png\">"
   ],
   "cell_type": "markdown",
   "metadata": {}
  },
  {
   "cell_type": "code",
   "execution_count": null,
   "metadata": {},
   "outputs": [],
   "source": [
    "# Exercise II: Numerical EDA\n",
    "\n",
    "In this chapter, you'll be working with a dataset obtained from the [UCI Machine Learning Repository](https://archive.ics.uci.edu/ml/datasets/Congressional+Voting+Records) consisting of votes made by US House of Representatives Congressmen. Your goal will be to predict their party affiliation ('Democrat' or 'Republican') based on how they voted on certain key issues. Here, it's worth noting that we have preprocessed this dataset to deal with missing values. This is so that your focus can be directed towards understanding how to train and evaluate supervised learning models. Once you have mastered these fundamentals, you will be introduced to preprocessing techniques in Chapter 4 and have the chance to apply them there yourself - including on this very same dataset!\n",
    "\n",
    "Before thinking about what supervised learning models you can apply to this, however, you need to perform Exploratory data analysis (EDA) in order to understand the structure of the data. For a refresher on the importance of EDA, check out the first two chapters of [Statistical Thinking in Python (Part 1)](https://learn.datacamp.com/courses/statistical-thinking-in-python-part-1).\n",
    "\n",
    "Get started with your EDA now by exploring this voting records dataset numerically. It has been pre-loaded for you into a DataFrame called df. Use pandas' `.head()`, `.info()`, and `.describe()` methods in the IPython Shell to explore the DataFrame, and select the statement below that is not true.\n",
    "\n",
    "### Instructions\n",
    "    \n",
    "- The DataFrame has a total of `435` rows and `17` columns.\n",
    "- Except for `'party'`, all of the columns are of type `int64`.\n",
    "- The first two rows of the DataFrame consist of votes made by Republicans and the next three rows consist of votes made by Democrats.\n",
    "- There are 17 predictor variables, or features, in this DataFrame. (T)\n",
    "- The target variable in this DataFrame is `'party'`."
   ]
  },
  {
   "source": [
    "# Exercise III: Visual EDA\n",
    "\n",
    "The Numerical EDA you did in the previous exercise gave you some very important information, such as the names and data types of the columns, and the dimensions of the DataFrame. Following this with some visual EDA will give you an even better understanding of the data. In the video, Hugo used the `scatter_matrix()` function on the Iris data for this purpose. However, you may have noticed in the previous exercise that all the features in this dataset are binary; that is, they are either 0 or 1. So a different type of plot would be more useful here, such as [Seaborn's](http://seaborn.pydata.org/generated/seaborn.countplot.html) `countplot`.\n",
    "\n",
    "Given on the right is a `countplot` of the `'education'` bill, generated from the following code:\n",
    "\n",
    "```\n",
    "plt.figure()\n",
    "sns.countplot(x='education', hue='party', data=df, palette='RdBu')\n",
    "plt.xticks([0,1], ['No', 'Yes'])\n",
    "plt.show()\n",
    "```\n",
    "\n",
    "In `sns.countplot()`, we specify the x-axis data to be `'education'`, and hue to be `'party'`. Recall that `'party'` is also our target variable. So the resulting plot shows the difference in voting behavior between the two parties for the `'education'` bill, with each party colored differently. We manually specified the color to be `'RdBu'`, as the Republican party has been traditionally associated with red, and the Democratic party with blue.\n",
    "\n",
    "It seems like Democrats voted resoundingly against this bill, compared to Republicans. This is the kind of information that our machine learning model will seek to learn when we try to predict party affiliation solely based on voting behavior. An expert in U.S politics may be able to predict this without machine learning, but probably not instantaneously - and certainly not if we are dealing with hundreds of samples!\n",
    "\n",
    "In the IPython Shell, explore the voting behavior further by generating countplots for the `'satellite'` and `'missile'` bills, and answer the following question: Of these two bills, for which ones do Democrats vote resoundingly in favor of, compared to Republicans? Be sure to begin your plotting statements for each figure with `plt.figure()` so that a new figure will be set up. Otherwise, your plots will be overlayed onto the same figure.\n",
    "\n",
    "<img src=\"image/2021-02-01-143554.svg\" width=50%>\n",
    "\n",
    "### Instructions\n",
    "\n",
    "- `'satellite'`.\n",
    "- `'missile'`.\n",
    "- Both `'satellite'` and `'missile'`. (T)\n",
    "- Neither `'satellite'` nor `'missile'`."
   ],
   "cell_type": "markdown",
   "metadata": {}
  },
  {
   "source": [
    "# (3) The classification Challenge\n",
    "\n",
    "## k-Nearest Neighbors\n",
    "- Basic idea: Predict the label of a data point by\n",
    "    - Looking at the 'k' closet labeled data points\n",
    "    - Taking a majority vote\n",
    "\n",
    "<img src=\"image/Screenshot 2021-02-01 145737.png\">\n",
    "\n",
    "## k-NN: Intuition\n",
    "\n",
    "<img src=\"image/Screenshot 2021-02-01 145831.png\">\n",
    "\n",
    "## Scikit-learn fit and predict\n",
    "- All machine learning models implemented as Python classes\n",
    "    - They implement the algorithm for learning and predicting\n",
    "    - Store the information learned from the data\n",
    "- Training a model on the data = 'fitting' a model to the data\n",
    "    - '.fit()' method\n",
    "\n",
    "## Using scikit-learn to fit a classifier"
   ],
   "cell_type": "markdown",
   "metadata": {}
  },
  {
   "cell_type": "code",
   "execution_count": null,
   "metadata": {},
   "outputs": [],
   "source": [
    "from sklearn.neighbors import KNeighborsClassifier\n",
    "knn = KNeighborsClassifier(n_neighbors=6)\n",
    "knn.fit(iris['data'], iris['target'])"
   ]
  },
  {
   "cell_type": "code",
   "execution_count": null,
   "metadata": {},
   "outputs": [],
   "source": [
    "iris['data'].shape"
   ]
  },
  {
   "cell_type": "code",
   "execution_count": null,
   "metadata": {},
   "outputs": [],
   "source": [
    "iris['target'].shape"
   ]
  },
  {
   "source": [
    "## Predicting on unlabeled data"
   ],
   "cell_type": "markdown",
   "metadata": {}
  },
  {
   "cell_type": "code",
   "execution_count": null,
   "metadata": {},
   "outputs": [],
   "source": [
    "X_new = np.array([[5.6, 2.8, 3.9, 1.1],\n",
    "                [5.7, 2.6, 3.8, 1.3],\n",
    "                [4.7, 3.2, 1.3, 0.2]])\n",
    "\n",
    "prediction = knn.predict(X_new)\n",
    "X_new.shape"
   ]
  },
  {
   "cell_type": "code",
   "execution_count": null,
   "metadata": {},
   "outputs": [],
   "source": [
    "print('Prediction: {}'.foramt(prediction))"
   ]
  },
  {
   "source": [
    "# Exercise IV: k-Nearest Neighbors: Fit\n",
    "\n",
    "Having explored the Congressional voting records dataset, it is time now to build your first classifier. In this exercise, you will fit a k-Nearest Neighbors classifier to the voting dataset, which has once again been pre-loaded for you into a DataFrame `df`.\n",
    "\n",
    "In the video, Hugo discussed the importance of ensuring your data adheres to the format required by the scikit-learn API. The features need to be in an array where each column is a feature and each row a different observation or data point - in this case, a Congressman's voting record. The target needs to be a single column with the same number of observations as the feature data. We have done this for you in this exercise. Notice we named the feature array `X` and response variable `y`: This is in accordance with the common scikit-learn practice.\n",
    "\n",
    "Your job is to create an instance of a k-NN classifier with 6 neighbors (by specifying the `n_neighbors` parameter) and then fit it to the data. The data has been pre-loaded into a DataFrame called `df`.\n",
    "\n",
    "### Instructions\n",
    "\n",
    "- Import `KNeighborsClassifier` from `sklearn.neighbors`.\n",
    "- Create arrays `X` and `y` for the features and the target variable. Here this has been done for you. Note the use of `.drop()` to drop the target variable `'party'` from the feature array `X` as well as the use of the `.values` attribute to ensure `X` and `y` are NumPy arrays. Without using .values, X and y are a DataFrame and Series respectively; the scikit-learn API will accept them in this form also as long as they are of the right shape.\n",
    "- Instantiate a `KNeighborsClassifier` called `knn` with `6` neighbors by specifying the `n_neighbors` parameter.\n",
    "- Fit the classifier to the data using the `.fit()` method."
   ],
   "cell_type": "markdown",
   "metadata": {}
  },
  {
   "cell_type": "code",
   "execution_count": null,
   "metadata": {},
   "outputs": [],
   "source": [
    "# Import KNeighborsClassifier from sklearn.neighbors\n",
    "from sklearn.neighbors import KNeighborsClassifier\n",
    "\n",
    "# Create arrays for the features and the response variable\n",
    "y = df['party'].values\n",
    "X = df.drop('party', axis=1).values\n",
    "\n",
    "# Create a k-NN classifier with 6 neighbors\n",
    "knn = KNeighborsClassifier(n_neighbors=6)\n",
    "\n",
    "# Fit the classifier to the data\n",
    "knn.fit(X, y)\n"
   ]
  },
  {
   "source": [
    "# Exercise V: k-Nearest Neighbors: Predict\n",
    "\n",
    "Having fit a k-NN classifier, you can now use it to predict the label of a new data point. However, there is no unlabeled data available since all of it was used to fit the model! You can still use the `.predict()` method on the `X` that was used to fit the model, but it is not a good indicator of the model's ability to generalize to new, unseen data.\n",
    "\n",
    "In the next video, Hugo will discuss a solution to this problem. For now, a random unlabeled data point has been generated and is available to you as `X_new`. You will use your classifier to predict the label for this new data point, as well as on the training data `X` that the model has already seen. Using `.predict()` on `X_new` will generate 1 prediction, while using it on `X` will generate 435 predictions: 1 for each sample.\n",
    "\n",
    "The DataFrame has been pre-loaded as `df`. This time, you will create the feature array `X` and target variable array `y` yourself.\n",
    "\n",
    "### Instructions\n",
    "\n",
    "- Create arrays for the features and the target variable from `df`. As a reminder, the target variable is `'party'`.\n",
    "- Instantiate a `KNeighborsClassifier` with `6` neighbors.\n",
    "- Fit the classifier to the data.\n",
    "- Predict the labels of the training data, `X`.\n",
    "- Predict the label of the new data point `X_new`.\n"
   ],
   "cell_type": "markdown",
   "metadata": {}
  },
  {
   "cell_type": "code",
   "execution_count": null,
   "metadata": {},
   "outputs": [],
   "source": [
    "# Import KNeighborsClassifier from sklearn.neighbors\n",
    "from sklearn.neighbors import KNeighborsClassifier \n",
    "\n",
    "# Create arrays for the features and the response variable\n",
    "y = df['party']\n",
    "X = df.drop('party', axis=1).values\n",
    "\n",
    "# Create a k-NN classifier with 6 neighbors: knn\n",
    "knn = KNeighborsClassifier(n_neighbors=6)\n",
    "\n",
    "# Fit the classifier to the data\n",
    "knn.fit(X, y)\n",
    "\n",
    "# Predict the labels for the training data X\n",
    "y_pred = knn.predict(X)\n",
    "\n",
    "# Predict and print the label for the new data point X_new\n",
    "new_prediction = knn.predict(X_new)\n",
    "print(\"Prediction: {}\".format(new_prediction))\n"
   ]
  },
  {
   "source": [
    "# (4) Measuring model performance\n",
    "\n",
    "## Measuring model performance\n",
    "- In classification, accuracy is a commonly used metric\n",
    "- Accuracy = Fraction of correct predictions\n",
    "- Which data should be used to compute accuracy\n",
    "- How well will the model perform on new data?\n",
    "- Could compute accuracy on data used to fit classifier\n",
    "- NOT indicative of ability to generalize\n",
    "- Split data into training and test set\n",
    "- Fit/train the classifier on the training set\n",
    "- Make predictions on test set\n",
    "- Compare predictions with the known labels\n",
    "\n",
    "## Train/test split"
   ],
   "cell_type": "markdown",
   "metadata": {}
  },
  {
   "cell_type": "code",
   "execution_count": null,
   "metadata": {},
   "outputs": [],
   "source": [
    "from sklearn.model_selection import train_test_split\n",
    "X_train, X_test, y_train, y_test = train_test_split(X, y, test_size=0.3, random_state=21, stratify=y)\n",
    "knn = KNeighborsClassifier(n_neighbors=8)\n",
    "knn.fit(X_train, y_train)\n",
    "y_pred = knn.predict(X_test)\n",
    "print(\\\"Test set prediction:\\\\n {}\\\".format(y_pred))"
   ]
  },
  {
   "cell_type": "code",
   "execution_count": null,
   "metadata": {},
   "outputs": [],
   "source": [
    "knn.score(X_test, y_test)"
   ]
  },
  {
   "source": [
    "## Model complexity\n",
    "- Large k = smoother decision boundary = less complex model\n",
    "- Small k = more complex model = can lead to overfitting\n",
    "\n",
    "<img src=\"image/Screenshot 2021-02-01 163706.png\">\n",
    "\n",
    "## Model compexity and over/underfitting\n",
    "\n",
    "<ing src=\"image/Screenshot 2021-02-01 163829.png\">"
   ],
   "cell_type": "markdown",
   "metadata": {}
  },
  {
   "source": [
    "# Exercise VI: The digits recognition dataset\n",
    "\n",
    "Up until now, you have been performing binary classification, since the target variable had two possible outcomes. Hugo, however, got to perform multi-class classification in the videos, where the target variable could take on three possible outcomes. Why does he get to have all the fun?! In the following exercises, you'll be working with the [MNIST](http://yann.lecun.com/exdb/mnist/) digits recognition dataset, which has 10 classes, the digits 0 through 9! A reduced version of the MNIST dataset is one of scikit-learn's included datasets, and that is the one we will use in this exercise.\n",
    "\n",
    "Each sample in this scikit-learn dataset is an 8x8 image representing a handwritten digit. Each pixel is represented by an integer in the range 0 to 16, indicating varying levels of black. Recall that scikit-learn's built-in datasets are of type `Bunch`, which are dictionary-like objects. Helpfully for the MNIST dataset, scikit-learn provides an `'images'` key in addition to the `'data'` and `'target'` keys that you have seen with the Iris data. Because it is a 2D array of the images corresponding to each sample, this `'images'` key is useful for visualizing the images, as you'll see in this exercise (for more on plotting 2D arrays, see [Chapter 2](https://learn.datacamp.com/courses/introduction-to-data-visualization-with-python) of DataCamp's course on Data Visualization with Python). On the other hand, the `'data'` key contains the feature array - that is, the images as a flattened array of 64 pixels.\n",
    "\n",
    "Notice that you can access the keys of these `Bunch` objects in two different ways: By using the `.` notation, as in `digits.images`, or the `[]` notation, as in `digits['images']`.\n",
    "\n",
    "For more on the MNIST data, check out [this exercise](https://campus.datacamp.com/courses/importing-data-in-python-part-1/introduction-and-flat-files-1?ex=10) in Part 1 of DataCamp's Importing Data in Python course. There, the full version of the MNIST dataset is used, in which the images are 28x28. It is a famous dataset in machine learning and computer vision, and frequently used as a benchmark to evaluate the performance of a new model.\n",
    "\n",
    "### Instructions\n",
    "\n",
    "- Import `datasets` from `sklearn` and `matplotlib.pyplot` as `plt`.\n",
    "- Load the digits dataset using the `.load_digits()` method on `datasets`.\n",
    "- Print the keys and `DESCR` of digits.\n",
    "- Print the shape of `images` and `data` keys using the `.` notation.\n",
    "- Display the 1011th image using `plt.imshow()`. This has been done for you, so hit 'Submit Answer' to see which handwritten digit this happens to be!\n"
   ],
   "cell_type": "markdown",
   "metadata": {}
  },
  {
   "cell_type": "code",
   "execution_count": null,
   "metadata": {},
   "outputs": [],
   "source": [
    "# Import necessary modules\n",
    "from sklearn import datasets\n",
    "import matplotlib.pyplot as plt\n",
    "\n",
    "# Load the digits dataset: digits\n",
    "digits = datasets.load_digits()\n",
    "\n",
    "# Print the keys and DESCR of the dataset\n",
    "print(digits.keys())\n",
    "print(digits['DESCR'])\n",
    "\n",
    "# Print the shape of the images and data keys\n",
    "print(digits.images.shape)\n",
    "print(digits.data.shape)\n",
    "\n",
    "# Display digit 1010\n",
    "plt.imshow(digits.images[1010], cmap=plt.cm.gray_r, interpolation='nearest')\n",
    "plt.show()"
   ]
  },
  {
   "source": [
    "<img src=\"image/2021-02-01-175732.svg\" width=50%>"
   ],
   "cell_type": "markdown",
   "metadata": {}
  },
  {
   "source": [
    "# Exercise VII: Train/Test Split + Fit/Predict/Accuracy\n",
    "\n",
    "Now that you have learned about the importance of splitting your data into training and test sets, it's time to practice doing this on the digits dataset! After creating arrays for the features and target variable, you will split them into training and test sets, fit a k-NN classifier to the training data, and then compute its accuracy using the `.score()` method.\n",
    "\n",
    "### Instructions\n",
    "\n",
    "- Import `KNeighborsClassifier` from `sklearn.neighbors` and `train_test_split` from `sklearn.model_selection`.\n",
    "- Create an array for the features using `digits.data` and an array for the target using `digits.target`.\n",
    "- Create stratified training and test sets using `0.2` for the size of the test set. Use a random state of `42`. Stratify the split according to the labels so that they are distributed in the training and test sets as they are in the original dataset.\n",
    "- Create a k-NN classifier with `7` neighbors and fit it to the training data.\n",
    "- Compute and print the accuracy of the classifier's predictions using the `.score()` method.\n"
   ],
   "cell_type": "markdown",
   "metadata": {}
  },
  {
   "cell_type": "code",
   "execution_count": null,
   "metadata": {},
   "outputs": [],
   "source": [
    "# Import necessary modules\n",
    "from sklearn.neighbors import KNeighborsClassifier\n",
    "from sklearn.model_selection import train_test_split\n",
    "\n",
    "# Create feature and target arrays\n",
    "X = digits.data\n",
    "y = digits.target\n",
    "\n",
    "# Split into training and test set\n",
    "X_train, X_test, y_train, y_test = train_test_split(X, y, test_size = 0.2, random_state=42, stratify=y)\n",
    "\n",
    "# Create a k-NN classifier with 7 neighbors: knn\n",
    "knn = KNeighborsClassifier(n_neighbors=7)\n",
    "\n",
    "# Fit the classifier to the training data\n",
    "knn.fit(X_train, y_train)\n",
    "\n",
    "# Print the accuracy\n",
    "print(knn.score(X_test, y_test))\n"
   ]
  },
  {
   "source": [
    "# Exercise VIII: Overfitting and underfitting\n",
    "\n",
    "Remember the model complexity curve that Hugo showed in the video? You will now construct such a curve for the digits dataset! In this exercise, you will compute and plot the training and testing accuracy scores for a variety of different neighbor values. By observing how the accuracy scores differ for the training and testing sets with different values of k, you will develop your intuition for overfitting and underfitting.\n",
    "\n",
    "The training and testing sets are available to you in the workspace as `X_train`, `X_test`, `y_train`, `y_test`. In addition, `KNeighborsClassifier` has been imported from `sklearn.neighbors`.\n",
    "\n",
    "### Instructions\n",
    "Inside the for loop:\n",
    "\n",
    "- Setup a k-NN classifier with the number of neighbors equal to `k`.\n",
    "- Fit the classifier with `k` neighbors to the training data.\n",
    "- Compute accuracy scores the training set and test set separately using the `.score()` method and assign the results to the `train_accuracy` and `test_accuracy` arrays respectively."
   ],
   "cell_type": "markdown",
   "metadata": {}
  },
  {
   "cell_type": "code",
   "execution_count": null,
   "metadata": {},
   "outputs": [],
   "source": [
    "# Setup arrays to store train and test accuracies\n",
    "neighbors = np.arange(1, 9)\n",
    "train_accuracy = np.empty(len(neighbors))\n",
    "test_accuracy = np.empty(len(neighbors))\n",
    "\n",
    "# Loop over different values of k\n",
    "for i, k in enumerate(neighbors):\n",
    "    # Setup a k-NN Classifier with k neighbors: knn\n",
    "    knn = KNeighborsClassifier(n_neighbors=k)\n",
    "\n",
    "    # Fit the classifier to the training data\n",
    "    knn.fit(X_train, y_train)\n",
    "    \n",
    "    #Compute accuracy on the training set\n",
    "    train_accuracy[i] = knn.score(X_train, y_train)\n",
    "\n",
    "    #Compute accuracy on the testing set\n",
    "    test_accuracy[i] = knn.score(X_test, y_test)\n",
    "\n",
    "# Generate plot\n",
    "plt.title('k-NN: Varying Number of Neighbors')\n",
    "plt.plot(neighbors, test_accuracy, label = 'Testing Accuracy')\n",
    "plt.plot(neighbors, train_accuracy, label = 'Training Accuracy')\n",
    "plt.legend()\n",
    "plt.xlabel('Number of Neighbors')\n",
    "plt.ylabel('Accuracy')\n",
    "plt.show()\n"
   ]
  },
  {
   "source": [
    "## Plot\n",
    "\n",
    "<img src=\"image/2021-02-01-170805.svg\" width=50%>"
   ],
   "cell_type": "markdown",
   "metadata": {}
  }
 ]
}