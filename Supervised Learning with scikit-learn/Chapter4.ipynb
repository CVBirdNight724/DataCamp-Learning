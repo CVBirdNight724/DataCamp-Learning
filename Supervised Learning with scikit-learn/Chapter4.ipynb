{
 "metadata": {
  "language_info": {
   "codemirror_mode": {
    "name": "ipython",
    "version": 3
   },
   "file_extension": ".py",
   "mimetype": "text/x-python",
   "name": "python",
   "nbconvert_exporter": "python",
   "pygments_lexer": "ipython3",
   "version": "3.7.7-final"
  },
  "orig_nbformat": 2,
  "kernelspec": {
   "name": "python3",
   "display_name": "Python 3",
   "language": "python"
  }
 },
 "nbformat": 4,
 "nbformat_minor": 2,
 "cells": [
  {
   "source": [
    "# Preprocessing and pipelines\n",
    "\n",
    "This chapter introduces pipelines, and how scikit-learn allows for transformers and estimators to be chained together and used as a single unit. Preprocessing techniques will be introduced as a way to enhance model performance, and pipelines will tie together concepts from previous chapters."
   ],
   "cell_type": "markdown",
   "metadata": {}
  },
  {
   "source": [
    "# (1) Preprocessing data\n",
    "\n",
    "## Dealing with categorical features\n",
    "- Scikit-learn will not accept categorical features by default\n",
    "- Need to encode categoriacal features numerically\n",
    "- Convert to 'dummy variables'\n",
    "    - 0: Observation was NOT that category\n",
    "    - 1: Observation was that category\n",
    "\n",
    "## Dummy variables\n",
    "\n",
    "<img src=\"image/Screenshot 2021-02-03 011255.png\" width=50%>\n",
    "\n",
    "## Dealing with categorical features in Python\n",
    "- scikit-learn: OneHotEncoder()\n",
    "- pandas: get_dummies()\n",
    "\n",
    "## Automobile dataset\n",
    "- mpg: Target variable\n",
    "- Origin: Categorical Feature\n",
    "\n",
    "<img src=\"image/Screenshot 2021-02-03 011715.png\">\n",
    "\n",
    "## EDA w/ categorical feature\n",
    "\n",
    "<img src=\"image/Screenshot 2021-02-03 012441.png\">\n",
    "\n",
    "## Encoding dummy variables"
   ],
   "cell_type": "markdown",
   "metadata": {}
  },
  {
   "cell_type": "code",
   "execution_count": null,
   "metadata": {},
   "outputs": [],
   "source": [
    "import pandas as pd\n",
    "df = pd.read_csv('auto.csv')\n",
    "df_origin = pd.get_dummiers(df)\n",
    "print(df_origin.head())"
   ]
  },
  {
   "cell_type": "code",
   "execution_count": null,
   "metadata": {},
   "outputs": [],
   "source": [
    "df_origin = df.origin.drop('origin_Asia', axis=1)\n",
    "print(df_origin.head())"
   ]
  },
  {
   "source": [
    "## Linear regression with dummy variables"
   ],
   "cell_type": "markdown",
   "metadata": {}
  },
  {
   "cell_type": "code",
   "execution_count": null,
   "metadata": {},
   "outputs": [],
   "source": [
    "from sklearn.model_selection import train_test_split\n",
    "from sklearn.linear_model import Ridge"
   ]
  },
  {
   "cell_type": "code",
   "execution_count": null,
   "metadata": {},
   "outputs": [],
   "source": [
    "X_train, X_test, y_train, y_test = train_test_split(X, y, test_size=0.3, random_state=42)"
   ]
  },
  {
   "cell_type": "code",
   "execution_count": null,
   "metadata": {},
   "outputs": [],
   "source": [
    "ridge = Ridge(alpha=0.5, normalize=True).fit(X_train, y_train)"
   ]
  },
  {
   "cell_type": "code",
   "execution_count": null,
   "metadata": {},
   "outputs": [],
   "source": [
    "ridge.score(X_test, y_test)"
   ]
  },
  {
   "source": [
    "# Exercise I: Exploring categorical features\n",
    "\n",
    "The Gapminder dataset that you worked with in previous chapters also contained a categorical `'Region'` feature, which we dropped in previous exercises since you did not have the tools to deal with it. Now however, you do, so we have added it back in!\n",
    "\n",
    "Your job in this exercise is to explore this feature. Boxplots are particularly useful for visualizing categorical features such as this.\n",
    "\n",
    "### Instructions\n",
    "\n",
    "- Import `pandas` as `pd`.\n",
    "- Read the CSV file `'gapminder.csv'` into a DataFrame called `df`.\n",
    "- Use pandas to create a boxplot showing the variation of life expectancy (`'life'`) by region (`'Region'`). To do so, pass the column names in to `df.boxplot()` (in that order).\n"
   ],
   "cell_type": "markdown",
   "metadata": {}
  },
  {
   "source": [
    "# Import pandas\n",
    "import pandas as pd\n",
    "\n",
    "# Read 'gapminder.csv' into a DataFrame: df\n",
    "df = pd.read_csv('gapminder.csv')\n",
    "\n",
    "# Create a boxplot of life expectancy per region\n",
    "df.boxplot('life', 'Region', rot=60)\n",
    "\n",
    "# Show the plot\n",
    "plt.show()\n"
   ],
   "cell_type": "code",
   "metadata": {},
   "execution_count": null,
   "outputs": []
  },
  {
   "source": [
    "<img src=\"image/2021-02-03-014227.svg\" width=50%>"
   ],
   "cell_type": "markdown",
   "metadata": {}
  },
  {
   "source": [
    "# Exercise II: Creating dummy variables\n",
    "\n",
    "As Andy discussed in the video, scikit-learn does not accept non-numerical features. You saw in the previous exercise that the `'Region'` feature contains very useful information that can predict life expectancy. For example, Sub-Saharan Africa has a lower life expectancy compared to Europe and Central Asia. Therefore, if you are trying to predict life expectancy, it would be preferable to retain the `'Region'` feature. To do this, you need to binarize it by creating dummy variables, which is what you will do in this exercise.\n",
    "\n",
    "### Instructions\n",
    "\n",
    "- Use the pandas `get_dummies()` function to create dummy variables from the `df` DataFrame. Store the result as `df_region`.\n",
    "- Print the columns of `df_region`. This has been done for you.\n",
    "- Use the `get_dummies()` function again, this time specifying `drop_first=True` to drop the unneeded dummy variable (in this case, `'Region_America'`).\n",
    "- Hit 'Submit Answer to print the new columns of `df_region` and take note of how one column was dropped!\n"
   ],
   "cell_type": "markdown",
   "metadata": {}
  },
  {
   "cell_type": "code",
   "execution_count": null,
   "metadata": {},
   "outputs": [],
   "source": [
    "# Create dummy variables: df_region\n",
    "df_region = pd.get_dummies(df)\n",
    "\n",
    "# Print the columns of df_region\n",
    "print(df_region.columns)\n",
    "\n",
    "# Create dummy variables with drop_first=True: df_region\n",
    "df_region = pd.get_dummies(df, drop_first=True)\n",
    "\n",
    "# Print the new columns of df_region\n",
    "print(df_region.columns)\n"
   ]
  },
  {
   "source": [
    "# Exercise III: Regression with categorical features\n",
    "\n",
    "Having created the dummy variables from the `'Region'` feature, you can build regression models as you did before. Here, you'll use ridge regression to perform 5-fold cross-validation.\n",
    "\n",
    "The feature array `X` and target variable array `y` have been pre-loaded.\n",
    "\n",
    "### Instructions\n",
    "\n",
    "- Import `Ridge` from `sklearn.linear_model` and `cross_val_score` from `sklearn.model_selection`.\n",
    "- Instantiate a ridge regressor called `ridge` with `alpha=0.5` and `normalize=True`.\n",
    "- Perform 5-fold cross-validation on `X` and `y` using the `cross_val_score()` function.\n",
    "- Print the cross-validated scores.\n"
   ],
   "cell_type": "markdown",
   "metadata": {}
  },
  {
   "cell_type": "code",
   "execution_count": null,
   "metadata": {},
   "outputs": [],
   "source": [
    "# Import necessary modules\n",
    "from sklearn.linear_model import Ridge\n",
    "from sklearn.model_selection import cross_val_score\n",
    "\n",
    "# Instantiate a ridge regressor: ridge\n",
    "ridge = Ridge(alpha=0.5, normalize=True)\n",
    "\n",
    "# Perform 5-fold cross-validation: ridge_cv\n",
    "ridge_cv = cross_val_score(ridge, X, y, cv=5)\n",
    "\n",
    "# Print the cross-validated scores\n",
    "print(ridge_cv)\n"
   ]
  },
  {
   "source": [
    "# (2) Handling missing data\n",
    "\n",
    "## PIMA Indians dataset"
   ],
   "cell_type": "markdown",
   "metadata": {}
  },
  {
   "cell_type": "code",
   "execution_count": null,
   "metadata": {},
   "outputs": [],
   "source": [
    "df = pd.read_csv('diabetes.csv')\n",
    "df.info"
   ]
  },
  {
   "cell_type": "code",
   "execution_count": null,
   "metadata": {},
   "outputs": [],
   "source": [
    "print(df.head())"
   ]
  },
  {
   "cell_type": "code",
   "execution_count": null,
   "metadata": {},
   "outputs": [],
   "source": [
    "df.insulin.replace(0, np.nan, inplace=True)\n",
    "df.triceps.replace(0, np.nan, inplace=True)\n",
    "df.bmi.replace(0, np.nan, inplace=True)\n",
    "df.info()"
   ]
  },
  {
   "source": [
    "## Dropping missing data"
   ],
   "cell_type": "markdown",
   "metadata": {}
  },
  {
   "cell_type": "code",
   "execution_count": null,
   "metadata": {},
   "outputs": [],
   "source": [
    "df = df.dropna()\n",
    "df.shape"
   ]
  },
  {
   "cell_type": "code",
   "execution_count": null,
   "metadata": {},
   "outputs": [],
   "source": [
    "## Imputing missing data\n",
    "- Making an educated guess about the missing values\n",
    "- Example: Using the mean of the non-missing entries"
   ]
  },
  {
   "cell_type": "code",
   "execution_count": null,
   "metadata": {},
   "outputs": [],
   "source": [
    "from sklearn.preprocessing import Imputer\n",
    "imp = Imputer(missing_values='NaN', strategy='mean', axis=0)\n",
    "imp.fit(X)\n",
    "X = imp.transform(X)"
   ]
  },
  {
   "source": [
    "## Imputing within a pipeline"
   ],
   "cell_type": "markdown",
   "metadata": {}
  },
  {
   "cell_type": "code",
   "execution_count": null,
   "metadata": {},
   "outputs": [],
   "source": [
    "from sklearn.pipeline import Pipeline\n",
    "from sklearn.preprocessing import Imputer\n",
    "imp = Imputer(missing_values='NaN', strategy='mean', axis=0)\n",
    "logreg = LogisticRegression()\n",
    "steps = [('imputation', imp), ('logistic_regression', logreg)]\n",
    "pipeline = Pipeline(steps)\n",
    "X_train, X_test, y_train, y_test = train_test_split(X, y, test_size=0.3, random_state=42)"
   ]
  },
  {
   "cell_type": "code",
   "execution_count": null,
   "metadata": {},
   "outputs": [],
   "source": [
    "pipeline.fit(X_train, y_train)\n",
    "y_pred = pipeline.predict(X_test)\n",
    "pipeline.score(X_test, y_test)"
   ]
  },
  {
   "source": [
    "# Exercise IV: Dropping missing data \n",
    "\n",
    "The voting dataset from Chapter 1 contained a bunch of missing values that we dealt with for you behind the scenes. Now, it's time for you to take care of these yourself!\n",
    "\n",
    "The unprocessed dataset has been loaded into a DataFrame `df`. Explore it in the IPython Shell with the `.head()` method. You will see that there are certain data points labeled with a `'?'`. These denote missing values. As you saw in the video, different datasets encode missing values in different ways. Sometimes it may be a `'9999'`, other times a `0` - real-world data can be very messy! If you're lucky, the missing values will already be encoded as `NaN`. We use `NaN` because it is an efficient and simplified way of internally representing missing data, and it lets us take advantage of pandas methods such as `.dropna()` and `.fillna()`, as well as scikit-learn's Imputation transformer `Imputer()`.\n",
    "\n",
    "In this exercise, your job is to convert the `'?'`s to NaNs, and then drop the rows that contain them from the DataFrame.\n",
    "\n",
    "### Instructions\n",
    "\n",
    "- Explore the DataFrame `df` in the IPython Shell. Notice how the missing value is represented.\n",
    "- Convert all `'?'` data points to `np.nan`.\n",
    "- Count the total number of NaNs using the `.isnull()` and `.sum()` methods. This has been done for you.\n",
    "- Drop the rows with missing values from `df` using `.dropna()`.\n",
    "- Hit 'Submit Answer' to see how many rows were lost by dropping the missing values.\n"
   ],
   "cell_type": "markdown",
   "metadata": {}
  },
  {
   "cell_type": "code",
   "execution_count": null,
   "metadata": {},
   "outputs": [],
   "source": [
    "# Convert '?' to NaN\n",
    "df[df == '?'] = np.nan\n",
    "\n",
    "# Print the number of NaNs\n",
    "print(df.isnull().sum())\n",
    "\n",
    "# Print shape of original DataFrame\n",
    "print(\"Shape of Original DataFrame: {}\".format(df.shape))\n",
    "\n",
    "# Drop missing values and print shape of new DataFrame\n",
    "df = df.dropna()\n",
    "\n",
    "# Print shape of new DataFrame\n",
    "print(\"Shape of DataFrame After Dropping All Rows with Missing Values: {}\".format(df.shape))\n"
   ]
  },
  {
   "source": [
    "# Exercise V: Imputing missing data in a ML Pipeline I\n",
    "\n",
    "As you've come to appreciate, there are many steps to building a model, from creating training and test sets, to fitting a classifier or regressor, to tuning its parameters, to evaluating its performance on new data. Imputation can be seen as the first step of this machine learning process, the entirety of which can be viewed within the context of a pipeline. Scikit-learn provides a pipeline constructor that allows you to piece together these steps into one process and thereby simplify your workflow.\n",
    "\n",
    "You'll now practice setting up a pipeline with two steps: the imputation step, followed by the instantiation of a classifier. You've seen three classifiers in this course so far: k-NN, logistic regression, and the decision tree. You will now be introduced to a fourth one - the Support Vector Machine, or SVM. For now, do not worry about how it works under the hood. It works exactly as you would expect of the scikit-learn estimators that you have worked with previously, in that it has the same `.fit()` and `.predict()` methods as before.\n",
    "\n",
    "### Instructions\n",
    "\n",
    "- Import `Imputer` from `sklearn.preprocessing` and `SVC` from `sklearn.svm`. SVC stands for Support Vector Classification, which is a type of SVM.\n",
    "- Setup the Imputation transformer to impute missing data (represented as `'NaN'`) with the `'most_frequent'` value in the column (`axis=0`).\n",
    "- Instantiate a `SVC` classifier. Store the result in `clf`.\n",
    "- Create the steps of the pipeline by creating a list of tuples:\n",
    "    - The first tuple should consist of the imputation step, using `imp`.\n",
    "    - The second should consist of the classifier.\n"
   ],
   "cell_type": "markdown",
   "metadata": {}
  },
  {
   "cell_type": "code",
   "execution_count": null,
   "metadata": {},
   "outputs": [],
   "source": [
    "# Import the Imputer module\n",
    "from sklearn.preprocessing import Imputer\n",
    "from sklearn.svm import SVC\n",
    "\n",
    "# Setup the Imputation transformer: imp\n",
    "imp = Imputer(missing_values='NaN', strategy='most_frequent', axis=0)\n",
    "\n",
    "# Instantiate the SVC classifier: clf\n",
    "clf = SVC()\n",
    "\n",
    "# Setup the pipeline with the required steps: steps\n",
    "steps = [('imputation', imp),\n",
    "        ('SVM', clf)]"
   ]
  },
  {
   "source": [
    "# Exercise VI: Imputing missing data in a ML Pipeline II\n",
    "\n",
    "Having setup the steps of the pipeline in the previous exercise, you will now use it on the voting dataset to classify a Congressman's party affiliation. What makes pipelines so incredibly useful is the simple interface that they provide. You can use the `.fit()` and `.predict()` methods on pipelines just as you did with your classifiers and regressors!\n",
    "\n",
    "Practice this for yourself now and generate a classification report of your predictions. The steps of the pipeline have been set up for you, and the feature array `X` and target variable array `y` have been pre-loaded. Additionally, `train_test_split` and `classification_report` have been imported from `sklearn.model_selection` and `sklearn.metrics` respectively.\n",
    "\n",
    "### Instructions\n",
    "\n",
    "- Import the following modules:\n",
    "    - `Imputer` from `sklearn.preprocessing` and `Pipeline` from `sklearn.pipeline`.\n",
    "    - `SVC` from `sklearn.svm`.\n",
    "- Create the pipeline using `Pipeline()` and `steps`.\n",
    "- Create training and test sets. Use 30% of the data for testing and a random state of `42`.\n",
    "- Fit the pipeline to the training set and predict the labels of the test set.\n",
    "- Compute the classification report.\n"
   ],
   "cell_type": "markdown",
   "metadata": {}
  },
  {
   "cell_type": "code",
   "execution_count": null,
   "metadata": {},
   "outputs": [],
   "source": [
    "# Import necessary modules\n",
    "from sklearn.preprocessing import Imputer\n",
    "from sklearn.pipeline import Pipeline\n",
    "from sklearn.svm import SVC\n",
    "\n",
    "# Setup the pipeline steps: steps\n",
    "steps = [('imputation', Imputer(missing_values='NaN', strategy='most_frequent', axis=0)),\n",
    "        ('SVM', SVC())]\n",
    "\n",
    "# Create the pipeline: pipeline\n",
    "pipeline =Pipeline(steps)\n",
    "\n",
    "# Create training and test sets\n",
    "X_train, X_test, y_train, y_test = train_test_split(X, y, test_size=0.3, random_state=42)\n",
    "\n",
    "# Fit the pipeline to the train set\n",
    "pipeline.fit(X_train, y_train)\n",
    "\n",
    "# Predict the labels of the test set\n",
    "y_pred = pipeline.predict(X_test)\n",
    "\n",
    "# Compute metrics\n",
    "print(classification_report(y_test, y_pred))\n"
   ]
  },
  {
   "source": [
    "# (3) Centering and scaling \n",
    "\n",
    "## Why scale your data?"
   ],
   "cell_type": "markdown",
   "metadata": {}
  },
  {
   "cell_type": "code",
   "execution_count": null,
   "metadata": {},
   "outputs": [],
   "source": [
    "print(df.describe())"
   ]
  },
  {
   "source": [
    "- Many models use some form of distance to inform them\n",
    "- Features on larger can unduly influence the model\n",
    "- Example: k-NN uses distance explicitly when making predictions\n",
    "- We want features to be on a similar scale\n",
    "- Normalizing (or scaling and centering)\n",
    "\n",
    "## Ways to normalize your data\n",
    "- Standardization: Subtract the mean and divide by variance\n",
    "- All features are centered around zero and have variance one\n",
    "- Can also subtract the minimum and divide by the range\n",
    "- Minimum zero and maximum one\n",
    "- Can also normalize so the data ranges from -1 to +1\n",
    "- See scikit-learn docs for further details\n",
    "\n",
    "## Scaling in scikit-learn"
   ],
   "cell_type": "markdown",
   "metadata": {}
  },
  {
   "cell_type": "code",
   "execution_count": null,
   "metadata": {},
   "outputs": [],
   "source": [
    "from sklearn.preprocessing import scale\n",
    "X_scaled = scale(X)"
   ]
  },
  {
   "cell_type": "code",
   "execution_count": null,
   "metadata": {},
   "outputs": [],
   "source": [
    "np.mean(X), np.std(X)"
   ]
  },
  {
   "cell_type": "code",
   "execution_count": null,
   "metadata": {},
   "outputs": [],
   "source": [
    "np.mean(X_scaled), np.std(X_scaled)"
   ]
  },
  {
   "source": [
    "## Scaling in a pipeline"
   ],
   "cell_type": "markdown",
   "metadata": {}
  },
  {
   "cell_type": "code",
   "execution_count": null,
   "metadata": {},
   "outputs": [],
   "source": [
    "from sklearn.preprocessing import StandardScaler"
   ]
  },
  {
   "cell_type": "code",
   "execution_count": null,
   "metadata": {},
   "outputs": [],
   "source": [
    "steps = [('scaler', StandardScaler()),\n",
    "        ('knn', KNeighborsClassifier())]\n",
    "pipeline = Pipeline(steps)\n",
    "X_train, X_test, y_train, y_test = train_test_split(X, y, test_size=0.2, random_state=21)\n",
    "knn_scaled = pipeline.fit(X_train, y_train)\n",
    "y_pred = pipeline.predict(X_test)\n",
    "accuracy_score(y_test, y_pred)"
   ]
  },
  {
   "cell_type": "code",
   "execution_count": null,
   "metadata": {},
   "outputs": [],
   "source": [
    "knn_unscaled = KNeighborsClassifier().fit(X_train, y_train)\n",
    "knn_unscaled.score(X_test, y_test)"
   ]
  },
  {
   "source": [
    "## CV and scaling in a pipeline"
   ],
   "cell_type": "markdown",
   "metadata": {}
  },
  {
   "cell_type": "code",
   "execution_count": null,
   "metadata": {},
   "outputs": [],
   "source": [
    "steps = [('scaler', StandardScaler()),\n",
    "        ('knn', KNeighborsClassifier())]\n",
    "pipeline = pipeline(steps)\n",
    "parameters = {knn_neighbors: np.arange(1, 50)}\n",
    "X_train, X_test, y_train, y_test = train_test_split(X, y, test_size=0.2, random_state=21)\n",
    "cv = GridSearchCV(pipeline, param_grid=parameters)\n",
    "cv.fit(X_train, y_train)\n",
    "y_pred = cv.predict(X_test)"
   ]
  },
  {
   "source": [
    "## Scaling and CV in a pipeline"
   ],
   "cell_type": "markdown",
   "metadata": {}
  },
  {
   "cell_type": "code",
   "execution_count": null,
   "metadata": {},
   "outputs": [],
   "source": [
    "print(cv.best_params_)"
   ]
  },
  {
   "cell_type": "code",
   "execution_count": null,
   "metadata": {},
   "outputs": [],
   "source": [
    "print(cv.score(X_test, y_test))"
   ]
  },
  {
   "cell_type": "code",
   "execution_count": null,
   "metadata": {},
   "outputs": [],
   "source": [
    "print(classification_report(y_test, y_pred))"
   ]
  },
  {
   "source": [
    "# Exercise VII: Centering and scaling your data\n",
    "\n",
    "In the video, Hugo demonstrated how significantly the performance of a model can improve if the features are scaled. Note that this is not always the case: In the Congressional voting records dataset, for example, all of the features are binary. In such a situation, scaling will have minimal impact.\n",
    "\n",
    "You will now explore scaling for yourself on a new dataset - [White Wine Quality](https://archive.ics.uci.edu/ml/datasets/Wine+Quality)! Hugo used the Red Wine Quality dataset in the video. We have used the `'quality'` feature of the wine to create a binary target variable: If `'quality'` is less than `5`, the target variable is `1`, and otherwise, it is `0`.\n",
    "\n",
    "The DataFrame has been pre-loaded as `df`, along with the feature and target variable arrays `X` and `y`. Explore it in the IPython Shell. Notice how some features seem to have different units of measurement. `'density'`, for instance, takes values between 0.98 and 1.04, while `'total sulfur dioxide'` ranges from 9 to 440. As a result, it may be worth scaling the features here. Your job in this exercise is to scale the features and compute the mean and standard deviation of the unscaled features compared to the scaled features.\n",
    "\n",
    "### Instructions\n",
    "\n",
    "- Import `scale` from `sklearn.preprocessing`.\n",
    "- Scale the features `X` using `scale()`.\n",
    "- Print the mean and standard deviation of the unscaled features `X`, and then the scaled features `X_scaled`. Use the numpy functions `np.mean()` and `np.std()` to compute the mean and standard deviations.\n"
   ],
   "cell_type": "markdown",
   "metadata": {}
  },
  {
   "cell_type": "code",
   "execution_count": null,
   "metadata": {},
   "outputs": [],
   "source": [
    "# Import scale\n",
    "from sklearn.preprocessing import scale\n",
    "\n",
    "# Scale the features: X_scaled\n",
    "X_scaled = scale(X)\n",
    "\n",
    "# Print the mean and standard deviation of the unscaled features\n",
    "print(\"Mean of Unscaled Features: {}\".format(np.mean(X))) \n",
    "print(\"Standard Deviation of Unscaled Features: {}\".format(np.std(X)))\n",
    "\n",
    "# Print the mean and standard deviation of the scaled features\n",
    "print(\"Mean of Scaled Features: {}\".format(np.mean(X_scaled))) \n",
    "print(\"Standard Deviation of Scaled Features: {}\".format(np.std(X_scaled)))"
   ]
  },
  {
   "source": [
    "# Exercise VIII: Centering and scaling in a pipeline\n",
    "\n",
    "With regard to whether or not scaling is effective, the proof is in the pudding! See for yourself whether or not scaling the features of the White Wine Quality dataset has any impact on its performance. You will use a k-NN classifier as part of a pipeline that includes scaling, and for the purposes of comparison, a k-NN classifier trained on the unscaled data has been provided.\n",
    "\n",
    "The feature array and target variable array have been pre-loaded as `X` and `y`. Additionally, `KNeighborsClassifier` and `train_test_split` have been imported from `sklearn.neighbors` and `sklearn.model_selection`, respectively.\n",
    "\n",
    "### Instructions\n",
    "\n",
    "- Import the following modules:\n",
    "    - `StandardScaler` from `sklearn.preprocessing`.\n",
    "    - `Pipeline` from `sklearn.pipeline`.\n",
    "- Complete the steps of the pipeline with `StandardScaler()` for `'scaler'` and `KNeighborsClassifier()` for `'knn'`.\n",
    "- Create the pipeline using `Pipeline()` and `steps`.\n",
    "- Create training and test sets, with 30% used for testing. Use a random state of `42`.\n",
    "- Fit the pipeline to the training set.\n",
    "- Compute the accuracy scores of the scaled and unscaled models by using the `.score()` method inside the provided `print()` functions.\n"
   ],
   "cell_type": "markdown",
   "metadata": {}
  },
  {
   "cell_type": "code",
   "execution_count": null,
   "metadata": {},
   "outputs": [],
   "source": [
    "# Import the necessary modules\n",
    "from sklearn.preprocessing import StandardScaler\n",
    "from sklearn.pipeline import Pipeline\n",
    "\n",
    "# Setup the pipeline steps: steps\n",
    "steps = [('scaler', StandardScaler()),\n",
    "        ('knn', KNeighborsClassifier())]\n",
    "        \n",
    "# Create the pipeline: pipeline\n",
    "pipeline = Pipeline(steps)\n",
    "\n",
    "# Create train and test sets\n",
    "X_train, X_test, y_train, y_test = train_test_split(X, y, test_size=0.3, random_state=42)\n",
    "\n",
    "# Fit the pipeline to the training set: knn_scaled\n",
    "knn_scaled = pipeline.fit(X_train, y_train)\n",
    "\n",
    "# Instantiate and fit a k-NN classifier to the unscaled data\n",
    "knn_unscaled = KNeighborsClassifier().fit(X_train, y_train)\n",
    "\n",
    "# Compute and print metrics\n",
    "print('Accuracy with Scaling: {}'.format(knn_scaled.score(X_test, y_test)))\n",
    "print('Accuracy without Scaling: {}'.format(knn_unscaled.score(X_test, y_test)))\n"
   ]
  },
  {
   "source": [
    "# Exercise IX: Bringing it all together I: Pipeline for classification\n",
    "\n",
    "It is time now to piece together everything you have learned so far into a pipeline for classification! Your job in this exercise is to build a pipeline that includes scaling and hyperparameter tuning to classify wine quality.\n",
    "\n",
    "You'll return to using the SVM classifier you were briefly introduced to earlier in this chapter. The hyperparameters you will tune are $C$ and $gamma$. $C$ controls the regularization strength. It is analogous to the $C$ you tuned for logistic regression in Chapter 3, while\n",
    "\n",
    "controls the kernel coefficient: Do not worry about this now as it is beyond the scope of this course.\n",
    "\n",
    "The following modules and functions have been pre-loaded: `Pipeline`, `SVC`, `train_test_split`, `GridSearchCV`, `classification_report`, `accuracy_score`. The feature and target variable arrays `X` and `y` have also been pre-loaded.\n",
    "\n",
    "### Instructions\n",
    "\n",
    "- Setup the pipeline with the following steps:\n",
    "    - Scaling, called `'scaler'` with `StandardScaler()`.\n",
    "    - Classification, called `'SVM'` with `SVC()`.\n",
    "- Specify the hyperparameter space using the following notation: `'step_name__parameter_name'`. Here, the `step_name` is `SVM`, and the `parameter_names` are `C` and `gamma`.\n",
    "- Create training and test sets, with 20% of the data used for the test set. Use a random state of `21`.\n",
    "- Instantiate `GridSearchCV` with the pipeline and hyperparameter space and fit it to the training set. Use 3-fold cross-validation (This is the default, so you don't have to specify it).\n",
    "- Predict the labels of the test set and compute the metrics. The metrics have been computed for you.\n"
   ],
   "cell_type": "markdown",
   "metadata": {}
  },
  {
   "cell_type": "code",
   "execution_count": null,
   "metadata": {},
   "outputs": [],
   "source": [
    "# Setup the pipeline\n",
    "steps = [('scaler', StandardScaler()),\n",
    "         ('SVM', SVC())]\n",
    "\n",
    "pipeline = Pipeline(steps)\n",
    "\n",
    "# Specify the hyperparameter space\n",
    "parameters = {'SVM__C':[1, 10, 100],\n",
    "              'SVM__gamma':[0.1, 0.01]}\n",
    "\n",
    "# Create train and test sets\n",
    "X_train, X_test, y_train, y_test = train_test_split(X, y, test_size=0.2, random_state=21)\n",
    "\n",
    "# Instantiate the GridSearchCV object: cv\n",
    "cv = GridSearchCV(pipeline, parameters, cv=3)\n",
    "\n",
    "# Fit to the training set\n",
    "cv.fit(X_train, y_train)\n",
    "\n",
    "# Predict the labels of the test set: y_pred\n",
    "y_pred = cv.predict(X_test)\n",
    "\n",
    "# Compute and print metrics\n",
    "print(\"Accuracy: {}\".format(cv.score(X_test, y_test)))\n",
    "print(classification_report(y_test, y_pred))\n",
    "print(\"Tuned Model Parameters: {}\".format(cv.best_params_))\n"
   ]
  },
  {
   "source": [
    "# Exercise X: Bringing it all together II: Pipeline for regression\n",
    "\n",
    "For this final exercise, you will return to the Gapminder dataset. Guess what? Even this dataset has missing values that we dealt with for you in earlier chapters! Now, you have all the tools to take care of them yourself!\n",
    "\n",
    "Your job is to build a pipeline that imputes the missing data, scales the features, and fits an ElasticNet to the Gapminder data. You will then tune the `l1_ratio` of your ElasticNet using GridSearchCV.\n",
    "\n",
    "All the necessary modules have been imported, and the feature and target variable arrays have been pre-loaded as `X` and `y`.\n",
    "\n",
    "### Instructions\n",
    "\n",
    "- Set up a pipeline with the following steps:\n",
    "    - `'imputation'`, which uses the `Imputer()` transformer and the `'mean'` strategy to impute missing data (`'NaN'`) using the mean of the column.\n",
    "    - `'scaler'`, which scales the features using `StandardScaler()`.\n",
    "    - `'elasticnet'`, which instantiates an `ElasticNet()` regressor.\n",
    "- Specify the hyperparameter space for the $l1$ ratio using the following notation: `'step_name__parameter_name'`. Here, the step_name is `elasticnet`, and the `parameter_name` is `l1_ratio`.\n",
    "- Create training and test sets, with 40% of the data used for the test set. Use a random state of `42`.\n",
    "- Instantiate `GridSearchCV` with the pipeline and hyperparameter space. Use 3-fold cross-validation (This is the default, so you don't have to specify it).\n",
    "- Fit the `GridSearchCV` object to the training set.\n",
    "- Compute $R^2$ and the best parameters. This has been done for you, so hit 'Submit Answer' to see the results!"
   ],
   "cell_type": "markdown",
   "metadata": {}
  },
  {
   "cell_type": "code",
   "execution_count": null,
   "metadata": {},
   "outputs": [],
   "source": [
    "# Setup the pipeline steps: steps\n",
    "steps = [('imputation', Imputer(missing_values='NaN', strategy='mean', axis=0)),\n",
    "         ('scaler', StandardScaler()),\n",
    "         ('elasticnet', ElasticNet())]\n",
    "\n",
    "# Create the pipeline: pipeline \n",
    "pipeline = Pipeline(steps)\n",
    "\n",
    "# Specify the hyperparameter space\n",
    "parameters = {'elasticnet__l1_ratio' :np.linspace(0,1,30)}\n",
    "\n",
    "# Create train and test sets\n",
    "X_train, X_test, y_train, y_test = train_test_split(X, y, test_size=0.4, random_state=42)\n",
    "\n",
    "# Create the GridSearchCV object: gm_cv\n",
    "gm_cv = GridSearchCV(pipeline, parameters, cv=3)\n",
    "\n",
    "# Fit to the training set\n",
    "gm_cv.fit(X_train, y_train)\n",
    "\n",
    "# Compute and print the metrics\n",
    "r2 = gm_cv.score(X_test, y_test)\n",
    "print(\"Tuned ElasticNet Alpha: {}\".format(gm_cv.best_params_))\n",
    "print(\"Tuned ElasticNet R squared: {}\".format(r2))\n"
   ]
  },
  {
   "source": [
    "# Final thoughts\n",
    "\n",
    "## What you're learned\n",
    "- Using machine learning techniques to build predictive models\n",
    "- For both regression and classification problems\n",
    "- With real-world data\n",
    "- Underfitting and overfitting\n",
    "- Test-train split\n",
    "- Cross-validation\n",
    "- Grid search\n",
    "\n",
    "## Whay you're learned\n",
    "- Regularization, lasso and ridge regression\n",
    "- Data preprocessing\n",
    "- For more: Check out the scikit-learn documentation\n",
    "\n",
    "<img src=\"image/Screenshot 2021-02-03 040743.png\" width=40%>"
   ],
   "cell_type": "markdown",
   "metadata": {}
  }
 ]
}