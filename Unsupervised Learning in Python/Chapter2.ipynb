{
 "metadata": {
  "language_info": {
   "codemirror_mode": {
    "name": "ipython",
    "version": 3
   },
   "file_extension": ".py",
   "mimetype": "text/x-python",
   "name": "python",
   "nbconvert_exporter": "python",
   "pygments_lexer": "ipython3",
   "version": 3
  },
  "orig_nbformat": 2
 },
 "nbformat": 4,
 "nbformat_minor": 2,
 "cells": [
  {
   "source": [
    "# Visualization with hierarchical clustering and t-SNE\n",
    "\n",
    "In this chapter, you'll learn about two unsupervised learning techniques for data visualization, hierarchical clustering and t-SNE. Hierarchical clustering merges the data samples into ever-coarser clusters, yielding a tree visualization of the resulting cluster hierarchy. t-SNE maps the data samples into 2d space so that the proximity of the samples to one another can be visualized."
   ],
   "cell_type": "markdown",
   "metadata": {}
  },
  {
   "source": [
    "# (1) Visualizing hierarchies\n",
    "\n",
    "## Visualizations communicate insight\n",
    "- \"t-SNE\": Creates a 2D map of a dataset (later)\n",
    "- \"Hierarchical clustering\" (this video)\n",
    "\n",
    "## A hierarchy of groups\n",
    "- Groups of living things can form a hierarchy\n",
    "- Clusters are contained in one another\n",
    "\n",
    "<p align='center'>\n",
    "    <img src='image/Screenshot 2021-02-18 235251.png'>\n",
    "</p>\n",
    "\n",
    "## Eurovision scoring dataset\n",
    "- Countries gave scores to songs performed at the Eurovision 2016\n",
    "- 2D array of scores\n",
    "- Rows are countries, columns are songs\n",
    "\n",
    "<p align='center'>\n",
    "    <img src='image/Screenshot 2021-02-18 235505.png'>\n",
    "</p>\n",
    "\n",
    "## Hierarchical clustering of voting countries\n",
    "<p align='center'>\n",
    "    <img src='image/Screenshot 2021-02-18 235628.png'>\n",
    "</p>\n",
    "\n",
    "## Hierarchical clustering\n",
    "- Every country begins in a separate cluster\n",
    "- At each step, the two closet clusters are merged\n",
    "- Continue until all countries in a single cluster\n",
    "- This is \"agglomerative\" hierarchical clustering\n",
    "\n",
    "## The dendrogram of a hierarchical clustering\n",
    "- Read from the bottom up\n",
    "- Vertical lines represent clusters\n",
    "\n",
    "<p align='center'>\n",
    "    <img src='image/Screenshot 2021-02-19 000009.png'>\n",
    "</p>\n",
    "\n",
    "## Hierarchical clustering with SciPy\n",
    "- Given `samples` (the array of scores), and `country_names`"
   ],
   "cell_type": "markdown",
   "metadata": {}
  },
  {
   "cell_type": "code",
   "execution_count": null,
   "metadata": {},
   "outputs": [],
   "source": [
    "import matplotlib.pyplot as plt\n",
    "from scipy.cluster.hierarchy import linkage, dendrogram\n",
    "mergings = linkage(samples, method='complete')\n",
    "dendrogram(mergins, \n",
    "            labels=country_names, \n",
    "            leaf_rotation=90,\n",
    "            leaf_font_size=6)\n",
    "plt.show()"
   ]
  },
  {
   "source": [
    "# Exercise I: How many merges?\n",
    "\n",
    "If there are 5 data samples, how many merge operations will occur in a hierarchical clustering? (To help answer this question, think back to the video, in which Ben walked through an example of hierarchical clustering using 6 countries.)\n",
    "\n",
    "### Possible Answers\n",
    "- 4 merges (T)\n",
    "- 3 merges\n",
    "- This can't be known in advance"
   ],
   "cell_type": "markdown",
   "metadata": {}
  },
  {
   "source": [
    "# Exercise II: Hierarchical clustering of the grain data\n",
    "\n",
    "In the video, you learned that the SciPy `linkage()` function performs hierarchical clustering on an array of samples. Use the `linkage()` function to obtain a hierarchical clustering of the grain samples, and use `dendrogram()` to visualize the result. A sample of the grain measurements is provided in the array `samples`, while the variety of each grain sample is given by the list `varieties`.\n",
    "\n",
    "### Instructions\n",
    "\n",
    "- Import:\n",
    "    - `linkage` and `dendrogram` from `scipy.cluster.hierarchy`.\n",
    "    - matplotlib.pyplot as plt.\n",
    "- Perform hierarchical clustering on `samples` using the `linkage()` function with the `method='complete'` keyword argument. Assign the result to `mergings`.\n",
    "- Plot a dendrogram using the `dendrogram()` function on `mergings`. Specify the keyword arguments `labels=varieties`, `leaf_rotation=90`, and `leaf_font_size=6`.\n"
   ],
   "cell_type": "markdown",
   "metadata": {}
  },
  {
   "cell_type": "code",
   "execution_count": null,
   "metadata": {},
   "outputs": [],
   "source": [
    "# Perform the necessary imports\n",
    "from scipy.cluster.hierarchy import linkage, dendrogram\n",
    "import matplotlib.pyplot as plt\n",
    "\n",
    "# Calculate the linkage: mergings\n",
    "mergings = linkage(samples, method='complete')\n",
    "\n",
    "# Plot the dendrogram, using varieties as labels\n",
    "dendrogram(mergings,\n",
    "           labels=varieties,\n",
    "           leaf_rotation=90,\n",
    "           leaf_font_size=6,\n",
    ")\n",
    "plt.show()\n"
   ]
  },
  {
   "source": [
    "## Plot\n",
    "\n",
    "<p align='center'>\n",
    "    <img src='image/[2021-02-19] 013215.svg'>\n",
    "</p>"
   ],
   "cell_type": "markdown",
   "metadata": {}
  },
  {
   "source": [
    "# Exercise III: Hierarchies of stocks\n",
    "\n",
    "In chapter 1, you used k-means clustering to cluster companies according to their stock price movements. Now, you'll perform hierarchical clustering of the companies. You are given a NumPy array of price movements `movements`, where the rows correspond to companies, and a list of the company names `companies`. SciPy hierarchical clustering doesn't fit into a sklearn pipeline, so you'll need to use the `normalize()` function from `sklearn.preprocessing` instead of `Normalizer`.\n",
    "\n",
    "`linkage` and `dendrogram` have already been imported from `scipy.cluster.hierarchy`, and PyPlot has been imported as `plt`.\n",
    "\n",
    "### Instructions\n",
    "\n",
    "- Import `normalize` from `sklearn.preprocessing`.\n",
    "- Rescale the price movements for each stock by using the `normalize()` function on `movements`.\n",
    "- Apply the `linkage()` function to `normalized_movements`, using `'complete'` linkage, to calculate the hierarchical clustering. Assign the result to `mergings`.\n",
    "- Plot a dendrogram of the hierarchical clustering, using the list `companies` of company names as the `labels`. In addition, specify the `leaf_rotation=90`, and `leaf_font_size=6` keyword arguments as you did in the previous exercise.\n"
   ],
   "cell_type": "markdown",
   "metadata": {}
  },
  {
   "cell_type": "code",
   "execution_count": null,
   "metadata": {},
   "outputs": [],
   "source": [
    "# Import normalize\n",
    "from sklearn.preprocessing import normalize\n",
    "\n",
    "# Normalize the movements: normalized_movements\n",
    "normalized_movements = normalize(movements)\n",
    "\n",
    "# Calculate the linkage: mergings\n",
    "mergings = linkage(normalized_movements, method='complete')\n",
    "\n",
    "# Plot the dendrogram\n",
    "dendrogram(mergings, labels=companies, leaf_rotation=90, leaf_font_size=6)\n",
    "plt.show()\n"
   ]
  },
  {
   "source": [
    "## Plot\n",
    "\n",
    "<p align='center'>\n",
    "    <img src='image/[2021-02-19] 014008.svg'>\n",
    "</p>"
   ],
   "cell_type": "markdown",
   "metadata": {}
  },
  {
   "source": [
    "# (2) Cluster labels in hierarchical clustering\n",
    "\n",
    "## Cluster labels in hierarchical clustering\n",
    "- Not only a visualization tool!\n",
    "- Cluster labels at any intermediate stage can be recovered\n",
    "- For use in e.h. cross-tabulations\n",
    "\n",
    "<p align='center'>\n",
    "    <img src='image/Screenshot 2021-02-18 235628.png'>\n",
    "</p>\n",
    "\n",
    "## Intermediate clusterings & height on dendrogram\n",
    "- E.g. at height 15:\n",
    "    - Bulgaria, Cyprus, Greece are one cluster\n",
    "    - Russia and Moldova are another\n",
    "    - Armenia in a cluster on its own\n",
    "\n",
    "<p align='center'>\n",
    "    <img src='image/Screenshot 2021-02-19 125814.png'>\n",
    "</p>\n",
    "\n",
    "## Dendrograms show cluster distances\n",
    "- Height on dendrogram = distance between merging clusters\n",
    "- E.g. clusters with only Cyprus with only Cyprus and Greece had distance approx. 6\n",
    "- This new cluster distance approx. 12 from cluster with only Bulgaria\n",
    "\n",
    "<p align='center'>\n",
    "    <img src='image/Screenshot 2021-02-19 130115.png'>\n",
    "</p>\n",
    "\n",
    "## Intermediate clusterings & height on dendrogram\n",
    "- Height on dendrogram specifies max. distance between merging clusters\n",
    "- Don't merge clusters further apart than this (e.g. 15)\n",
    "\n",
    "## Distance between clusters\n",
    "- Defined by a \"linkage method\"\n",
    "- In \"complete\" linkage: distance between clusters is max distance between their smaples\n",
    "- Specified via method parameter, e.g. linkage (samples, method=\"complete\")\n",
    "- Different linkage method, different hierarchical clustering!\n",
    "\n",
    "## Extracting cluster labels\n",
    "- Use the `fcluster()` function\n",
    "- Returns a NumPy array of cluster labels\n",
    "\n",
    "## Extracting cluster labels using fcluster"
   ],
   "cell_type": "markdown",
   "metadata": {}
  },
  {
   "cell_type": "code",
   "execution_count": null,
   "metadata": {},
   "outputs": [],
   "source": [
    "from scipy.cluster.hierarchy import linkage\n",
    "mergings = linkage(samples, method='complete')\n",
    "from scipy.cluster.hierarchy import fcluster\n",
    "labels = fcluster(mergings, 15, criterion='distance')\n",
    "print(labels)"
   ]
  },
  {
   "source": [
    "## Aligning clster labels with country names\n",
    "Given a list of strings `country_names`:"
   ],
   "cell_type": "markdown",
   "metadata": {}
  },
  {
   "cell_type": "code",
   "execution_count": null,
   "metadata": {},
   "outputs": [],
   "source": [
    "import pandas as pd\n",
    "pair = pd.DataFrame({'labels': labels, 'countries': country_names})\n",
    "print(pairs.sort_values('labels'))"
   ]
  },
  {
   "source": [
    "# Exercise IV: Which clusters are closet?\n",
    "\n",
    "In the video, you learned that the linkage method defines how the distance between clusters is measured. In complete linkage, the distance between clusters is the distance between the furthest points of the clusters. In single linkage, the distance between clusters is the distance between the closest points of the clusters.\n",
    "\n",
    "Consider the three clusters in the diagram. Which of the following statements are true?\n",
    "\n",
    "<p align='center'>\n",
    "    <img src='image/cluster_linkage_riddle.png' width=50%>\n",
    "</p>\n",
    "\n",
    "**A.** In single linkage, Cluster 3 is the closest to Cluster 2.\n",
    "\n",
    "**B.** In complete linkage, Cluster 1 is the closest to Cluster 2.\n",
    "\n",
    "### Answer the question\n",
    "\n",
    "Possible Answers\n",
    "\n",
    "- Neither A nor B.\n",
    "- A only.  \n",
    "- Both A and B. (T)"
   ],
   "cell_type": "markdown",
   "metadata": {}
  },
  {
   "source": [
    "# Exercise V: Different linkage, different hierarchical clustering!\n",
    "\n",
    "In the video, you saw a hierarchical clustering of the voting countries at the Eurovision song contest using `'complete'` linkage. Now, perform a hierarchical clustering of the voting countries with `'single'` linkage, and compare the resulting dendrogram with the one in the video. Different linkage, different hierarchical clustering!\n",
    "\n",
    "You are given an array `samples`. Each row corresponds to a voting country, and each column corresponds to a performance that was voted for. The list `country_names` gives the name of each voting country. This dataset was obtained from [Eurovision](www.eurovision.tv/page/results).\n",
    "\n",
    "### Instructions\n",
    "\n",
    "- Import `linkage` and `dendrogram` from `scipy.cluster.hierarchy`.\n",
    "- Perform hierarchical clustering on `samples` using the `linkage()` function with the `method='single'` keyword argument. Assign the result to `mergings`.\n",
    "- Plot a dendrogram of the hierarchical clustering, using the list `country_names` as the `labels`. In addition, specify the `leaf_rotation=90`, and `leaf_font_size=6` keyword arguments as you have done earlier.\n"
   ],
   "cell_type": "markdown",
   "metadata": {}
  },
  {
   "cell_type": "code",
   "execution_count": null,
   "metadata": {},
   "outputs": [],
   "source": [
    "# Perform the necessary imports\n",
    "import matplotlib.pyplot as plt\n",
    "from scipy.cluster.hierarchy import linkage, dendrogram\n",
    "\n",
    "# Calculate the linkage: mergings\n",
    "mergings = linkage(samples, method='single')\n",
    "\n",
    "# Plot the dendrogram\n",
    "dendrogram(mergings, labels=country_names, leaf_rotation=90, leaf_font_size=6)\n",
    "plt.show()\n"
   ]
  },
  {
   "source": [
    "## Plot\n",
    "\n",
    "<p align='center'>\n",
    "    <img src='image/[2021-02-19] 132428.svg'>\n",
    "</p>"
   ],
   "cell_type": "markdown",
   "metadata": {}
  },
  {
   "source": [
    "# Exercise VI: Intermediate clusterings\n",
    "\n",
    "Displayed on the right is the dendrogram for the hierarchical clustering of the grain samples that you computed earlier. If the hierarchical clustering were stopped at height 6 on the dendrogram, how many clusters would there be?\n",
    "\n",
    "<p align='center'>\n",
    "    <img src='image/[2021-02-19] 132645.svg'>\n",
    "</p>\n",
    "\n",
    "### Instructions\n",
    "\n",
    "#### Possible Answer\n",
    "- 1\n",
    "- 3 (T)\n",
    "- As many as there were at the beginning"
   ],
   "cell_type": "markdown",
   "metadata": {}
  },
  {
   "source": [
    "# Exercise VII: Extracting the cluster labels\n",
    "\n",
    "In the previous exercise, you saw that the intermediate clustering of the grain samples at height 6 has 3 clusters. Now, use the `fcluster()` function to extract the cluster labels for this intermediate clustering, and compare the labels with the grain varieties using a cross-tabulation.\n",
    "\n",
    "The hierarchical clustering has already been performed and `mergings` is the result of the `linkage()` function. The list `varieties` gives the variety of each grain sample.\n",
    "\n",
    "### Instructions\n",
    "\n",
    "- Import:\n",
    "    - `pandas` as `pd`.\n",
    "    - `fcluster` from `scipy.cluster.hierarchy`.\n",
    "- Perform a flat hierarchical clustering by using the `fcluster()` function on `mergings`. Specify a maximum height of `6` and the keyword argument `criterion='distance'`.\n",
    "- Create a DataFrame df with two columns named `'labels'` and `'varieties'`, using `labels` and `varieties`, respectively, for the column values. This has been done for you.\n",
    "- Create a cross-tabulation `ct` between `df['labels']` and `df['varieties']` to count the number of times each grain variety coincides with each cluster label.\n"
   ],
   "cell_type": "markdown",
   "metadata": {}
  },
  {
   "cell_type": "code",
   "execution_count": null,
   "metadata": {},
   "outputs": [],
   "source": [
    "# Perform the necessary imports\n",
    "import pandas as pd\n",
    "from scipy.cluster.hierarchy import fcluster\n",
    "\n",
    "# Use fcluster to extract labels: labels\n",
    "labels = fcluster(mergings, 6, criterion='distance')\n",
    "\n",
    "# Create a DataFrame with labels and varieties as columns: df\n",
    "df = pd.DataFrame({'labels': labels, 'varieties': varieties})\n",
    "\n",
    "# Create crosstab: ct\n",
    "ct = pd.crosstab(df['labels'], df['varieties'])\n",
    "\n",
    "# Display ct\n",
    "print(ct)\n"
   ]
  }
 ]
}