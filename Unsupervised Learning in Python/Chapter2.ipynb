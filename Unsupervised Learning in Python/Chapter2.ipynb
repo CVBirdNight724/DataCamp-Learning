{
 "metadata": {
  "language_info": {
   "codemirror_mode": {
    "name": "ipython",
    "version": 3
   },
   "file_extension": ".py",
   "mimetype": "text/x-python",
   "name": "python",
   "nbconvert_exporter": "python",
   "pygments_lexer": "ipython3",
   "version": 3
  },
  "orig_nbformat": 2
 },
 "nbformat": 4,
 "nbformat_minor": 2,
 "cells": [
  {
   "source": [
    "# Visualization with hierarchical clustering and t-SNE\n",
    "\n",
    "In this chapter, you'll learn about two unsupervised learning techniques for data visualization, hierarchical clustering and t-SNE. Hierarchical clustering merges the data samples into ever-coarser clusters, yielding a tree visualization of the resulting cluster hierarchy. t-SNE maps the data samples into 2d space so that the proximity of the samples to one another can be visualized."
   ],
   "cell_type": "markdown",
   "metadata": {}
  },
  {
   "source": [
    "# (1) Visualizing hierarchies\n",
    "\n",
    "## Visualizations communicate insight\n",
    "- \"t-SNE\": Creates a 2D map of a dataset (later)\n",
    "- \"Hierarchical clustering\" (this video)\n",
    "\n",
    "## A hierarchy of groups\n",
    "- Groups of living things can form a hierarchy\n",
    "- Clusters are contained in one another\n",
    "\n",
    "<p align='center'>\n",
    "    <img src='image/Screenshot 2021-02-18 235251.png'>\n",
    "</p>\n",
    "\n",
    "## Eurovision scoring dataset\n",
    "- Countries gave scores to songs performed at the Eurovision 2016\n",
    "- 2D array of scores\n",
    "- Rows are countries, columns are songs\n",
    "\n",
    "<p align='center'>\n",
    "    <img src='image/Screenshot 2021-02-18 235505.png'>\n",
    "</p>\n",
    "\n",
    "## Hierarchical clustering of voting countries\n",
    "<p align='center'>\n",
    "    <img src='image/Screenshot 2021-02-18 235628.png'>\n",
    "</p>\n",
    "\n",
    "## Hierarchical clustering\n",
    "- Every country begins in a separate cluster\n",
    "- At each step, the two closet clusters are merged\n",
    "- Continue until all countries in a single cluster\n",
    "- This is \"agglomerative\" hierarchical clustering\n",
    "\n",
    "## The dendrogram of a hierarchical clustering\n",
    "- Read from the bottom up\n",
    "- Vertical lines represent clusters\n",
    "\n",
    "<p align='center'>\n",
    "    <img src='image/Screenshot 2021-02-19 000009.png'>\n",
    "</p>\n",
    "\n",
    "## Hierarchical clustering with SciPy\n",
    "- Given `samples` (the array of scores), and `country_names`"
   ],
   "cell_type": "markdown",
   "metadata": {}
  },
  {
   "cell_type": "code",
   "execution_count": null,
   "metadata": {},
   "outputs": [],
   "source": [
    "import matplotlib.pyplot as plt\n",
    "from scipy.cluster.hierarchy import linkage, dendrogram\n",
    "mergings = linkage(samples, method='complete')\n",
    "dendrogram(mergins, \n",
    "            labels=country_names, \n",
    "            leaf_rotation=90,\n",
    "            leaf_font_size=6)\n",
    "plt.show()"
   ]
  },
  {
   "source": [
    "# Exercise I: How many merges?\n",
    "\n",
    "If there are 5 data samples, how many merge operations will occur in a hierarchical clustering? (To help answer this question, think back to the video, in which Ben walked through an example of hierarchical clustering using 6 countries.)\n",
    "\n",
    "### Possible Answers\n",
    "- 4 merges (T)\n",
    "- 3 merges\n",
    "- This can't be known in advance"
   ],
   "cell_type": "markdown",
   "metadata": {}
  },
  {
   "source": [
    "# Exercise II: Hierarchical clustering of the grain data\n",
    "\n",
    "In the video, you learned that the SciPy `linkage()` function performs hierarchical clustering on an array of samples. Use the `linkage()` function to obtain a hierarchical clustering of the grain samples, and use `dendrogram()` to visualize the result. A sample of the grain measurements is provided in the array `samples`, while the variety of each grain sample is given by the list `varieties`.\n",
    "\n",
    "### Instructions\n",
    "\n",
    "- Import:\n",
    "    - `linkage` and `dendrogram` from `scipy.cluster.hierarchy`.\n",
    "    - matplotlib.pyplot as plt.\n",
    "- Perform hierarchical clustering on `samples` using the `linkage()` function with the `method='complete'` keyword argument. Assign the result to `mergings`.\n",
    "- Plot a dendrogram using the `dendrogram()` function on `mergings`. Specify the keyword arguments `labels=varieties`, `leaf_rotation=90`, and `leaf_font_size=6`.\n"
   ],
   "cell_type": "markdown",
   "metadata": {}
  },
  {
   "cell_type": "code",
   "execution_count": null,
   "metadata": {},
   "outputs": [],
   "source": [
    "# Perform the necessary imports\n",
    "from scipy.cluster.hierarchy import linkage, dendrogram\n",
    "import matplotlib.pyplot as plt\n",
    "\n",
    "# Calculate the linkage: mergings\n",
    "mergings = linkage(samples, method='complete')\n",
    "\n",
    "# Plot the dendrogram, using varieties as labels\n",
    "dendrogram(mergings,\n",
    "           labels=varieties,\n",
    "           leaf_rotation=90,\n",
    "           leaf_font_size=6,\n",
    ")\n",
    "plt.show()\n"
   ]
  },
  {
   "source": [
    "## Plot\n",
    "\n",
    "<p align='center'>\n",
    "    <img src='image/[2021-02-19] 013215.svg'>\n",
    "</p>"
   ],
   "cell_type": "markdown",
   "metadata": {}
  },
  {
   "source": [
    "# Exercise III: Hierarchies of stocks\n",
    "\n",
    "In chapter 1, you used k-means clustering to cluster companies according to their stock price movements. Now, you'll perform hierarchical clustering of the companies. You are given a NumPy array of price movements `movements`, where the rows correspond to companies, and a list of the company names `companies`. SciPy hierarchical clustering doesn't fit into a sklearn pipeline, so you'll need to use the `normalize()` function from `sklearn.preprocessing` instead of `Normalizer`.\n",
    "\n",
    "`linkage` and `dendrogram` have already been imported from `scipy.cluster.hierarchy`, and PyPlot has been imported as `plt`.\n",
    "\n",
    "### Instructions\n",
    "\n",
    "- Import `normalize` from `sklearn.preprocessing`.\n",
    "- Rescale the price movements for each stock by using the `normalize()` function on `movements`.\n",
    "- Apply the `linkage()` function to `normalized_movements`, using `'complete'` linkage, to calculate the hierarchical clustering. Assign the result to `mergings`.\n",
    "- Plot a dendrogram of the hierarchical clustering, using the list `companies` of company names as the `labels`. In addition, specify the `leaf_rotation=90`, and `leaf_font_size=6` keyword arguments as you did in the previous exercise.\n"
   ],
   "cell_type": "markdown",
   "metadata": {}
  },
  {
   "cell_type": "code",
   "execution_count": null,
   "metadata": {},
   "outputs": [],
   "source": [
    "# Import normalize\n",
    "from sklearn.preprocessing import normalize\n",
    "\n",
    "# Normalize the movements: normalized_movements\n",
    "normalized_movements = normalize(movements)\n",
    "\n",
    "# Calculate the linkage: mergings\n",
    "mergings = linkage(normalized_movements, method='complete')\n",
    "\n",
    "# Plot the dendrogram\n",
    "dendrogram(mergings, labels=companies, leaf_rotation=90, leaf_font_size=6)\n",
    "plt.show()\n"
   ]
  },
  {
   "source": [
    "## Plot\n",
    "\n",
    "<p align='center'>\n",
    "    <img src='image/[2021-02-19] 014008.svg'>\n",
    "</p>"
   ],
   "cell_type": "markdown",
   "metadata": {}
  }
 ]
}