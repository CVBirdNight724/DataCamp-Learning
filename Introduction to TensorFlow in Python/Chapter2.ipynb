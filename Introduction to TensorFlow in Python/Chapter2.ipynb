{
 "metadata": {
  "language_info": {
   "codemirror_mode": {
    "name": "ipython",
    "version": 3
   },
   "file_extension": ".py",
   "mimetype": "text/x-python",
   "name": "python",
   "nbconvert_exporter": "python",
   "pygments_lexer": "ipython3",
   "version": "3.6.10-final"
  },
  "orig_nbformat": 2,
  "kernelspec": {
   "name": "python3",
   "display_name": "Python 3",
   "language": "python"
  }
 },
 "nbformat": 4,
 "nbformat_minor": 2,
 "cells": [
  {
   "source": [
    "# Linear models\n",
    "\n",
    "In this chapter, you will learn how to build, solve, and make predictions with models in TensorFlow 2. You will focus on a simple class of models – the linear regression model – and will try to predict housing prices. By the end of the chapter, you will know how to load and manipulate data, construct loss functions, perform minimization, make predictions, and reduce resource use with batch training."
   ],
   "cell_type": "markdown",
   "metadata": {}
  },
  {
   "source": [
    "# (1) Input data\n",
    "\n",
    "<img src=\"image/Screenshot 2021-01-23 180358.png\">\n",
    "\n",
    "## Importing data for use in TensorFlow\n",
    "\n",
    "- **Data can be imported using Tensorflow**\n",
    "    - Useful for managing compex pipelines\n",
    "    - Not necessary for this chapter\n",
    "- **Simpler option used in this chapter**\n",
    "    - Import data using `pandas`\n",
    "    - Convert data to `numpy\n",
    "    - Use in `tensorflow` without modification\n",
    "\n",
    "How to import and convert data\n",
    "\n",
    "```\n",
    "# Import numpy and pandas\n",
    "import numpy as np\n",
    "import pandas as pd\n",
    "\n",
    "# Load data from csv\n",
    "housing = pd.read_csv('kc_housing.csv')\n",
    "\n",
    "# Convert to numpy array\n",
    "housing = np.array(housing)\n",
    "```\n",
    "\n",
    "- We will foucs on data stored in csv format in this chapter\n",
    "- Pandas also has methods for handing data in others formats\n",
    "    - E.g. `read_json`, `read_html`, read_excel`\n",
    "\n",
    "## Parameter of read_csv()\n",
    "\n",
    "| **Parameter** | **Description** | **Default**|\n",
    "| :- | :- | :- |\n",
    "| `filepath_or_buffer` | Accepts a file path or a URL. | `None` |\n",
    "| `sep` | Delimiter between colums | `,` |\n",
    "| `delim_whitespace` | Boolean for whether to delimit whitespace. | `False` |\n",
    "| `encoding` | Specifies encoding to be used if any. | `None` |\n",
    "\n",
    "## Using mixed type datasets\n",
    "\n",
    "<img src='image/Screenshot 2021-01-23 181841.png'>\n",
    "\n",
    "## Setting the data type\n",
    "\n",
    "```\n",
    "# Load KC dataset\n",
    "housing = pd.read_csv('kc_housing.csv')\n",
    "\n",
    "# Convert price column to float32\n",
    "price = np.array(housing['prince'], np.float32)\n",
    "\n",
    "# Convert waterfront column to Boolean\n",
    "waterfront = np.array(housing['waterfront'], np.bool)\n",
    "```\n",
    "\n",
    "### Or\n",
    "\n",
    "```\n",
    "# Load KC dataset\n",
    "housing = pd.read_csv('kc_housing.csv')\n",
    "\n",
    "# Convert price column to float32\n",
    "price = tf.cast(housing['price'], tf.float32)\n",
    "\n",
    "# Convert waterfront column to Boolean\n",
    "waterfront = tf.cast(housing['waterfront'], tf.bool)\n",
    "```"
   ],
   "cell_type": "markdown",
   "metadata": {}
  },
  {
   "source": [
    "# Exercise I: Load data using pandas\n",
    "\n",
    "Before you can train a machine learning model, you must first import data. There are several valid ways to do this, but for now, we will use a simple one-liner from `pandas`: `pd.read_csv()`. Recall from the video that the first argument specifies the path or URL. All other arguments are optional.\n",
    "\n",
    "In this exercise, you will import the King County housing dataset, which we will use to train a linear model later in the chapter.\n",
    "\n",
    "### Instructions\n",
    "\n",
    "- Import `pandas` under the alias pd.\n",
    "- Assign the path to a string variable with the name `data_path`.\n",
    "- Load the dataset as a pandas dataframe named `housing`.\n",
    "- Print the `price` column of `housing`.\n"
   ],
   "cell_type": "markdown",
   "metadata": {}
  },
  {
   "cell_type": "code",
   "execution_count": null,
   "metadata": {},
   "outputs": [],
   "source": [
    "# Import pandas under the alias pd\n",
    "import pandas as pd\n",
    "\n",
    "# Assign the path to a string variable named data_path\n",
    "data_path = 'kc_house_data.csv'\n",
    "\n",
    "# Load the dataset as a dataframe named housing\n",
    "housing = pd.read_csv(data_path)\n",
    "\n",
    "# Print the price column of housing\n",
    "print(housing['price'])"
   ]
  },
  {
   "source": [
    "# Exercise II: Setting the data type\n",
    "\n",
    "In this exercise, you will both load data and set its type. Note that `housing` is available and `pandas` has been imported as `pd`. You will import `numpy` and `tensorflow`, and define tensors that are usable in `tensorflow` using columns in `housing` with a given data type. Recall that you can select the `price` column, for instance, from `housing` using `housing['price']`.\n",
    "\n",
    "### Instructions\n",
    "\n",
    "- Import `numpy` and `tensorflow` under their standard aliases.\n",
    "- Use a `numpy` array to set the tensor `price` to have a data type of 32-bit floating point number\n",
    "- Use the `tensorflow` function `cast()` to set the tensor `waterfront` to have a Boolean data type.\n",
    "- Print `price` and then `waterfront`. Did you notice any important differences?"
   ],
   "cell_type": "markdown",
   "metadata": {}
  },
  {
   "cell_type": "code",
   "execution_count": null,
   "metadata": {},
   "outputs": [],
   "source": [
    "# Import numpy and tensorflow with their standard aliases\n",
    "import numpy as np\n",
    "import tensorflow as tf\n",
    "\n",
    "# Use a numpy array to define price as a 32-bit float\n",
    "price = np.array(housing['price'], np.float32)\n",
    "\n",
    "# Define waterfront as a Boolean using cast\n",
    "waterfront = tf.cast(housing['waterfront'], tf.bool)\n",
    "\n",
    "# Print price and waterfront\n",
    "print(price)\n",
    "print(waterfront)"
   ]
  }
 ]
}