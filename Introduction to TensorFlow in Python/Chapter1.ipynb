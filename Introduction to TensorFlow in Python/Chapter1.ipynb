{
 "metadata": {
  "language_info": {
   "codemirror_mode": {
    "name": "ipython",
    "version": 3
   },
   "file_extension": ".py",
   "mimetype": "text/x-python",
   "name": "python",
   "nbconvert_exporter": "python",
   "pygments_lexer": "ipython3",
   "version": "3.6.10-final"
  },
  "orig_nbformat": 2,
  "kernelspec": {
   "name": "python3",
   "display_name": "Python 3.6.10 64-bit ('tensorflow-gpu': conda)",
   "metadata": {
    "interpreter": {
     "hash": "8a145cce965836a3d0fd48f3974012b3e2df1dc3707991b8b064a1263ebc107a"
    }
   }
  }
 },
 "nbformat": 4,
 "nbformat_minor": 2,
 "cells": [
  {
   "source": [
    "# Introduction to TensorFlow\n",
    "\n",
    "Before you can build advanced models in TensorFlow 2, you will first need to understand the basics. In this chapter, you’ll learn how to define constants and variables, perform tensor addition and multiplication, and compute derivatives. Knowledge of linear algebra will be helpful, but not necessary. "
   ],
   "cell_type": "markdown",
   "metadata": {}
  },
  {
   "source": [
    "# (1) Constants and Variables\n",
    "\n",
    "## What is TensorFlow?\n",
    "- Open-source library for graph-based numerical computation\n",
    "    - Developed by Google Brain Team\n",
    "- Low and high level APIs\n",
    "    - Addition, Multiplication, Differentiation\n",
    "    - Machine Learning models\n",
    "- Important changes in TensorFlow 2.0\n",
    "    - Eagger execution by default\n",
    "    - Model building with Keras and Estimators\n",
    "\n",
    "## What is Tensor?\n",
    "- Generalization of vectors and matrices\n",
    "- Collection of numbers\n",
    "- Specific shape"
   ],
   "cell_type": "markdown",
   "metadata": {}
  },
  {
   "source": [
    "## Defining tensors in TensorFlow"
   ],
   "cell_type": "markdown",
   "metadata": {}
  },
  {
   "cell_type": "code",
   "execution_count": 2,
   "metadata": {},
   "outputs": [
    {
     "output_type": "stream",
     "name": "stdout",
     "text": [
      "[[[1. 1.]\n  [1. 1.]]\n\n [[1. 1.]\n  [1. 1.]]]\n"
     ]
    }
   ],
   "source": [
    "import tensorflow as tf\n",
    "\n",
    "# 0D Tensor\n",
    "d0 = tf.ones((1, ))\n",
    "\n",
    "# 1D Tensor\n",
    "d1 = tf.ones((2, ))\n",
    "\n",
    "# 2D Tensor\n",
    "d2 = tf.ones((2, 2))\n",
    "\n",
    "# 3D Tensor\n",
    "d3 = tf.ones((2, 2, 2))\n",
    "\n",
    "print(d3.numpy())"
   ]
  },
  {
   "source": [
    "## Defining constants in TensorFlow\n",
    "\n",
    "A constants is the simplest category of tensor\n",
    "- Not trainable\n",
    "- Can have any dimension"
   ],
   "cell_type": "markdown",
   "metadata": {}
  },
  {
   "cell_type": "code",
   "execution_count": 3,
   "metadata": {},
   "outputs": [],
   "source": [
    "from tensorflow import constant\n",
    "\n",
    "# Define a 2x3 constant.\n",
    "a = constant(3, shape=[2, 3])\n",
    "\n",
    "# Define a 2x2 constant.\n",
    "b = constant([1, 2, 3, 4], shape=[2,2])"
   ]
  },
  {
   "source": [
    "## Using convenience functions to define constants\n",
    "\n",
    "| Operation | Example |\n",
    "| :- | :- |\n",
    "| tf.constant() | constant($[1, 2 ,3]$) |\n",
    "| tf.zeros() | zeros($[2, 2]$) |\n",
    "| tf.zeros_like | zeros_like(input_tensor) |\n",
    "| tf.ones() | ones($[2, 2]$) |\n",
    "| tf.ones_like | ones_like(input_tensor) |\n",
    "| tf.fills | fills($[3, 3], 7$) |\n"
   ],
   "cell_type": "markdown",
   "metadata": {}
  },
  {
   "source": [
    "## Defining and initializing varlables"
   ],
   "cell_type": "markdown",
   "metadata": {}
  },
  {
   "cell_type": "code",
   "execution_count": 6,
   "metadata": {},
   "outputs": [
    {
     "output_type": "stream",
     "name": "stdout",
     "text": [
      "tf.Tensor([ 2.  4.  6.  8. 10. 12.], shape=(6,), dtype=float32) tf.Tensor([ 2.  4.  6.  8. 10. 12.], shape=(6,), dtype=float32)\n"
     ]
    }
   ],
   "source": [
    "import tensorflow as tf\r\n",
    "\r\n",
    "# Define a variable\r\n",
    "a0 = tf.Variable([1, 2, 3, 4, 5, 6], dtype=tf.float32)\r\n",
    "a1 = tf.Variable([1, 2, 3, 4, 5, 6], dtype=tf.int16)\r\n",
    "\r\n",
    "# Define a constant\r\n",
    "b = tf.constant(2, tf.float32)\r\n",
    "\r\n",
    "# Compute their product\r\n",
    "c0 = tf.multiply(a0, b)\r\n",
    "c1 = a0 * b\r\n",
    "\r\n",
    "print(c0, c1)"
   ]
  },
  {
   "source": [
    "## Exercise I : Defining data as constants\n",
    "\n",
    "Throughout this course, we will use tensorflow version 2.4 and will exclusively import the submodules needed to complete each exercise. This will usually be done for you, but you will do it in this exercise by importing constant from tensorflow.\n",
    "\n",
    "After you have imported constant, you will use it to transform a numpy array, credit_numpy, into a tensorflow constant, credit_constant. This array contains feature columns from a dataset on credit card holders and is previewed in the image below. We will return to this dataset in later chapters.\n",
    "\n",
    "Note that tensorflow 2 allows you to use data as either a numpy array or a tensorflow constant object. Using a constant will ensure that any operations performed with that object are done in tensorflow. \n",
    "\n",
    "<img src=\"image/default_features.jpg\">\n",
    "\n",
    "Instructions\n",
    "\n",
    "- Import the constant submodule from the tensorflow module.\n",
    "- Convert the credit_numpy array into a constant object in tensorflow. Do not set the data type.\n"
   ],
   "cell_type": "markdown",
   "metadata": {}
  },
  {
   "cell_type": "code",
   "execution_count": 7,
   "metadata": {},
   "outputs": [
    {
     "output_type": "error",
     "ename": "NameError",
     "evalue": "name 'credit_numpy' is not defined",
     "traceback": [
      "\u001b[1;31m---------------------------------------------------------------------------\u001b[0m",
      "\u001b[1;31mNameError\u001b[0m                                 Traceback (most recent call last)",
      "\u001b[1;32m<ipython-input-7-80406da236c5>\u001b[0m in \u001b[0;36m<module>\u001b[1;34m\u001b[0m\n\u001b[0;32m      3\u001b[0m \u001b[1;33m\u001b[0m\u001b[0m\n\u001b[0;32m      4\u001b[0m \u001b[1;31m# Convert the credit_numpy array into a tensorflow constant\u001b[0m\u001b[1;33m\u001b[0m\u001b[1;33m\u001b[0m\u001b[1;33m\u001b[0m\u001b[0m\n\u001b[1;32m----> 5\u001b[1;33m \u001b[0mcredit_constant\u001b[0m \u001b[1;33m=\u001b[0m \u001b[0mconstant\u001b[0m\u001b[1;33m(\u001b[0m\u001b[0mcredit_numpy\u001b[0m\u001b[1;33m)\u001b[0m\u001b[1;33m\u001b[0m\u001b[1;33m\u001b[0m\u001b[0m\n\u001b[0m\u001b[0;32m      6\u001b[0m \u001b[1;33m\u001b[0m\u001b[0m\n\u001b[0;32m      7\u001b[0m \u001b[1;31m# Print constant datatype\u001b[0m\u001b[1;33m\u001b[0m\u001b[1;33m\u001b[0m\u001b[1;33m\u001b[0m\u001b[0m\n",
      "\u001b[1;31mNameError\u001b[0m: name 'credit_numpy' is not defined"
     ]
    }
   ],
   "source": [
    "# Import constant from TensorFlow\n",
    "from tensorflow import constant\n",
    "\n",
    "# Convert the credit_numpy array into a tensorflow constant\n",
    "credit_constant = constant(credit_numpy)\n",
    "\n",
    "# Print constant datatype\n",
    "print('\\n The datatype is:', credit_constant.dtype)\n",
    "\n",
    "# Print constant shape\n",
    "print('\\n The shape is:', credit_constant.shape)"
   ]
  },
  {
   "source": [
    "## Exercise II :    Defining variables\n",
    "\n",
    "Unlike a constant, a variable's value can be modified. This will be useful when we want to train a model by updating its parameters.\n",
    "\n",
    "Let's try defining and printing a variable. We'll then convert the variable to a numpy array, print again, and check for differences. Note that Variable(), which is used to create a variable tensor, has been imported from tensorflow and is available to use in the exercise.\n",
    "\n",
    "Instructions\n",
    "\n",
    "- Define a variable, A1, as the 1-dimensional tensor: $[1, 2, 3, 4]$.\n",
    "- Apply .numpy() to A1 and assign it to B1.\n"
   ],
   "cell_type": "markdown",
   "metadata": {}
  },
  {
   "cell_type": "code",
   "execution_count": null,
   "metadata": {},
   "outputs": [],
   "source": [
    "# Define the 1-dimensional variable A1\n",
    "A1 = Variable([1, 2, 3, 4])\n",
    "\n",
    "# Print the variable A1\n",
    "print('\\n A1: ', A1)\n",
    "\n",
    "# Convert A1 to a numpy array and assign it to B1\n",
    "B1 = A1.numpy()\n",
    "\n",
    "# Print B1\n",
    "print('\\n B1: ', B1)"
   ]
  },
  {
   "source": [
    "# (2) Basic Operations\n",
    "\n",
    "## What is a TensorFlow operation?\n",
    "\n",
    "<img src=\"image/Screenshot 2021-01-09 014931.png\">\n",
    "\n",
    "## Applying the addition operator"
   ],
   "cell_type": "markdown",
   "metadata": {}
  },
  {
   "cell_type": "code",
   "execution_count": 10,
   "metadata": {},
   "outputs": [
    {
     "output_type": "stream",
     "name": "stdout",
     "text": [
      "tf.Tensor([3], shape=(1,), dtype=int32) tf.Tensor([4 6], shape=(2,), dtype=int32) tf.Tensor(\n[[ 6  8]\n [10 12]], shape=(2, 2), dtype=int32)\n"
     ]
    }
   ],
   "source": [
    "# Import constant and add from tensorflow\n",
    "from tensorflow import constant, add\n",
    "\n",
    "# Define 0-dimensional tensors\n",
    "A0 = constant([1])\n",
    "B0 = constant([2])\n",
    "\n",
    "# Define 1-dimensional tensors\n",
    "A1 = constant([1, 2])\n",
    "B1 = constant([3, 4])\n",
    "\n",
    "# Define 2-dimensional tensors\n",
    "A2 = constant([[1, 2], [3, 4]])\n",
    "B2 = constant([[5, 6], [7, 8]])\n",
    "\n",
    "# Perform tensor addition with add()\n",
    "C0 = add(A0, B0)\n",
    "C1 = add(A1, B1)\n",
    "C2 = add(A2, B2)\n",
    "\n",
    "print(C0, C1, C2)"
   ]
  },
  {
   "source": [
    "## Performing tensor addition\n",
    "\n",
    "- The add() operation performs element-wise addition with two tensors\n",
    "- Element-wise addition requires both tensors to have the same shape:\n",
    "    - Scalar addition: $1 + 2 = 3$\n",
    "\n",
    "    - Vector addition: $[1, 2] + [3, 4] = [4, 6]$\n",
    "    \n",
    "    - Matrix addition: $\\begin{bmatrix} 1 & 2 \\\\ 3 & 4 \\end{bmatrix}$\n",
    "- The add() operation is overloaded\n",
    "\n",
    "## How to perform multiplication in TensorFlow\n",
    "\n",
    "- Element-wise multiplication performed using multiply() operation\n",
    "    - The tensors multiplied must have the same shape\n",
    "    - E.g. $[1, 2, 3]$ and $[3, 4, 5]$ or $[1, 2]$ and $[3, 4]$\n",
    "- Matrix multiplication performed with matmul() operator\n",
    "    - The matmul(A, B) operation multiplies A by B\n",
    "    - Number of columns of A must equal the number of rows of B\n",
    "\n",
    "## Apply the multiplication operators"
   ],
   "cell_type": "markdown",
   "metadata": {}
  },
  {
   "cell_type": "code",
   "execution_count": 14,
   "metadata": {},
   "outputs": [
    {
     "output_type": "stream",
     "name": "stdout",
     "text": [
      "tf.Tensor([1.], shape=(1,), dtype=float32) tf.Tensor(\n[[1.]\n [1.]\n [1.]], shape=(3, 1), dtype=float32) tf.Tensor(\n[[1. 1. 1. 1.]\n [1. 1. 1. 1.]\n [1. 1. 1. 1.]], shape=(3, 4), dtype=float32) tf.Tensor(\n[[1. 1. 1.]\n [1. 1. 1.]\n [1. 1. 1.]\n [1. 1. 1.]], shape=(4, 3), dtype=float32)\n"
     ]
    }
   ],
   "source": [
    "# Import operators from tensorflow\n",
    "from tensorflow import ones, matmul, multiply\n",
    "\n",
    "# Define tensors\n",
    "A0 = ones(1)\n",
    "A31 = ones([3, 1])\n",
    "A34 = ones([3, 4])\n",
    "A43 = ones([4, 3])\n",
    "\n",
    "print(A0, A31, A34, A43)"
   ]
  },
  {
   "source": [
    "## What type of operations are did?\n",
    "\n",
    "- multiply(A0, A0), multiply(A31, A31) and multiply(A34, A34)\n",
    "- matmul(A43, A34) but not matmul(A43, A43)\n",
    "\n",
    "## Summing over tensor dimensions\n",
    "\n",
    "- The reduce_sum() operator sums over the dimensions of a tensor\n",
    "    - reduce_sum(A) sums over all dimension of A\n",
    "    - reduce_sum(A, i) sums over dimension i"
   ],
   "cell_type": "markdown",
   "metadata": {}
  },
  {
   "cell_type": "code",
   "execution_count": 15,
   "metadata": {},
   "outputs": [
    {
     "output_type": "stream",
     "name": "stdout",
     "text": [
      "tf.Tensor(\n[[[1. 1. 1. 1.]\n  [1. 1. 1. 1.]\n  [1. 1. 1. 1.]]\n\n [[1. 1. 1. 1.]\n  [1. 1. 1. 1.]\n  [1. 1. 1. 1.]]], shape=(2, 3, 4), dtype=float32) tf.Tensor(24.0, shape=(), dtype=float32) tf.Tensor(\n[[2. 2. 2. 2.]\n [2. 2. 2. 2.]\n [2. 2. 2. 2.]], shape=(3, 4), dtype=float32) tf.Tensor(\n[[3. 3. 3. 3.]\n [3. 3. 3. 3.]], shape=(2, 4), dtype=float32) tf.Tensor(\n[[4. 4. 4.]\n [4. 4. 4.]], shape=(2, 3), dtype=float32)\n"
     ]
    }
   ],
   "source": [
    "# Import operations from tensorflow\n",
    "from tensorflow import ones, reduce_sum\n",
    "\n",
    "# Define a 2x3x4 tensor of ones\n",
    "A = ones([2, 3, 4])\n",
    "\n",
    "# Sum over all dimension\n",
    "B = reduce_sum(A)\n",
    "\n",
    "# Sum over dimension 0, 1, 2\n",
    "B0 = reduce_sum(A, 0)\n",
    "B1 = reduce_sum(A, 1)\n",
    "B2 = reduce_sum(A, 2)\n",
    "\n",
    "print(A, B, B0, B1, B2)"
   ]
  },
  {
   "source": [
    "# Exercise III : Performing element-wise multiplication\n",
    "\n",
    "Element-wise multiplication in TensorFlow is performed using two tensors with identical shapes. This is because the operation multiplies elements in corresponding positions in the two tensors. An example of an element-wise multiplication, denoted by the (dot) symbol, is shown below:\n",
    "\n",
    "$\\begin{bmatrix} 1 & 2 \\\\ 2 & 1 \\end{bmatrix}.\\begin{bmatrix} 3 & 1 \\\\ 2 & 5 \\end{bmatrix} = \\begin{bmatrix} 3 & 2 \\\\ 4 & 5 \\end{bmatrix}$  \n",
    "\n",
    "In this exercise, you will perform element-wise multiplication, paying careful attention to the shape of the tensors you multiply. Note that multiply(), constant(), and ones_like() have been imported for you.\n",
    "\n",
    "Instructions\n",
    "\n",
    "- Define the tensors A1 and A23 as constants.\n",
    "- Set B1 to be a tensor of ones with the same shape as A1.\n",
    "- Set B23 to be a tensor of ones with the same shape as A23.\n",
    "- Set C1 and C23 equal to the element-wise products of A1 and B1, and A23 and B23, respectively."
   ],
   "cell_type": "markdown",
   "metadata": {}
  },
  {
   "cell_type": "code",
   "execution_count": null,
   "metadata": {},
   "outputs": [],
   "source": [
    "# Define tensors A1 and A23 as constants\n",
    "A1 = constant([1, 2, 3, 4])\n",
    "A23 = constant([[1, 2, 3], [1, 6, 4]])\n",
    "\n",
    "# Define B1 and B23 to have the correct shape\n",
    "B1 = ones_like(A1)\n",
    "B23 = ones_like(A23)\n",
    "\n",
    "# Perform element-wise multiplication\n",
    "C1 = multiply(A1, B1)\n",
    "C23 = multiply(A23, B23)\n",
    "\n",
    "# Print the tensors C1 and C23\n",
    "print('\\n C1: {}'.format(C1.numpy()))\n",
    "print('\\n C23: {}'.format(C23.numpy()))"
   ]
  },
  {
   "source": [
    "# Exercise IV : Making predictions with matrix multiplication\n",
    "\n",
    "In later chapters, you will learn to train linear regression models. This process will yield a vector of parameters that can be multiplied by the input data to generate predictions. In this exercise, you will use input data, features, and a target vector, bill, which are taken from a credit card dataset we will use later in the course.\n",
    "\n",
    "$features = \\begin{bmatrix} 2 & 24 \\\\ 2 & 26 \\\\ 2 & 57 \\\\ 1 &37\\end{bmatrix}, bill = \\begin{bmatrix} 3913 \\\\ 2682 \\\\ 8617 \\\\ 64400 \\end{bmatrix}, params=\\begin{bmatrix} 1000 \\\\ 150 \\end{bmatrix}$\n",
    "\n",
    "The matrix of input data, features, contains two columns: education level and age. The target vector, bill, is the size of the credit card borrower's bill.\n",
    "\n",
    "Since we have not trained the model, you will enter a guess for the values of the parameter vector, params. You will then use matmul() to perform matrix multiplication of features by params to generate predictions, billpred, which you will compare with bill. Note that we have imported matmul() and constant().\n",
    "\n",
    "Instructions\n",
    "- Define features, params, and bill as constants.\n",
    "- Compute the predicted value vector, billpred, by multiplying the input data, features, by the parameters, params. Use matrix multiplication, rather than the element-wise product.\n",
    "- Define error as the targets, bill, minus the predicted values, billpred."
   ],
   "cell_type": "markdown",
   "metadata": {}
  },
  {
   "cell_type": "code",
   "execution_count": null,
   "metadata": {},
   "outputs": [],
   "source": [
    "# Define features, params, and bill as constants\n",
    "features = constant([[2, 24], [2, 26], [2, 57], [1, 37]])\n",
    "params = constant([[1000], [150]])\n",
    "bill = constant([[3913], [2682], [8617], [64400]])\n",
    "\n",
    "# Compute billpred using features and params\n",
    "billpred = matmul(features, params)\n",
    "\n",
    "# Compute and print the error\n",
    "error = bill - billpred\n",
    "print(error.numpy())"
   ]
  },
  {
   "source": [
    "# Exercise V : Summing over tensor dimensions\n",
    "\n",
    "You've been given a matrix, wealth. This contains the value of bond and stock wealth for five individuals in thousands of dollars.\n",
    "\n",
    "$wealth = \\begin{bmatrix} 11 & 50 \\\\ 7 & 2 \\\\ 4 & 60 \\\\ 3 & 0 \\\\ 25 & 10 \\end{bmatrix}$\n",
    "\n",
    "The first column corresponds to bonds and the second corresponds to stocks. Each row gives the bond and stock wealth for a single individual. Use wealth, reduce_sum(), and .numpy() to determine which statements are correct about wealth.\n",
    "\n",
    "Possible Answers\n",
    "\n",
    "- The individual in the first row has the highest total wealth (i.e. stocks + bonds).\n",
    "\n",
    "- Combined, the 5 individuals hold $50,000 in stocks.\n",
    "\n",
    "- [True] Combined, the 5 individuals hold $50,000 in bonds.\n",
    "\n",
    "- The individual in the second row has the lowest total wealth (i.e. stocks + bonds)."
   ],
   "cell_type": "markdown",
   "metadata": {}
  },
  {
   "source": [
    "# (3) Advance operations\n",
    "\n",
    "## Overview of advanced operations\n",
    "- We have covered basic operations in Tensorflow\n",
    "    - add(), multiply(), matmul() and reduce_sum()\n",
    "- In this lesson, we explore advanced operations\n",
    "    - gradient(), reshape() and random()\n",
    "\n",
    "| Operation | Use |\n",
    "| :- | :- |\n",
    "| gradient() | Computes the slope of a function at a point |\n",
    "| reshape() | Reshapes a tensor (e.g. 10x10 to 100x1)\n",
    "| random() | Populates tensor with entries drawn from a probability distribution |\n",
    "\n",
    "## Finding the optimum\n",
    "- In many problems, we will want to find the optimum of a function.\n",
    "    - Minimum: Lowest value of a loss function.\n",
    "    - Maximum: Highest value of objective function.\n",
    "- We can do this using the gradient() Operation.\n",
    "    - Optimum: Find a point where grdient = 0\n",
    "    - Minimum: Change in gradient > 0\n",
    "\n",
    "## Calculating the gradient\n",
    "\n",
    "<img src=\"image/Screenshot 2021-01-09 195246.png\" width=\"50%\" height=\"50%\">\n",
    "\n",
    "<img src=\"image/Screenshot 2021-01-09 195309.png\" width=\"50%\" height=\"50%\">\n",
    "\n",
    "## Gradients in Tensorflow"
   ],
   "cell_type": "markdown",
   "metadata": {}
  },
  {
   "cell_type": "code",
   "execution_count": 4,
   "metadata": {},
   "outputs": [
    {
     "output_type": "error",
     "ename": "ModuleNotFoundError",
     "evalue": "No module named 'tensorflow'",
     "traceback": [
      "\u001b[1;31m---------------------------------------------------------------------------\u001b[0m",
      "\u001b[1;31mModuleNotFoundError\u001b[0m                       Traceback (most recent call last)",
      "\u001b[1;32m<ipython-input-4-6f2c769b954f>\u001b[0m in \u001b[0;36m<module>\u001b[1;34m\u001b[0m\n\u001b[0;32m      1\u001b[0m \u001b[1;31m# Import tensorflow under the alias tf\u001b[0m\u001b[1;33m\u001b[0m\u001b[1;33m\u001b[0m\u001b[1;33m\u001b[0m\u001b[0m\n\u001b[1;32m----> 2\u001b[1;33m \u001b[1;32mimport\u001b[0m \u001b[0mtensorflow\u001b[0m \u001b[1;32mas\u001b[0m \u001b[0mtf\u001b[0m\u001b[1;33m\u001b[0m\u001b[1;33m\u001b[0m\u001b[0m\n\u001b[0m\u001b[0;32m      3\u001b[0m \u001b[1;33m\u001b[0m\u001b[0m\n\u001b[0;32m      4\u001b[0m \u001b[1;31m# Define X\u001b[0m\u001b[1;33m\u001b[0m\u001b[1;33m\u001b[0m\u001b[1;33m\u001b[0m\u001b[0m\n\u001b[0;32m      5\u001b[0m \u001b[0mx\u001b[0m \u001b[1;33m=\u001b[0m \u001b[0mtf\u001b[0m\u001b[1;33m.\u001b[0m\u001b[0mVariable\u001b[0m\u001b[1;33m(\u001b[0m\u001b[1;33m-\u001b[0m\u001b[1;36m1.0\u001b[0m\u001b[1;33m)\u001b[0m\u001b[1;33m\u001b[0m\u001b[1;33m\u001b[0m\u001b[0m\n",
      "\u001b[1;31mModuleNotFoundError\u001b[0m: No module named 'tensorflow'"
     ]
    }
   ],
   "source": [
    "# Import tensorflow under the alias tf\n",
    "import tensorflow as tf\n",
    "\n",
    "# Define X\n",
    "x = tf.Variable(-1.0)\n",
    "\n",
    "# Define y within instance of GradientTape\n",
    "with tf.GradientTape() as tape:\n",
    "    tape.watch(x)\n",
    "    y.multiply(x, x)\n",
    "\n",
    "# Evaluate the gradient of y at x = -1\n",
    "g = tape.gradient(y, x)\n",
    "print(g.numpy())"
   ]
  },
  {
   "cell_type": "code",
   "execution_count": null,
   "metadata": {},
   "outputs": [],
   "source": []
  }
 ]
}