{
 "metadata": {
  "language_info": {
   "codemirror_mode": {
    "name": "ipython",
    "version": 3
   },
   "file_extension": ".py",
   "mimetype": "text/x-python",
   "name": "python",
   "nbconvert_exporter": "python",
   "pygments_lexer": "ipython3",
   "version": "3.7.7-final"
  },
  "orig_nbformat": 2,
  "kernelspec": {
   "name": "python3",
   "display_name": "Python 3.7.7 64-bit ('tf-conda': conda)",
   "metadata": {
    "interpreter": {
     "hash": "45dd754db7b10d27b4bb1a11471a76e60b1ee85a870f05653895a53e3f056362"
    }
   }
  }
 },
 "nbformat": 4,
 "nbformat_minor": 2,
 "cells": [
  {
   "source": [
    "# Introduction to TensorFlow\n",
    "\n",
    "Before you can build advanced models in TensorFlow 2, you will first need to understand the basics. In this chapter, you’ll learn how to define constants and variables, perform tensor addition and multiplication, and compute derivatives. Knowledge of linear algebra will be helpful, but not necessary. "
   ],
   "cell_type": "markdown",
   "metadata": {}
  },
  {
   "source": [
    "# (1) Constants and Variables\n",
    "\n",
    "## What is TensorFlow?\n",
    "- Open-source library for graph-based numerical computation\n",
    "    - Developed by Google Brain Team\n",
    "- Low and high level APIs\n",
    "    - Addition, Multiplication, Differentiation\n",
    "    - Machine Learning models\n",
    "- Important changes in TensorFlow 2.0\n",
    "    - Eagger execution by default\n",
    "    - Model building with Keras and Estimators\n",
    "\n",
    "## What is Tensor?\n",
    "- Generalization of vectors and matrices\n",
    "- Collection of numbers\n",
    "- Specific shape"
   ],
   "cell_type": "markdown",
   "metadata": {}
  },
  {
   "source": [
    "## Defining tensors in TensorFlow"
   ],
   "cell_type": "markdown",
   "metadata": {}
  },
  {
   "cell_type": "code",
   "execution_count": 2,
   "metadata": {},
   "outputs": [
    {
     "output_type": "stream",
     "name": "stdout",
     "text": [
      "[[[1. 1.]\n  [1. 1.]]\n\n [[1. 1.]\n  [1. 1.]]]\n"
     ]
    }
   ],
   "source": [
    "import tensorflow as tf\n",
    "\n",
    "# 0D Tensor\n",
    "d0 = tf.ones((1, ))\n",
    "\n",
    "# 1D Tensor\n",
    "d1 = tf.ones((2, ))\n",
    "\n",
    "# 2D Tensor\n",
    "d2 = tf.ones((2, 2))\n",
    "\n",
    "# 3D Tensor\n",
    "d3 = tf.ones((2, 2, 2))\n",
    "\n",
    "print(d3.numpy())"
   ]
  },
  {
   "source": [
    "## Defining constants in TensorFlow\n",
    "\n",
    "A constants is the simplest category of tensor\n",
    "- Not trainable\n",
    "- Can have any dimension"
   ],
   "cell_type": "markdown",
   "metadata": {}
  },
  {
   "cell_type": "code",
   "execution_count": 3,
   "metadata": {},
   "outputs": [],
   "source": [
    "from tensorflow import constant\n",
    "\n",
    "# Define a 2x3 constant.\n",
    "a = constant(3, shape=[2, 3])\n",
    "\n",
    "# Define a 2x2 constant.\n",
    "b = constant([1, 2, 3, 4], shape=[2,2])"
   ]
  },
  {
   "source": [
    "## Using convenience functions to define constants\n",
    "\n",
    "| Operation | Example |\n",
    "| :- | :- |\n",
    "| tf.constant() | constant($[1, 2 ,3]$) |\n",
    "| tf.zeros() | zeros($[2, 2]$) |\n",
    "| tf.zeros_like | zeros_like(input_tensor) |\n",
    "| tf.ones() | ones($[2, 2]$) |\n",
    "| tf.ones_like | ones_like(input_tensor) |\n",
    "| tf.fills | fills($[3, 3], 7$) |\n"
   ],
   "cell_type": "markdown",
   "metadata": {}
  },
  {
   "source": [
    "## Defining and initializing varlables"
   ],
   "cell_type": "markdown",
   "metadata": {}
  },
  {
   "cell_type": "code",
   "execution_count": 6,
   "metadata": {},
   "outputs": [
    {
     "output_type": "stream",
     "name": "stdout",
     "text": [
      "tf.Tensor([ 2.  4.  6.  8. 10. 12.], shape=(6,), dtype=float32) tf.Tensor([ 2.  4.  6.  8. 10. 12.], shape=(6,), dtype=float32)\n"
     ]
    }
   ],
   "source": [
    "import tensorflow as tf\r\n",
    "\r\n",
    "# Define a variable\r\n",
    "a0 = tf.Variable([1, 2, 3, 4, 5, 6], dtype=tf.float32)\r\n",
    "a1 = tf.Variable([1, 2, 3, 4, 5, 6], dtype=tf.int16)\r\n",
    "\r\n",
    "# Define a constant\r\n",
    "b = tf.constant(2, tf.float32)\r\n",
    "\r\n",
    "# Compute their product\r\n",
    "c0 = tf.multiply(a0, b)\r\n",
    "c1 = a0 * b\r\n",
    "\r\n",
    "print(c0, c1)"
   ]
  },
  {
   "source": [
    "## Exercise I : Defining data as constants\n",
    "\n",
    "Throughout this course, we will use tensorflow version 2.4 and will exclusively import the submodules needed to complete each exercise. This will usually be done for you, but you will do it in this exercise by importing constant from tensorflow.\n",
    "\n",
    "After you have imported constant, you will use it to transform a numpy array, credit_numpy, into a tensorflow constant, credit_constant. This array contains feature columns from a dataset on credit card holders and is previewed in the image below. We will return to this dataset in later chapters.\n",
    "\n",
    "Note that tensorflow 2 allows you to use data as either a numpy array or a tensorflow constant object. Using a constant will ensure that any operations performed with that object are done in tensorflow. \n",
    "\n",
    "<img src=\"image/default_features.jpg\">\n",
    "\n",
    "Instruction\n",
    "\n",
    "- Import the constant submodule from the tensorflow module.\n",
    "- Convert the credit_numpy array into a constant object in tensorflow. Do not set the data type.\n"
   ],
   "cell_type": "markdown",
   "metadata": {}
  },
  {
   "cell_type": "code",
   "execution_count": 7,
   "metadata": {},
   "outputs": [
    {
     "output_type": "error",
     "ename": "NameError",
     "evalue": "name 'credit_numpy' is not defined",
     "traceback": [
      "\u001b[1;31m---------------------------------------------------------------------------\u001b[0m",
      "\u001b[1;31mNameError\u001b[0m                                 Traceback (most recent call last)",
      "\u001b[1;32m<ipython-input-7-80406da236c5>\u001b[0m in \u001b[0;36m<module>\u001b[1;34m\u001b[0m\n\u001b[0;32m      3\u001b[0m \u001b[1;33m\u001b[0m\u001b[0m\n\u001b[0;32m      4\u001b[0m \u001b[1;31m# Convert the credit_numpy array into a tensorflow constant\u001b[0m\u001b[1;33m\u001b[0m\u001b[1;33m\u001b[0m\u001b[1;33m\u001b[0m\u001b[0m\n\u001b[1;32m----> 5\u001b[1;33m \u001b[0mcredit_constant\u001b[0m \u001b[1;33m=\u001b[0m \u001b[0mconstant\u001b[0m\u001b[1;33m(\u001b[0m\u001b[0mcredit_numpy\u001b[0m\u001b[1;33m)\u001b[0m\u001b[1;33m\u001b[0m\u001b[1;33m\u001b[0m\u001b[0m\n\u001b[0m\u001b[0;32m      6\u001b[0m \u001b[1;33m\u001b[0m\u001b[0m\n\u001b[0;32m      7\u001b[0m \u001b[1;31m# Print constant datatype\u001b[0m\u001b[1;33m\u001b[0m\u001b[1;33m\u001b[0m\u001b[1;33m\u001b[0m\u001b[0m\n",
      "\u001b[1;31mNameError\u001b[0m: name 'credit_numpy' is not defined"
     ]
    }
   ],
   "source": [
    "# Import constant from TensorFlow\n",
    "from tensorflow import constant\n",
    "\n",
    "# Convert the credit_numpy array into a tensorflow constant\n",
    "credit_constant = constant(credit_numpy)\n",
    "\n",
    "# Print constant datatype\n",
    "print('\\n The datatype is:', credit_constant.dtype)\n",
    "\n",
    "# Print constant shape\n",
    "print('\\n The shape is:', credit_constant.shape)"
   ]
  },
  {
   "source": [
    "## Exercise II :    Defining variables\n",
    "\n",
    "Unlike a constant, a variable's value can be modified. This will be useful when we want to train a model by updating its parameters.\n",
    "\n",
    "Let's try defining and printing a variable. We'll then convert the variable to a numpy array, print again, and check for differences. Note that Variable(), which is used to create a variable tensor, has been imported from tensorflow and is available to use in the exercise.\n",
    "\n",
    "Instruction\n",
    "\n",
    "- Define a variable, A1, as the 1-dimensional tensor: $[1, 2, 3, 4]$.\n",
    "- Apply .numpy() to A1 and assign it to B1.\n"
   ],
   "cell_type": "markdown",
   "metadata": {}
  },
  {
   "cell_type": "code",
   "execution_count": null,
   "metadata": {},
   "outputs": [],
   "source": [
    "# Define the 1-dimensional variable A1\n",
    "A1 = Variable([1, 2, 3, 4])\n",
    "\n",
    "# Print the variable A1\n",
    "print('\\n A1: ', A1)\n",
    "\n",
    "# Convert A1 to a numpy array and assign it to B1\n",
    "B1 = A1.numpy()\n",
    "\n",
    "# Print B1\n",
    "print('\\n B1: ', B1)"
   ]
  },
  {
   "source": [
    "# (2) Basic Operations\n",
    "\n",
    "## What is a TensorFlow operation?\n",
    "\n",
    "<img src=\"image/Screenshot 2021-01-09 014931.png\">\n",
    "\n",
    "## Applying the addition operator"
   ],
   "cell_type": "markdown",
   "metadata": {}
  },
  {
   "cell_type": "code",
   "execution_count": 10,
   "metadata": {},
   "outputs": [
    {
     "output_type": "stream",
     "name": "stdout",
     "text": [
      "tf.Tensor([3], shape=(1,), dtype=int32) tf.Tensor([4 6], shape=(2,), dtype=int32) tf.Tensor(\n[[ 6  8]\n [10 12]], shape=(2, 2), dtype=int32)\n"
     ]
    }
   ],
   "source": [
    "# Import constant and add from tensorflow\n",
    "from tensorflow import constant, add\n",
    "\n",
    "# Define 0-dimensional tensors\n",
    "A0 = constant([1])\n",
    "B0 = constant([2])\n",
    "\n",
    "# Define 1-dimensional tensors\n",
    "A1 = constant([1, 2])\n",
    "B1 = constant([3, 4])\n",
    "\n",
    "# Define 2-dimensional tensors\n",
    "A2 = constant([[1, 2], [3, 4]])\n",
    "B2 = constant([[5, 6], [7, 8]])\n",
    "\n",
    "# Perform tensor addition with add()\n",
    "C0 = add(A0, B0)\n",
    "C1 = add(A1, B1)\n",
    "C2 = add(A2, B2)\n",
    "\n",
    "print(C0, C1, C2)"
   ]
  },
  {
   "source": [
    "## Performing tensor addition\n",
    "\n",
    "- The add() operation performs element-wise addition with two tensors\n",
    "- Element-wise addition requires both tensors to have the same shape:\n",
    "    - Scalar addition: $1 + 2 = 3$\n",
    "\n",
    "    - Vector addition: $[1, 2] + [3, 4] = [4, 6]$\n",
    "    \n",
    "    - Matrix addition: $\\begin{bmatrix} 1 & 2 \\\\ 3 & 4 \\end{bmatrix}$\n",
    "- The add() operation is overloaded\n",
    "\n",
    "## How to perform multiplication in TensorFlow\n",
    "\n",
    "- Element-wise multiplication performed using multiply() operation\n",
    "    - The tensors multiplied must have the same shape\n",
    "    - E.g. $[1, 2, 3]$ and $[3, 4, 5]$ or $[1, 2]$ and $[3, 4]$\n",
    "- Matrix multiplication performed with matmul() operator\n",
    "    - The matmul(A, B) operation multiplies A by B\n",
    "    - Number of columns of A must equal the number of rows of B"
   ],
   "cell_type": "markdown",
   "metadata": {}
  },
  {
   "cell_type": "code",
   "execution_count": null,
   "metadata": {},
   "outputs": [],
   "source": []
  }
 ]
}