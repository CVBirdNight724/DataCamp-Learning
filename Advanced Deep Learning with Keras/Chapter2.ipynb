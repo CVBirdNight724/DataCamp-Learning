{
 "metadata": {
  "language_info": {
   "codemirror_mode": {
    "name": "ipython",
    "version": 3
   },
   "file_extension": ".py",
   "mimetype": "text/x-python",
   "name": "python",
   "nbconvert_exporter": "python",
   "pygments_lexer": "ipython3",
   "version": 3
  },
  "orig_nbformat": 2
 },
 "nbformat": 4,
 "nbformat_minor": 2,
 "cells": [
  {
   "source": [
    "# Two Input Networks Using Categorical Embeddings, Shared Layers, and Merge Layers\n",
    "\n",
    "In this chapter, you will build two-input networks that use categorical embeddings to represent high-cardinality data, shared layers to specify re-usable building blocks, and merge layers to join multiple inputs to a single output. By the end of this chapter, you will have the foundational building blocks for designing neural networks with complex data flows."
   ],
   "cell_type": "markdown",
   "metadata": {}
  },
  {
   "source": [
    "# (1) Category embeddings\n",
    "\n",
    "## Category embeddings\n",
    "- Input: integers\n",
    "- Output: floats\n",
    "- Note: Increased dimensionality: output layer flattens back to 2D\n",
    "\n",
    "<img src=\"image/Screenshot 2021-01-31 175757.png\">\n",
    "\n",
    "## Inputs"
   ],
   "cell_type": "markdown",
   "metadata": {}
  },
  {
   "cell_type": "code",
   "execution_count": null,
   "metadata": {},
   "outputs": [],
   "source": [
    "input_tensor = Input(shape=(1,))"
   ]
  },
  {
   "source": [
    "## Embedding Layer"
   ],
   "cell_type": "markdown",
   "metadata": {}
  },
  {
   "cell_type": "code",
   "execution_count": null,
   "metadata": {},
   "outputs": [],
   "source": [
    "from keras.layers import Embedding\n",
    "input_tensor = Input(shape=(1,))\n",
    "n_team = 10887\n",
    "embed_layer = Embedding(input_dim=n_team,\n",
    "                        input_length=1,\n",
    "                        output_dim=1,\n",
    "                        name='Team-Strength-Lookup')\n",
    "embed_tensor = embed_layer(input_tensor)"
   ]
  },
  {
   "source": [
    "## Flattening"
   ],
   "cell_type": "markdown",
   "metadata": {}
  },
  {
   "cell_type": "code",
   "execution_count": null,
   "metadata": {},
   "outputs": [],
   "source": [
    "from keras.layers import Flatten\n",
    "flatten_tensor = Flatten()(embed_tensor)"
   ]
  },
  {
   "source": [
    "## Put it all together"
   ],
   "cell_type": "markdown",
   "metadata": {}
  },
  {
   "cell_type": "code",
   "execution_count": null,
   "metadata": {},
   "outputs": [],
   "source": [
    "input_tensor = Input(shape=(1,))\n",
    "n_teams = 10887\n",
    "embed_layer = Embedding(input_dim=n_teams,\n",
    "                        input_length=1,\n",
    "                        output_dim=1,\n",
    "                        name='Team-Strength-Lookup')\n",
    "embed_tensor = embed_layer(input_tensor)\n",
    "flatten_tensor = Flatten()(embed_tensor)\n",
    "model = Model(input_tensor, flatten_tensor)"
   ]
  },
  {
   "source": [
    "# Exercise I: Define team lookup\n",
    "\n",
    "Shared layers allow a model to use the same weight matrix for multiple steps. In this exercise, you will build a \"team strength\" layer that represents each team by a single number. You will use this number for both teams in the model. The model will learn a number for each team that works well both when the team is `team_1` and when the team is `team_2` in the input data.\n",
    "\n",
    "The `games_season` DataFrame is available in your workspace.\n",
    "\n",
    "### Instructions\n",
    "\n",
    "- Count the number of unique teams.\n",
    "- Create an embedding layer that maps each team ID to a single number representing that team's strength.\n",
    "- The output shape should be 1 dimension (as we want to represent the teams by a single number).\n",
    "- The input length should be 1 dimension (as each team is represented by exactly one id).\n"
   ],
   "cell_type": "markdown",
   "metadata": {}
  },
  {
   "cell_type": "code",
   "execution_count": null,
   "metadata": {},
   "outputs": [],
   "source": [
    "# Imports\n",
    "from keras.layers import Embedding\n",
    "from numpy import unique\n",
    "\n",
    "# Count the unique number of teams\n",
    "n_teams = unique(games_season['team_1']).shape[0]\n",
    "\n",
    "# Create an embedding layer\n",
    "team_lookup = Embedding(input_dim=n_teams,\n",
    "                        output_dim=1,\n",
    "                        input_length=1,\n",
    "                        name='Team-Strength')"
   ]
  },
  {
   "source": [
    "# Exercise II: Define team model\n",
    "\n",
    "The team strength lookup has three components: an input, an embedding layer, and a flatten layer that creates the output.\n",
    "\n",
    "If you wrap these three layers in a model with an input and output, you can re-use that stack of three layers at multiple places.\n",
    "\n",
    "Note again that the weights for all three layers will be shared everywhere we use them.\n",
    "\n",
    "### Instructions\n",
    "\n",
    "- Create a 1D input layer for the team ID (which will be an integer). Be sure to set the correct input shape!\n",
    "- Pass this input to the team strength lookup layer you created previously.\n",
    "- Flatten the output of the team strength lookup.\n",
    "- Create a model that uses the 1D input as input and flattened team strength as output.\n"
   ],
   "cell_type": "markdown",
   "metadata": {}
  },
  {
   "cell_type": "code",
   "execution_count": null,
   "metadata": {},
   "outputs": [],
   "source": [
    "# Imports\n",
    "from keras.layers import Input, Embedding, Flatten\n",
    "from keras.models import Model\n",
    "\n",
    "# Create an input layer for the team ID\n",
    "teamid_in = Input(shape=(1,))\n",
    "\n",
    "# Lookup the input in the team strength embedding layer\n",
    "strength_lookup = team_lookup(teamid_in)\n",
    "\n",
    "# Flatten the output\n",
    "strength_lookup_flat = Flatten()(strength_lookup)\n",
    "\n",
    "# Combine the operations into a single, re-usable model\n",
    "team_strength_model = Model(teamid_in, strength_lookup_flat, name='Team-Strength-Model')"
   ]
  },
  {
   "source": [
    "# (2) Shared layers\n",
    "\n",
    "## Shared layers\n",
    "- Require the functional API\n",
    "- Very flexible\n",
    "\n",
    "<img src=\"image/Screenshot 2021-01-31 182054.png\">"
   ],
   "cell_type": "markdown",
   "metadata": {}
  },
  {
   "cell_type": "code",
   "execution_count": null,
   "metadata": {},
   "outputs": [],
   "source": [
    "input_tensor_1 = Input((1,))\n",
    "input_tensor_2 = Input((1,))"
   ]
  },
  {
   "cell_type": "code",
   "execution_count": null,
   "metadata": {},
   "outputs": [],
   "source": [
    "shared_layer = Dense(1)\n",
    "output_tensor_1 = shared_layer(input_tensor_1)\n",
    "output_tensor_2 = shared_layer(input_tensor_2)"
   ]
  },
  {
   "source": [
    "## Sharing multiple layers as a model"
   ],
   "cell_type": "markdown",
   "metadata": {}
  },
  {
   "source": [
    "input_tensor = Input(shape=(1,))\n",
    "n_teams = 10887\n",
    "embed_layer = Embedding(input_dim=n_teams,\n",
    "                        input_length=1,\n",
    "                        output_dim=1,\n",
    "                        name='Team-Strenth-Lookup')\n",
    "embed_tensor = embed_layer(input_tensor)\n",
    "flatten_tensor = Flatten()(embed_tensor)\n",
    "model = Model(input_tensor, flatten_tensor)"
   ],
   "cell_type": "code",
   "metadata": {},
   "execution_count": null,
   "outputs": []
  },
  {
   "cell_type": "code",
   "execution_count": null,
   "metadata": {},
   "outputs": [],
   "source": [
    "input_tensor_1 = Input((1,))\n",
    "input_tensor_2 = Input((1,))\n",
    "output_tensor_1 = model(input_tensor_1)\n",
    "output_tensor_2 = model(input_tensor_2)"
   ]
  },
  {
   "source": [
    "## Sharing multiple layers as a model\n",
    "\n",
    "<img src=\"image/Screenshot 2021-01-31 182740.png\">"
   ],
   "cell_type": "markdown",
   "metadata": {}
  },
  {
   "source": [
    "# Exercise III: Defining two inputs\n",
    "\n",
    "In this exercise, you will define two input layers for the two teams in your model. This allows you to specify later in the model how the data from each team will be used differently.\n",
    "\n",
    "### Instructions\n",
    "\n",
    "- Create an input layer to use for team 1. Recall that our input dimension is 1.\n",
    "- Name the input \"Team-1-In\" so you can later distinguish it from team 2.\n",
    "- Create an input layer to use for team 2, named \"Team-2-In\".\n"
   ],
   "cell_type": "markdown",
   "metadata": {}
  },
  {
   "cell_type": "code",
   "execution_count": null,
   "metadata": {},
   "outputs": [],
   "source": [
    "# Load the input layer from keras.layers\n",
    "from keras.layers import Input\n",
    "\n",
    "# Input layer for team 1\n",
    "team_in_1 = Input((1,), name='Team-1-In')\n",
    "\n",
    "# Separate input layer for team 2\n",
    "team_in_2 = Input((1,), name='Team-2-In')"
   ]
  },
  {
   "source": [
    "# Exercise IV: Lookup both inputs in the same model\n",
    "\n",
    "Now that you have a team strength model and an input layer for each team, you can lookup the team inputs in the shared team strength model. The two inputs will share the same weights.\n",
    "\n",
    "In this dataset, you have 10,888 unique teams. You want to learn a strength rating for each team, such that if any pair of teams plays each other, you can predict the score, even if those two teams have never played before. Furthermore, you want the strength rating to be the same, regardless of whether the team is the home team or the away team.\n",
    "\n",
    "To achieve this, you use a shared layer, defined by the re-usable model (`team_strength_model()`) you built in exercise 3 and the two input layers (`team_in_1` and `team_in_2`) from the previous exercise, all of which are available in your workspace.\n",
    "\n",
    "### Instructions\n",
    "\n",
    "- Lookup the first team ID in the team strength model.\n",
    "- Lookup the second team ID in the team strength model."
   ],
   "cell_type": "markdown",
   "metadata": {}
  },
  {
   "cell_type": "code",
   "execution_count": null,
   "metadata": {},
   "outputs": [],
   "source": [
    "# Lookup team 1 in the team strength model\n",
    "team_1_strength = team_strength_model(team_in_1)\n",
    "\n",
    "# Lookup team 2 in the team strength model\n",
    "team_2_strength = team_strength_model(team_in_2)"
   ]
  }
 ]
}