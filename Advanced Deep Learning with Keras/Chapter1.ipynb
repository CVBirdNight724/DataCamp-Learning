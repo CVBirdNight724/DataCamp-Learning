{
 "metadata": {
  "language_info": {
   "codemirror_mode": {
    "name": "ipython",
    "version": 3
   },
   "file_extension": ".py",
   "mimetype": "text/x-python",
   "name": "python",
   "nbconvert_exporter": "python",
   "pygments_lexer": "ipython3",
   "version": 3
  },
  "orig_nbformat": 2
 },
 "nbformat": 4,
 "nbformat_minor": 2,
 "cells": [
  {
   "source": [
    "# The Keras Functional API\n",
    "\n",
    "In this chapter, you'll become familiar with the basics of the Keras functional API. You'll build a simple functional network using functional building blocks, fit it to data, and make predictions."
   ],
   "cell_type": "markdown",
   "metadata": {}
  },
  {
   "source": [
    "# (1) Keras input and dense layers\n",
    "\n",
    "## Course outline\n",
    "- Chapter 1: Introduction to the Keras functional API (Refresher)\n",
    "- Chapter 2: Models with 2 inputs\n",
    "- Chapter 3: Models with 3 inputs\n",
    "- Chapter 4: Multiple outputs\n",
    "\n",
    "## Course Datasets: College basketball data, 1989-2017\n",
    "\n",
    "Dataset 1: Regular season\n",
    "- Team ID1\n",
    "- Team ID2\n",
    "- Home vs Away\n",
    "- Score Difference (Team 1 - Team 2)\n",
    "- Team 1 Score\n",
    "- Team 2 Score\n",
    "- Won vs Loss\n",
    "- \n",
    "Dataset 2: Tournament games\n",
    "- Same as Dataset 1\n",
    "- Also has Difference in Seed\n",
    "\n",
    "## Course Datasets: College basketball"
   ],
   "cell_type": "markdown",
   "metadata": {}
  },
  {
   "cell_type": "code",
   "execution_count": null,
   "metadata": {},
   "outputs": [],
   "source": [
    "import pandas as pd\n",
    "games_season = pd.read_csv(\"datasets/games_season.csv\")\n",
    "games_season.head()\n",
    "\n",
    "games_tourney = pd.read_csv(\"datasets/games_tourney.csv\")\n",
    "games_tourney.head()"
   ]
  },
  {
   "source": [
    "## Inputs and outputs\n",
    "\n",
    "Two functional parts:\n",
    "\n",
    "- Input layer\n",
    "- Output layer\n",
    "\n",
    "<img src=\"image/Screenshot 2021-01-31 011356.png\">\n",
    "\n",
    "## Inputs"
   ],
   "cell_type": "markdown",
   "metadata": {}
  },
  {
   "cell_type": "code",
   "execution_count": null,
   "metadata": {},
   "outputs": [],
   "source": [
    "from keras.layers import Input\n",
    "input_tensor = Input(shape=(1,))"
   ]
  },
  {
   "cell_type": "code",
   "execution_count": null,
   "metadata": {},
   "outputs": [],
   "source": [
    "from keras.layers import Input\n",
    "input_tensor = Input(shape=(1,))\n",
    "print(input_tensor)\n",
    "\n",
    "<tf.Tensor 'input_1:0' shape=(?, 1) dtype=float32> "
   ]
  },
  {
   "source": [
    "## Outputs"
   ],
   "cell_type": "markdown",
   "metadata": {}
  },
  {
   "cell_type": "code",
   "execution_count": null,
   "metadata": {},
   "outputs": [],
   "source": [
    "from keras.layers import Dense\n",
    "output_layer = Dense(1)"
   ]
  },
  {
   "cell_type": "code",
   "execution_count": null,
   "metadata": {},
   "outputs": [],
   "source": [
    "from keras.layers import Dense\n",
    "output_layer = Dense(1)\n",
    "print(output_layer)\n",
    "\n",
    "<keras.layers.core.Dense at 0x7f22e0295a58>"
   ]
  },
  {
   "source": [
    "## Connecting inputs to outputs"
   ],
   "cell_type": "markdown",
   "metadata": {}
  },
  {
   "cell_type": "code",
   "execution_count": null,
   "metadata": {},
   "outputs": [],
   "source": [
    "from keras.layers import Input, Dense\n",
    "input_tensor = Input(shape=(1,))\n",
    "output_layer = Dense(1)\n",
    "output_layer = output_layer(input_tensor)"
   ]
  },
  {
   "source": [
    "print(output_tensor)\n",
    "\n",
    "<tf.Tensor 'dense_1/BiasAdd:0' shape=(?, 1) dtype=float32>"
   ],
   "cell_type": "code",
   "metadata": {},
   "execution_count": null,
   "outputs": []
  },
  {
   "source": [
    "# Exercise I: Input layers\n",
    "\n",
    "The first step in creating a neural network model is to define the Input layer. This layer takes in raw data, usually in the form of numpy arrays. The shape of the Input layer defines how many variables your neural network will use. For example, if the input data has 10 columns, you define an Input layer with a shape of `(10,)`.\n",
    "\n",
    "In this case, you are only using one input in your network.\n",
    "\n",
    "This course touches on a lot of concepts you may have forgotten, so if you ever need a quick refresher, download the [Keras Cheat Sheet](https://datacamp-community-prod.s3.amazonaws.com/94fc681d-5422-40cb-a129-2218e9522f17) and keep it handy!\n",
    "\n",
    "### Instructions\n",
    "\n",
    "- Import the `Input` layer function from `keras.layers`.\n",
    "- Create an input layer of shape 1.\n"
   ],
   "cell_type": "markdown",
   "metadata": {}
  },
  {
   "cell_type": "code",
   "execution_count": null,
   "metadata": {},
   "outputs": [],
   "source": [
    "# Import Input from keras.layers\n",
    "from keras.layers import Input\n",
    "\n",
    "# Create an input layer of shape 1\n",
    "input_tensor = Input(shape=(1,))"
   ]
  },
  {
   "source": [
    "# Exercise II: Dense layers\n",
    "\n",
    "Once you have an Input layer, the next step is to add a Dense layer.\n",
    "\n",
    "Dense layers learn a weight matrix, where the first dimension of the matrix is the dimension of the input data, and the second dimension is the dimension of the output data. Recall that your Input layer has a shape of 1. In this case, your output layer will also have a shape of 1. This means that the Dense layer will learn a 1x1 weight matrix.\n",
    "\n",
    "In this exercise, you will add a dense layer to your model, after the input layer.\n",
    "\n",
    "### Instrutions\n",
    "\n",
    "- Import the `Dense` layer function from `keras.layers`.\n",
    "- Create a Dense layer with 1 unit.\n",
    "- Pass `input_tensor` to `output_layer()`.\n"
   ],
   "cell_type": "markdown",
   "metadata": {}
  },
  {
   "cell_type": "code",
   "execution_count": null,
   "metadata": {},
   "outputs": [],
   "source": [
    "# Load layers\n",
    "from keras.layers import Input, Dense\n",
    "\n",
    "# Input layer\n",
    "input_tensor = Input(shape=(1,))\n",
    "\n",
    "# Dense layer\n",
    "output_layer = Dense(1)\n",
    "\n",
    "# Connect the dense layer to the input_tensor\n",
    "output_tensor = output_layer(input_tensor)"
   ]
  },
  {
   "source": [
    "# Exercise III: Output layers\n",
    "\n",
    "Output layers are simply Dense layers! Output layers are used to reduce the dimension of the inputs to the dimension of the outputs. You'll learn more about output dimensions in chapter 4, but for now, you'll always use a single output in your neural networks, which is equivalent to `Dense(1)` or a dense layer with a single unit.\n",
    "\n",
    "### Instructions\n",
    "\n",
    "\n",
    "- Import the `Input` and `Dense` functions from `keras.layers`.\n",
    "- Create an input layer of shape 1.\n",
    "- Again, create a dense layer with 1 unit and pass `input_tensor` directly to it.\n"
   ],
   "cell_type": "markdown",
   "metadata": {}
  },
  {
   "cell_type": "code",
   "execution_count": null,
   "metadata": {},
   "outputs": [],
   "source": [
    "# Load layers\n",
    "from keras.layers import Input, Dense\n",
    "\n",
    "# Input layer\n",
    "input_tensor = Input(shape=(1,))\n",
    "\n",
    "# Create a dense layer and connect the dense layer to the input_tensor in one step\n",
    "# Note that we did this in 2 steps in the previous exercise, but are doing it in one step now\n",
    "output_tensor = Dense(1)(input_tensor)"
   ]
  },
  {
   "cell_type": "code",
   "execution_count": null,
   "metadata": {},
   "outputs": [],
   "source": [
    "# (2) Keras models\n",
    "\n",
    "## Keras models"
   ]
  },
  {
   "cell_type": "code",
   "execution_count": null,
   "metadata": {},
   "outputs": [],
   "source": [
    "from keras.layers import Input, Dense\n",
    "input_tensor = Input(shape=(1,))\n",
    "output_tensor = Dense(1)(input_tensor)"
   ]
  },
  {
   "source": [
    "<img src=\"image/Screenshot 2021-01-31 014934.png\">\n",
    "\n",
    "## Compile a model"
   ],
   "cell_type": "markdown",
   "metadata": {}
  },
  {
   "cell_type": "code",
   "execution_count": null,
   "metadata": {},
   "outputs": [],
   "source": [
    "model.compile(optimizer='adam', loss='mae')"
   ]
  },
  {
   "source": [
    "## Summarize the model\n",
    "\n",
    "<img src=\"image/Screenshot 2021-01-31 015154.png\">\n",
    "\n",
    "## Plot model using keras"
   ],
   "cell_type": "markdown",
   "metadata": {}
  },
  {
   "cell_type": "code",
   "execution_count": null,
   "metadata": {},
   "outputs": [],
   "source": [
    "input_tensor = Input(shape=(1,))\n",
    "output_layer = Dense(1, name='Predicted-Score-Diff')\n",
    "output_tensor = output_layer(input_tensor)\n",
    "model = Model(input_tensor, output_tensor)\n",
    "plot_model(model, to_file='model.png')\n",
    "\n",
    "from matplotlib import pyplot as plt\n",
    "img = plt.imread('model.png')\n",
    "plt.show(img)\n",
    "plt.show()"
   ]
  },
  {
   "source": [
    "<img src=\"image/Screenshot 2021-01-31 015756.png\">"
   ],
   "cell_type": "markdown",
   "metadata": {}
  },
  {
   "source": [
    "# Exercise IV: Build a model\n",
    "\n",
    "Once you've defined an input layer and an output layer, you can build a Keras model. The model object is how you tell Keras where the model starts and stops: where data comes in and where predictions come out.\n",
    "\n",
    "### Instructions\n",
    "\n",
    "- Import `Model` from `keras.models` to create a keras model.\n",
    "- Use the input layer and output layer you already defined as the model's input and output.\n"
   ],
   "cell_type": "markdown",
   "metadata": {}
  },
  {
   "cell_type": "code",
   "execution_count": null,
   "metadata": {},
   "outputs": [],
   "source": [
    "# Input/dense/output layers\n",
    "from keras.layers import Input, Dense\n",
    "input_tensor = Input(shape=(1,))\n",
    "output_tensor = Dense(1)(input_tensor)\n",
    "\n",
    "# Build the model\n",
    "from keras.models import Model\n",
    "model = Model(input_tensor, output_tensor)"
   ]
  },
  {
   "source": [
    "# Exercise V: Compile a model\n",
    "\n",
    "The final step in creating a model is compiling it. Now that you've created a model, you have to compile it before you can fit it to data. This finalizes your model, freezes all its settings, and prepares it to meet some data!\n",
    "\n",
    "During compilation, you specify the optimizer to use for fitting the model to the data, and a loss function. `'adam'` is a good default optimizer to use, and will generally work well. Loss function depends on the problem at hand. Mean squared error is a common loss function and will optimize for predicting the mean, as is done in least squares regression.\n",
    "\n",
    "Mean absolute error optimizes for the median and is used in quantile regression. For this dataset, `'mean_absolute_error'` works pretty well, so use it as your loss function.\n",
    "\n",
    "### Instructions\n",
    "\n",
    "- Compile the model you created (`model`).\n",
    "- Use the `'adam'` optimizer.\n",
    "- Use mean absolute error (or `'mean_absolute_error'`) loss.\n"
   ],
   "cell_type": "markdown",
   "metadata": {}
  },
  {
   "cell_type": "code",
   "execution_count": null,
   "metadata": {},
   "outputs": [],
   "source": [
    "# Compile the model\n",
    "model.compile(optimizer='adam', loss='mean_absolute_error')"
   ]
  },
  {
   "source": [
    "# Exercise V: Visualize a model\n",
    "\n",
    "Now that you've compiled the model, take a look a the result of your hard work! You can do this by looking at the model summary, as well as its plot.\n",
    "\n",
    "The summary will tell you the names of the layers, as well as how many units they have and how many parameters are in the model.\n",
    "\n",
    "The plot will show how the layers connect to each other.\n",
    "\n",
    "<img src=\"image/Screenshot 2021-01-31 015756.png\">\n",
    "\n",
    "### Instructions\n",
    "\n",
    "- Summarize the model.\n",
    "- Plot the model."
   ],
   "cell_type": "markdown",
   "metadata": {}
  },
  {
   "cell_type": "code",
   "execution_count": null,
   "metadata": {},
   "outputs": [],
   "source": [
    "# Import the plotting function\n",
    "from keras.utils import plot_model\n",
    "import matplotlib.pyplot as plt\n",
    "\n",
    "# Summarize the model\n",
    "model.summary()\n",
    "\n",
    "# Plot the model\n",
    "plot_model(model, to_file='model.png')\n",
    "\n",
    "# Display the image\n",
    "data = plt.imread('model.png')\n",
    "plt.imshow(data)\n",
    "plt.show()"
   ]
  },
  {
   "source": [
    "## Plots\n",
    "\n",
    "<img src=\"image/2021-01-31 020832.svg\" weigth=50%>"
   ],
   "cell_type": "markdown",
   "metadata": {}
  },
  {
   "source": [
    "# (3) Fit and evaluate a model\n",
    "\n",
    "## Basketball Data\n",
    "Goal: Predict tournament outcomes\n",
    "\n",
    "Data Available: team ratings from the tournament organizers"
   ],
   "cell_type": "markdown",
   "metadata": {}
  },
  {
   "cell_type": "code",
   "execution_count": null,
   "metadata": {},
   "outputs": [],
   "source": [
    "import pandas as pd\n",
    "games_tourney = pd.read_csv('datasets/games_tourney.csv')\n",
    "games_tourney.head()"
   ]
  },
  {
   "source": [
    "Input:\n",
    "\n",
    "- Seed difference - one number: -15 to %2015\n",
    "- Seed range from 1-16\n",
    "- Highest difference is 16-1 = %2015\n",
    "- Lowest difference is 1-16 = -15\n",
    "\n",
    "Output:\n",
    "\n",
    "- Score difference - one number: -50 to %2050\n",
    "\n",
    "- Seed difference: 15\n",
    "    - Team 1: 16\n",
    "    - Team 2: 1\n",
    "- Seed difference: -15\n",
    "    - Team 1: 1\n",
    "    - Team 2: 16\n",
    "\n",
    "<img src=\"image/Screenshot 2021-01-31 115045.png\" width=50%>\n",
    "\n",
    "- Score difference: -9\n",
    "    - Team 1: 41\n",
    "    - Team 2: 50\n",
    "- Score difference: 6\n",
    "    - Team 1: 61\n",
    "    - Team 2: 55\n",
    "\n",
    "<img src=\"image/Screenshot 2021-01-31 115309.png\" width=50%>"
   ],
   "cell_type": "markdown",
   "metadata": {}
  },
  {
   "source": [
    "import pandas as pd\n",
    "games_tourney = pd.read_csv('datasets/games_tourney_samp.csv')\n",
    "games_tourney.head()"
   ],
   "cell_type": "code",
   "metadata": {},
   "execution_count": null,
   "outputs": []
  },
  {
   "source": [
    "## Build the model"
   ],
   "cell_type": "markdown",
   "metadata": {}
  },
  {
   "cell_type": "code",
   "execution_count": null,
   "metadata": {},
   "outputs": [],
   "source": [
    "from keras.models import Model\n",
    "from keras.layers import Input, Dense\n",
    "input_tensor = Input(shape=(1,))\n",
    "output_tensor = Dense(1)(input_tensor)\n",
    "model = Model(input_tensor, output_tensor)\n",
    "model.compile(optimizer='adam', loss='mae') "
   ]
  },
  {
   "source": [
    "## Fit the model"
   ],
   "cell_type": "markdown",
   "metadata": {}
  },
  {
   "cell_type": "code",
   "execution_count": null,
   "metadata": {},
   "outputs": [],
   "source": [
    "from pandas import read_csv\n",
    "games = read_csv('datasets/games_tourney.csv')\n",
    "model.fit(games['seed_diff'],\n",
    "            games['score_diff'],\n",
    "            batch_size=64,\n",
    "            validation_split=.20,\n",
    "            verbose=True)"
   ]
  },
  {
   "source": [
    "## Evaluate the model"
   ],
   "cell_type": "markdown",
   "metadata": {}
  },
  {
   "source": [
    "model.evaluate(games_test['seed_diff'],\n",
    "                games_test['score_diff'])"
   ],
   "cell_type": "code",
   "metadata": {},
   "execution_count": null,
   "outputs": []
  },
  {
   "source": [
    "# Exercise VI: Fit the model to the tournament basketball data\n",
    "\n",
    "Now that the model is compiled, you are ready to fit it to some data!\n",
    "\n",
    "In this exercise, you'll use a dataset of scores from US College Basketball tournament games. Each row of the dataset has the team ids: `team_1` and `team_2`, as integers. It also has the seed difference between the teams (seeds are assigned by the tournament committee and represent a ranking of how strong the teams are) and the score difference of the game (e.g. if `team_1` wins by 5 points, the score difference is `5`).\n",
    "\n",
    "To fit the model, you provide a matrix of X variables (in this case one column: the seed difference) and a matrix of Y variables (in this case one column: the score difference).\n",
    "\n",
    "The `games_tourney` DataFrame along with the compiled `model` object is available in your workspace.\n",
    "\n",
    "### Instructions\n",
    "\n",
    "- Fit the model with `seed_diff` as the input variable and `score_diff` as the output variable.\n",
    "- Use 1 epoch, a batch size of 128, and a 10% validation split.\n"
   ],
   "cell_type": "markdown",
   "metadata": {}
  },
  {
   "cell_type": "code",
   "execution_count": null,
   "metadata": {},
   "outputs": [],
   "source": [
    "# Now fit the model\n",
    "model.fit(games_tourney_train['seed_diff'], games_tourney_train['score_diff'],\n",
    "          epochs=1,\n",
    "          batch_size=128,\n",
    "          validation_split=0.1,\n",
    "          verbose=True)"
   ]
  },
  {
   "source": [
    "# Exercise VII: Evaluate the model on a test set\n",
    "\n",
    "After fitting the model, you can evaluate it on new data. You will give the model a new `X` matrix (also called test data), allow it to make predictions, and then compare to the known `y` variable (also called target data).\n",
    "\n",
    "In this case, you'll use data from the post-season tournament to evaluate your model. The tournament games happen after the regular season games you used to train our model, and are therefore a good evaluation of how well your model performs out-of-sample.\n",
    "\n",
    "The `games_tourney_test` DataFrame along with the fitted `model` object is available in your workspace.\n",
    "\n",
    "### Instructions\n",
    "\n",
    "- Assign the test data (`seed_diff` column) to `X_test`.\n",
    "- Assign the target data (`score_diff` column) to `y_test`.\n",
    "- Evaluate the model on `X_test` and `y_test`.\n"
   ],
   "cell_type": "markdown",
   "metadata": {}
  },
  {
   "cell_type": "code",
   "execution_count": null,
   "metadata": {},
   "outputs": [],
   "source": [
    "# Load the X variable from the test data\n",
    "X_test = games_tourney_test['seed_diff']\n",
    "\n",
    "# Load the y variable from the test data\n",
    "y_test = games_tourney_test['score_diff']\n",
    "\n",
    "# Evaluate the model on the test data\n",
    "print(model.evaluate(X_test, y_test, verbose=False))"
   ]
  }
 ]
}