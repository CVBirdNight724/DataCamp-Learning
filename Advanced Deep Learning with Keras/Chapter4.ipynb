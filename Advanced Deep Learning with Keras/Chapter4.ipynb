{
 "metadata": {
  "language_info": {
   "codemirror_mode": {
    "name": "ipython",
    "version": 3
   },
   "file_extension": ".py",
   "mimetype": "text/x-python",
   "name": "python",
   "nbconvert_exporter": "python",
   "pygments_lexer": "ipython3",
   "version": "3.7.7-final"
  },
  "orig_nbformat": 2,
  "kernelspec": {
   "name": "python3",
   "display_name": "Python 3"
  }
 },
 "nbformat": 4,
 "nbformat_minor": 2,
 "cells": [
  {
   "source": [
    "# Multiple Outputs\n",
    "\n",
    "In this chapter, you will build neural networks with multiple outputs, which can be used to solve regression problems with multiple targets. You will also build a model that solves a regression problem and a classification problem simultaneously."
   ],
   "cell_type": "markdown",
   "metadata": {}
  },
  {
   "source": [
    "# (1) Two-output models \n",
    "\n",
    "## Simple model with 2 outputs"
   ],
   "cell_type": "markdown",
   "metadata": {}
  },
  {
   "cell_type": "code",
   "execution_count": null,
   "metadata": {},
   "outputs": [],
   "source": [
    "from keras.layers import Input, Concatenate, Dense\n",
    "input_tensor = Input(shape=(1,))\n",
    "output_tensor = Dense(2)(input_tensor)"
   ]
  },
  {
   "source": [
    "<img src=\"image/Screenshot 2021-01-31 234418.png\">"
   ],
   "cell_type": "markdown",
   "metadata": {}
  },
  {
   "cell_type": "code",
   "execution_count": null,
   "metadata": {},
   "outputs": [],
   "source": [
    "from keras.models import Model\n",
    "model = Model(input_tensor, output_tensor)\n",
    "model.compile(optimizer='adam', loss='mean_absolute_error')"
   ]
  },
  {
   "source": [
    "<img src=\"image/Screenshot 2021-01-31 234612.png\">"
   ],
   "cell_type": "markdown",
   "metadata": {}
  },
  {
   "source": [
    "## Fiting a model with 2 outputs"
   ],
   "cell_type": "markdown",
   "metadata": {}
  },
  {
   "cell_type": "code",
   "execution_count": null,
   "metadata": {},
   "outputs": [],
   "source": [
    "games_tourney_train[['seed_diff', 'score_1', 'score_2']].head()"
   ]
  },
  {
   "source": [
    "| | Seed_diff | Score_1 | Score_2 |\n",
    "| :-: | :-: | :-: | :-: |\n",
    "| 0 | -3 | 41 | 50 |\n",
    "| 1 | 4 | 61 | 55 |\n",
    "| 2 | 5 | 59 | 63 |\n",
    "| 3 | 3 | 50 | 41 |\n",
    "| 4 | 1 | 54 | 63 |"
   ],
   "cell_type": "markdown",
   "metadata": {}
  },
  {
   "cell_type": "code",
   "execution_count": null,
   "metadata": {},
   "outputs": [],
   "source": [
    "X = games_tourney_train[['seed_diff']]\n",
    "y = games_tourney_train[['score_1', 'score_2']]\n",
    "model.fit(X, y, epochs=500)"
   ]
  },
  {
   "source": [
    "## Inspecting a 2 output model"
   ],
   "cell_type": "markdown",
   "metadata": {}
  },
  {
   "cell_type": "code",
   "execution_count": null,
   "metadata": {},
   "outputs": [],
   "source": [
    "model.get_weights()"
   ]
  },
  {
   "cell_type": "code",
   "execution_count": null,
   "metadata": {},
   "outputs": [],
   "source": [
    "[array([[0.60714734]], dtype=float32), \n",
    "array([70.39491, 70.39306], dtype=float32)]"
   ]
  },
  {
   "source": [
    "## Evaluating a model with 2 outputs"
   ],
   "cell_type": "markdown",
   "metadata": {}
  },
  {
   "cell_type": "code",
   "execution_count": null,
   "metadata": {},
   "outputs": [],
   "source": [
    "X = games_tourney_test[['seed_diff']]\n",
    "y = games_tourney_test[['score_1', 'score_2']]\n",
    "model.evalute(X, y)"
   ]
  },
  {
   "cell_type": "code",
   "execution_count": null,
   "metadata": {},
   "outputs": [],
   "source": [
    "11.528035634635021"
   ]
  },
  {
   "source": [
    "# Exercise I: Simple two-output model\n",
    "\n",
    "In this exercise, you will use the tournament data to build one model that makes two predictions: the scores of both teams in a given game. Your inputs will be the seed difference of the two teams, as well as the predicted score difference from the model you built in chapter 3.\n",
    "\n",
    "The output from your model will be the predicted score for team 1 as well as team 2. This is called \"multiple target regression\": one model making more than one prediction.\n",
    "\n",
    "### Instructions\n",
    "\n",
    "- Create a single input layer with 2 columns.\n",
    "- Connect this input to a Dense layer with 2 units.\n",
    "- Create a model with `input_tensor` as the input and `output_tensor` as the output.\n",
    "- Compile the model with `'adam'` as the optimizer and `'mean_absolute_error'` as the loss function.\n"
   ],
   "cell_type": "markdown",
   "metadata": {}
  },
  {
   "cell_type": "code",
   "execution_count": null,
   "metadata": {},
   "outputs": [],
   "source": [
    "# Define the input\n",
    "input_tensor = Input(shape=(2,))\n",
    "\n",
    "# Define the output\n",
    "output_tensor = Dense(2)(input_tensor)\n",
    "\n",
    "# Create a model\n",
    "model = Model(input_tensor, output_tensor)\n",
    "\n",
    "# Compile the model\n",
    "model.compile(optimizer='adam', loss='mean_absolute_error')"
   ]
  },
  {
   "source": [
    "## Exercise II: Fit a model with two outputs\n",
    "\n",
    "Now that you've defined your 2-output model, fit it to the tournament data. I've split the data into `games_tourney_train` and `games_tourney_test`, so use the training set to fit for now.\n",
    "\n",
    "This model will use the pre-tournament seeds, as well as your pre-tournament predictions from the regular season model you built previously in this course.\n",
    "\n",
    "As a reminder, this model will predict the scores of both teams.\n",
    "\n",
    "### Instructions\n",
    "\n",
    "- Fit the model to the `games_tourney_train` dataset using 100 epochs and a batch size of 16384.\n",
    "- The input columns are `'seed_diff'`, and `'pred'`.\n",
    "- The target columns are `'score_1'` and `'score_2'`.\n"
   ],
   "cell_type": "markdown",
   "metadata": {}
  },
  {
   "cell_type": "code",
   "execution_count": null,
   "metadata": {},
   "outputs": [],
   "source": [
    "# Fit the model\n",
    "model.fit(games_tourney_train[['seed_diff', 'pred']],\n",
    "  \t\t  games_tourney_train[['score_1', 'score_2']],\n",
    "  \t\t  verbose=True,\n",
    "  \t\t  epochs=100,\n",
    "  \t\t  batch_size=16384)"
   ]
  },
  {
   "source": [
    "# Exercise III: Inspect the model (I)\n",
    "\n",
    "Now that you've fit your model, let's take a look at it. You can use the `.get_weights()` method to inspect your model's weights.\n",
    "\n",
    "The input layer will have 4 weights: 2 for each input times 2 for each output.\n",
    "\n",
    "The output layer will have 2 weights, one for each output.\n",
    "\n",
    "### Instructions\n",
    "\n",
    "- Print the `model`'s weights.\n",
    "- Print the column means of the training data (`games_tourney_train`).\n"
   ],
   "cell_type": "markdown",
   "metadata": {}
  },
  {
   "cell_type": "code",
   "execution_count": null,
   "metadata": {},
   "outputs": [],
   "source": [
    "# Print the model's weights\n",
    "print(model.get_weights())\n",
    "\n",
    "# Print the column means of the training data\n",
    "print(games_tourney_train.mean())"
   ]
  },
  {
   "source": [
    "# Exercise IV: Evaluate the model\n",
    "\n",
    "Now that you've fit your model and inspected it's weights to make sure it makes sense, evaluate it on the tournament test set to see how well it performs on new data.\n",
    "\n",
    "### Instructions\n",
    "\n",
    "- Evaluate the model on `games_tourney_test`.\n",
    "- Use the same inputs and outputs as the training set.\n"
   ],
   "cell_type": "markdown",
   "metadata": {}
  },
  {
   "cell_type": "code",
   "execution_count": null,
   "metadata": {},
   "outputs": [],
   "source": [
    "# Evaluate the model on the tournament test data\n",
    "print(model.evaluate(games_tourney_test[['seed_diff', 'pred']], games_tourney_test[['score_1', 'score_2']], verbose=False))"
   ]
  }
 ]
}