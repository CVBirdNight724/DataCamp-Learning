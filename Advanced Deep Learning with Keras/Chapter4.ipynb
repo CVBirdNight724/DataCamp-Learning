{
 "metadata": {
  "language_info": {
   "codemirror_mode": {
    "name": "ipython",
    "version": 3
   },
   "file_extension": ".py",
   "mimetype": "text/x-python",
   "name": "python",
   "nbconvert_exporter": "python",
   "pygments_lexer": "ipython3",
   "version": "3.7.7-final"
  },
  "orig_nbformat": 2,
  "kernelspec": {
   "name": "python3",
   "display_name": "Python 3",
   "language": "python"
  }
 },
 "nbformat": 4,
 "nbformat_minor": 2,
 "cells": [
  {
   "source": [
    "# Multiple Outputs\n",
    "\n",
    "In this chapter, you will build neural networks with multiple outputs, which can be used to solve regression problems with multiple targets. You will also build a model that solves a regression problem and a classification problem simultaneously."
   ],
   "cell_type": "markdown",
   "metadata": {}
  },
  {
   "source": [
    "# (1) Two-output models \n",
    "\n",
    "## Simple model with 2 outputs"
   ],
   "cell_type": "markdown",
   "metadata": {}
  },
  {
   "cell_type": "code",
   "execution_count": null,
   "metadata": {},
   "outputs": [],
   "source": [
    "from keras.layers import Input, Concatenate, Dense\n",
    "input_tensor = Input(shape=(1,))\n",
    "output_tensor = Dense(2)(input_tensor)"
   ]
  },
  {
   "source": [
    "<img src=\"image/Screenshot 2021-01-31 234418.png\">"
   ],
   "cell_type": "markdown",
   "metadata": {}
  },
  {
   "cell_type": "code",
   "execution_count": null,
   "metadata": {},
   "outputs": [],
   "source": [
    "from keras.models import Model\n",
    "model = Model(input_tensor, output_tensor)\n",
    "model.compile(optimizer='adam', loss='mean_absolute_error')"
   ]
  },
  {
   "source": [
    "<img src=\"image/Screenshot 2021-01-31 234612.png\">"
   ],
   "cell_type": "markdown",
   "metadata": {}
  },
  {
   "source": [
    "## Fiting a model with 2 outputs"
   ],
   "cell_type": "markdown",
   "metadata": {}
  },
  {
   "cell_type": "code",
   "execution_count": null,
   "metadata": {},
   "outputs": [],
   "source": [
    "games_tourney_train[['seed_diff', 'score_1', 'score_2']].head()"
   ]
  },
  {
   "cell_type": "code",
   "execution_count": null,
   "metadata": {},
   "outputs": [],
   "source": [
    "| | Seed_diff | Score_1 | Score_2 |\n",
    "| :-: | :-: | :-: | :-: |\n",
    "| 0 | -3 | 41 | 50 |\n",
    "| 1 | 4 | 61 | 55 |\n",
    "| 2 | 5 | 59 | 63 |\n",
    "| 3 | 3 | 50 | 41 |\n",
    "| 4 | 1 | 54 | 63 |"
   ]
  },
  {
   "cell_type": "code",
   "execution_count": null,
   "metadata": {},
   "outputs": [],
   "source": [
    "X = games_tourney_train[['seed_diff']]\n",
    "y = games_tourney_train[['score_1', 'score_2']]\n",
    "model.fit(X, y, epochs=500)"
   ]
  },
  {
   "source": [
    "## Inspecting a 2 output model"
   ],
   "cell_type": "markdown",
   "metadata": {}
  },
  {
   "cell_type": "code",
   "execution_count": null,
   "metadata": {},
   "outputs": [],
   "source": [
    "model.get_weights()"
   ]
  },
  {
   "cell_type": "code",
   "execution_count": null,
   "metadata": {},
   "outputs": [],
   "source": [
    "[array([[0.60714734]], dtype=float32), \n",
    "array([70.39491, 70.39306], dtype=float32)]"
   ]
  },
  {
   "source": [
    "## Evaluating a model with 2 outputs"
   ],
   "cell_type": "markdown",
   "metadata": {}
  },
  {
   "cell_type": "code",
   "execution_count": null,
   "metadata": {},
   "outputs": [],
   "source": [
    "X = games_tourney_test[['seed_diff']]\n",
    "y = games_tourney_test[['score_1', 'score_2']]\n",
    "model.evalute(X, y)"
   ]
  },
  {
   "cell_type": "code",
   "execution_count": null,
   "metadata": {},
   "outputs": [],
   "source": [
    "11.528035634635021"
   ]
  },
  {
   "source": [
    "# Exercise I: Simple two-output model\n",
    "\n",
    "In this exercise, you will use the tournament data to build one model that makes two predictions: the scores of both teams in a given game. Your inputs will be the seed difference of the two teams, as well as the predicted score difference from the model you built in chapter 3.\n",
    "\n",
    "The output from your model will be the predicted score for team 1 as well as team 2. This is called \"multiple target regression\": one model making more than one prediction.\n",
    "\n",
    "### Instructions\n",
    "\n",
    "- Create a single input layer with 2 columns.\n",
    "- Connect this input to a Dense layer with 2 units.\n",
    "- Create a model with `input_tensor` as the input and `output_tensor` as the output.\n",
    "- Compile the model with `'adam'` as the optimizer and `'mean_absolute_error'` as the loss function.\n"
   ],
   "cell_type": "markdown",
   "metadata": {}
  },
  {
   "cell_type": "code",
   "execution_count": null,
   "metadata": {},
   "outputs": [],
   "source": [
    "# Define the input\n",
    "input_tensor = Input(shape=(2,))\n",
    "\n",
    "# Define the output\n",
    "output_tensor = Dense(2)(input_tensor)\n",
    "\n",
    "# Create a model\n",
    "model = Model(input_tensor, output_tensor)\n",
    "\n",
    "# Compile the model\n",
    "model.compile(optimizer='adam', loss='mean_absolute_error')"
   ]
  },
  {
   "source": [
    "## Exercise II: Fit a model with two outputs\n",
    "\n",
    "Now that you've defined your 2-output model, fit it to the tournament data. I've split the data into `games_tourney_train` and `games_tourney_test`, so use the training set to fit for now.\n",
    "\n",
    "This model will use the pre-tournament seeds, as well as your pre-tournament predictions from the regular season model you built previously in this course.\n",
    "\n",
    "As a reminder, this model will predict the scores of both teams.\n",
    "\n",
    "### Instructions\n",
    "\n",
    "- Fit the model to the `games_tourney_train` dataset using 100 epochs and a batch size of 16384.\n",
    "- The input columns are `'seed_diff'`, and `'pred'`.\n",
    "- The target columns are `'score_1'` and `'score_2'`.\n"
   ],
   "cell_type": "markdown",
   "metadata": {}
  },
  {
   "cell_type": "code",
   "execution_count": null,
   "metadata": {},
   "outputs": [],
   "source": [
    "# Fit the model\n",
    "model.fit(games_tourney_train[['seed_diff', 'pred']],\n",
    "  \t\t  games_tourney_train[['score_1', 'score_2']],\n",
    "  \t\t  verbose=True,\n",
    "  \t\t  epochs=100,\n",
    "  \t\t  batch_size=16384)"
   ]
  },
  {
   "source": [
    "# Exercise III: Inspect the model (I)\n",
    "\n",
    "Now that you've fit your model, let's take a look at it. You can use the `.get_weights()` method to inspect your model's weights.\n",
    "\n",
    "The input layer will have 4 weights: 2 for each input times 2 for each output.\n",
    "\n",
    "The output layer will have 2 weights, one for each output.\n",
    "\n",
    "### Instructions\n",
    "\n",
    "- Print the `model`'s weights.\n",
    "- Print the column means of the training data (`games_tourney_train`).\n"
   ],
   "cell_type": "markdown",
   "metadata": {}
  },
  {
   "cell_type": "code",
   "execution_count": null,
   "metadata": {},
   "outputs": [],
   "source": [
    "# Print the model's weights\n",
    "print(model.get_weights())\n",
    "\n",
    "# Print the column means of the training data\n",
    "print(games_tourney_train.mean())"
   ]
  },
  {
   "source": [
    "# Exercise IV: Evaluate the model\n",
    "\n",
    "Now that you've fit your model and inspected it's weights to make sure it makes sense, evaluate it on the tournament test set to see how well it performs on new data.\n",
    "\n",
    "### Instructions\n",
    "\n",
    "- Evaluate the model on `games_tourney_test`.\n",
    "- Use the same inputs and outputs as the training set.\n"
   ],
   "cell_type": "markdown",
   "metadata": {}
  },
  {
   "cell_type": "code",
   "execution_count": null,
   "metadata": {},
   "outputs": [],
   "source": [
    "# Evaluate the model on the tournament test data\n",
    "print(model.evaluate(games_tourney_test[['seed_diff', 'pred']], games_tourney_test[['score_1', 'score_2']], verbose=False))"
   ]
  },
  {
   "source": [
    "# (2) Single model for classification and regression\n",
    "\n",
    "## Building a simple regressor/classifier"
   ],
   "cell_type": "markdown",
   "metadata": {}
  },
  {
   "cell_type": "code",
   "execution_count": null,
   "metadata": {},
   "outputs": [],
   "source": [
    "from keras.layers import Input, Dense\n",
    "input_tensor = Input(shape=(1,))\n",
    "output_tensor_reg = Dense(1)(input_tensor)\n",
    "output_tensor_class = Dense(1, activation='sigmoid')(output_tensor_reg)"
   ]
  },
  {
   "source": [
    "<img src=\"image/Screenshot 2021-02-01 001654.png\">"
   ],
   "cell_type": "markdown",
   "metadata": {}
  },
  {
   "source": [
    "## Make a regressor/classifier model"
   ],
   "cell_type": "markdown",
   "metadata": {}
  },
  {
   "cell_type": "code",
   "execution_count": null,
   "metadata": {},
   "outputs": [],
   "source": [
    "from keras.models import Model\n",
    "model = Model(input_tensor, [output_tensor_reg, output_tensor_class])\n",
    "model.compile(loss=['mean_absolute_error', 'binary_crossentropy'], optimizer='adam')"
   ]
  },
  {
   "source": [
    "<img src=\"image/Screenshot 2021-02-01 001938.png\">"
   ],
   "cell_type": "markdown",
   "metadata": {}
  },
  {
   "source": [
    "## Fit the combination classifier/regressor"
   ],
   "cell_type": "markdown",
   "metadata": {}
  },
  {
   "cell_type": "code",
   "execution_count": null,
   "metadata": {},
   "outputs": [],
   "source": [
    "X = games_tourney_train[['seed_diff']]\n",
    "y_reg = games_tourney_train[['score_diff']]\n",
    "y_class = games_tourney_train['won']\n",
    "model.fit(X, [y_reg, y_class], epochs=100)"
   ]
  },
  {
   "source": [
    "## Look at the model's weights"
   ],
   "cell_type": "markdown",
   "metadata": {}
  },
  {
   "cell_type": "code",
   "execution_count": null,
   "metadata": {},
   "outputs": [],
   "source": [
    "model.get_weights()\n",
    "[array([[1.2371823]], dtype=float32),\n",
    "array([-0.05451894], dtype=float32),\n",
    "array([0.13870609], dtype=float32),\n",
    "array([0.00734114], dtype=float32)]"
   ]
  },
  {
   "source": [
    "<img src=\"image/Screenshot 2021-02-01 002511.png\">"
   ],
   "cell_type": "markdown",
   "metadata": {}
  },
  {
   "cell_type": "code",
   "execution_count": null,
   "metadata": {},
   "outputs": [],
   "source": [
    "model.get_weights()\n",
    "[array([[1.2371823]], dtype=float32),\n",
    "array([-0.05451894], dtype=float32),\n",
    "array([0.13870609], dtype=float32),\n",
    "array([0.00734114], dtype=float32)]"
   ]
  },
  {
   "cell_type": "code",
   "execution_count": null,
   "metadata": {},
   "outputs": [],
   "source": [
    "from scipy.special import expit as sigmoid\n",
    "print(sigmoid(1 * 0.13870609 + 0.00734114))"
   ]
  },
  {
   "cell_type": "code",
   "execution_count": null,
   "metadata": {},
   "outputs": [],
   "source": [
    "0.5364470465211318"
   ]
  },
  {
   "source": [
    "## Evaluate the model on new data"
   ],
   "cell_type": "markdown",
   "metadata": {}
  },
  {
   "cell_type": "code",
   "execution_count": null,
   "metadata": {},
   "outputs": [],
   "source": [
    "X = games_tourney_test[['seed_diff']]\n",
    "y_reg = games_tourney_test[['score_diff']]\n",
    "y_class = games_tourney_test[['won']]\n",
    "model.evaluate(X, [y_reg, y_class])"
   ]
  },
  {
   "cell_type": "code",
   "execution_count": null,
   "metadata": {},
   "outputs": [],
   "source": [
    "[9.866300069455413, 9.281179495657208, 0.585120575627864]"
   ]
  },
  {
   "source": [
    "# Exercise V: Classification and regression in one model\n",
    "\n",
    "Now you will create a different kind of 2-output model. This time, you will predict the score difference, instead of both team's scores and then you will predict the probability that team 1 won the game. This is a pretty cool model: it is going to do both classification and regression!\n",
    "\n",
    "In this model, turn off the bias, or intercept for each layer. Your inputs (seed difference and predicted score difference) have a mean of very close to zero, and your outputs both have means that are close to zero, so your model shouldn't need the bias term to fit the data well.\n",
    "\n",
    "### Instructions\n",
    "\n",
    "- Create a single input layer with 2 columns.\n",
    "- The first output layer should have 1 unit with `'linear'` activation and no bias term.\n",
    "- The second output layer should have 1 unit with `'sigmoid'` activation and no bias term. Also, use the first output layer as an input to this layer.\n",
    "- Create a model with these input and outputs.\n"
   ],
   "cell_type": "markdown",
   "metadata": {}
  },
  {
   "cell_type": "code",
   "execution_count": null,
   "metadata": {},
   "outputs": [],
   "source": [
    "# Create an input layer with 2 columns\n",
    "input_tensor = Input(shape=(2,))\n",
    "\n",
    "# Create the first output\n",
    "output_tensor_1 = Dense(1, activation='linear', use_bias=False)(input_tensor)\n",
    "\n",
    "# Create the second output (use the first output as input here)\n",
    "output_tensor_2 = Dense(1, activation='sigmoid', use_bias=False)(output_tensor_1)\n",
    "\n",
    "# Create a model with 2 outputs\n",
    "model = Model(input_tensor, [output_tensor_1, output_tensor_2])"
   ]
  },
  {
   "source": [
    "# Exercise VI: Compile and fit the model\n",
    "\n",
    "Now that you have a model with 2 outputs, compile it with 2 loss functions: mean absolute error (MAE) for `'score_diff'` and binary cross-entropy (also known as logloss) for `'won'`. Then fit the model with `'seed_diff'` and `'pred'` as inputs. For outputs, predict `'score_diff'` and `'won'`.\n",
    "\n",
    "This model can use the scores of the games to make sure that close games (small score diff) have lower win probabilities than blowouts (large score diff).\n",
    "\n",
    "The regression problem is easier than the classification problem because MAE punishes the model less for a loss due to random chance. For example, if `score_diff` is -1 and `won` is 0, that means `team_1` had some bad luck and lost by a single free throw. The data for the easy problem helps the model find a solution to the hard problem.\n",
    "\n",
    "### Instructions\n",
    "\n",
    "- Import `Adam` from `keras.optimizers`.\n",
    "- Compile the model with 2 losses: `'mean_absolute_error'` and `'binary_crossentropy'`, and use the Adam optimizer with a learning rate of 0.01.\n",
    "- Fit the model with `'seed_diff'` and 'pred' columns as the inputs and `'score_diff'` and `'won'` columns as the targets.\n",
    "- Use 10 epochs and a batch size of 16384.\n"
   ],
   "cell_type": "markdown",
   "metadata": {}
  },
  {
   "cell_type": "code",
   "execution_count": null,
   "metadata": {},
   "outputs": [],
   "source": [
    "# Import the Adam optimizer\n",
    "from keras.optimizers import Adam\n",
    "\n",
    "# Compile the model with 2 losses and the Adam optimzer with a higher learning rate\n",
    "model.compile(loss=['mean_absolute_error', 'binary_crossentropy'], optimizer=Adam(0.01))\n",
    "\n",
    "# Fit the model to the tournament training data, with 2 inputs and 2 outputs\n",
    "model.fit(games_tourney_train[['seed_diff', 'pred']],\n",
    "          [games_tourney_train[['score_diff']], games_tourney_train[['won']]],\n",
    "          epochs=10,\n",
    "          verbose=True,\n",
    "          batch_size=16384)"
   ]
  },
  {
   "source": [
    "# Exercise VII: Inspect the model (II)\n",
    "\n",
    "Now you should take a look at the weights for this model. In particular, note the last weight of the model. This weight converts the predicted score difference to a predicted win probability. If you multiply the predicted score difference by the last weight of the model and then apply the sigmoid function, you get the win probability of the game.\n",
    "\n",
    "### Instructions 1/2\n",
    "\n",
    "- Print the `model`'s weights.\n",
    "- Print the column means of the training data (`games_tourney_train`)."
   ],
   "cell_type": "markdown",
   "metadata": {}
  },
  {
   "cell_type": "code",
   "execution_count": null,
   "metadata": {},
   "outputs": [],
   "source": [
    "# Print the model weights\n",
    "print(model.get_weights())\n",
    "\n",
    "# Print the training data means\n",
    "print(games_tourney_train.mean())"
   ]
  },
  {
   "source": [
    "### Instructions 2/2\n",
    "\n",
    "- Print the approximate win probability predicted for a close game (1 point difference).\n",
    "- Print the approximate win probability predicted blowout game (10 point difference)."
   ],
   "cell_type": "markdown",
   "metadata": {}
  },
  {
   "cell_type": "code",
   "execution_count": null,
   "metadata": {},
   "outputs": [],
   "source": [
    "# Import the sigmoid function from scipy\n",
    "from scipy.special import expit as sigmoid\n",
    "\n",
    "# Weight from the model\n",
    "weight = 0.14\n",
    "\n",
    "# Print the approximate win probability predicted close game\n",
    "print(sigmoid(1 * weight))\n",
    "\n",
    "# Print the approximate win probability predicted blowout game\n",
    "print(sigmoid(10 * weight))"
   ]
  },
  {
   "source": [
    "# Exercise VIII: Evaluate on new data with two metrics\n",
    "\n",
    "Now that you've fit your model and inspected its weights to make sure they make sense, evaluate your model on the tournament test set to see how well it does on new data.\n",
    "\n",
    "Note that in this case, Keras will return 3 numbers: the first number will be the sum of both the loss functions, and then the next 2 numbers will be the loss functions you used when defining the model.\n",
    "\n",
    "Ready to take your deep learning to the next level? Check out [\"Convolutional Neural Networks for Image Processing\"](https://learn.datacamp.com/courses/convolutional-neural-networks-for-image-processing).\n",
    "\n",
    "### Instructions\n",
    "\n",
    "- Evaluate the model on `games_tourney_test`.\n",
    "- Use the same inputs and outputs as the training set.\n"
   ],
   "cell_type": "markdown",
   "metadata": {}
  },
  {
   "cell_type": "code",
   "execution_count": null,
   "metadata": {},
   "outputs": [],
   "source": [
    "# Evaluate the model on new data\n",
    "print(model.evaluate(games_tourney_test[['seed_diff', 'pred']],\n",
    "               [games_tourney_test[['score_diff']], games_tourney_test[['won']]], verbose=False))"
   ]
  },
  {
   "source": [
    "# Warp-up\n",
    "\n",
    "## So far...\n",
    "- Functional API\n",
    "- Shared layers\n",
    "- Categorical embeddings\n",
    "- Multiple inputs\n",
    "- Multiplt outputs\n",
    "- Regression / Classification in one model\n",
    "\n",
    "## Shared layers\n",
    "\n",
    "Useful for making comparisons | Known in the academic literature as Siamese networks\n",
    "\n",
    "- Basketball teams\n",
    "- Image similarity / retrieval\n",
    "- Document similarity\n",
    "- [Link to blog post](https://medium.com/mlreview/implementing-malstm-on-kaggles-quora-question-pairs-competition-8b31b0b16a07)\n",
    "- [Link to academic paper](http://people.csail.mit.edu/jonasmueller/info/MuellerThyagarajan_AAAI16.pdf)\n",
    "\n",
    "<img src=\"image/Screenshot 2021-02-01 010129.png\">\n",
    "\n",
    "## Multiple inputs\n",
    "\n",
    "<img src=\"image/Screenshot 2021-02-01 010227.png\">\n",
    "\n",
    "## Multiple outputs\n",
    "\n",
    "<img src=\"image/Screenshot 2021-02-01 001938.png\">\n",
    "\n",
    "## Skip connections"
   ],
   "cell_type": "markdown",
   "metadata": {}
  },
  {
   "cell_type": "code",
   "execution_count": null,
   "metadata": {},
   "outputs": [],
   "source": [
    "input_tensor = Input((100,))\n",
    "hidden_tensor = Dense(256, activation='relu')(input_tensor)\n",
    "hidden_tensor = Dense(256, activation='relu')(hidden_tensor)\n",
    "hidden_tensor = Dense(256, activation='relu')(hidden_tensor)\n",
    "output_tensor = Concatenate()([input_tensor, hidden_tensor])\n",
    "output_tensor = Dense(256, activation='relu')(output_tensor)"
   ]
  },
  {
   "source": [
    "[Visulizing the Loss Landscape of Neural Nets](https://arxiv.org/pdf/1712.09913.pdf)\n",
    "\n",
    "<img src=\"image/Screenshot 2021-02-01 010448.png\">\n",
    "\n",
    "# Best of luck!"
   ],
   "cell_type": "markdown",
   "metadata": {}
  }
 ]
}