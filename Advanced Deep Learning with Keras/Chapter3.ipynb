{
 "metadata": {
  "language_info": {
   "codemirror_mode": {
    "name": "ipython",
    "version": 3
   },
   "file_extension": ".py",
   "mimetype": "text/x-python",
   "name": "python",
   "nbconvert_exporter": "python",
   "pygments_lexer": "ipython3",
   "version": "3.7.7-final"
  },
  "orig_nbformat": 2,
  "kernelspec": {
   "name": "python3",
   "display_name": "Python 3"
  }
 },
 "nbformat": 4,
 "nbformat_minor": 2,
 "cells": [
  {
   "source": [
    "# Multiple Inputs: 3 Inputs (and Beyond!)\n",
    "\n",
    "In this chapter, you will extend your 2-input model to 3 inputs, and learn how to use Keras' summary and plot functions to understand the parameters and topology of your neural networks. By the end of the chapter, you will understand how to extend a 2-input model to 3 inputs and beyond."
   ],
   "cell_type": "markdown",
   "metadata": {}
  },
  {
   "source": [
    "# (1) Three-input models\n",
    "\n",
    "## Simple model with 3 inputs"
   ],
   "cell_type": "markdown",
   "metadata": {}
  },
  {
   "cell_type": "code",
   "execution_count": null,
   "metadata": {},
   "outputs": [],
   "source": [
    "from keras.layers import Input, Concatenate, Dense\n",
    "in_tensor_1 = Input(shape=(1,))\n",
    "in_tensor_2 = Input(shape=(1,))\n",
    "in_tensor_3 = Input(shape=(1,))\n",
    "out_tensor = Concatenate()([in_tensor_1, in_tensor_2, in_tensor_3])\n",
    "output_tensor = Dense(1)(out_tensor)"
   ]
  },
  {
   "cell_type": "code",
   "execution_count": null,
   "metadata": {},
   "outputs": [],
   "source": [
    "from keras.models import Model\n",
    "model = Model([in_tensor_1, in_tensor_2, in_tensor_3], out_tensor)"
   ]
  },
  {
   "source": [
    "<img src=\"image/Screenshot 2021-01-31 210727.png\">"
   ],
   "cell_type": "markdown",
   "metadata": {}
  },
  {
   "source": [
    "## Share layers with 3 inputs"
   ],
   "cell_type": "markdown",
   "metadata": {}
  },
  {
   "cell_type": "code",
   "execution_count": null,
   "metadata": {},
   "outputs": [],
   "source": [
    "shared_layer = Dense(1)\n",
    "shared_layer_1 = shared_layer(in_tensor_1)\n",
    "shared_layer_2 = shared_layer(in_tensor_1)\n",
    "out_tensor = Concatenate()([shared_layer_1, shared_layer_2, in_tensor_3])\n",
    "out_tensor = Dense(1)(out_tensor)"
   ]
  },
  {
   "cell_type": "code",
   "execution_count": null,
   "metadata": {},
   "outputs": [],
   "source": [
    "from keras.models import Model\n",
    "model = Model([in_tensor_1, in_tensor_2, in_tensor_3], out_tensor)"
   ]
  },
  {
   "source": [
    "<img src=\"image/Screenshot 2021-01-31 211208.png\">"
   ],
   "cell_type": "markdown",
   "metadata": {}
  },
  {
   "source": [
    "## Fitting a 3 input model"
   ],
   "cell_type": "markdown",
   "metadata": {}
  },
  {
   "cell_type": "code",
   "execution_count": null,
   "metadata": {},
   "outputs": [],
   "source": [
    "from keras.models import Model\n",
    "model = Model([in_tensor_1, in_tensor_2, in_tensor_3], out_tensor)\n",
    "model.compile(loss='mae', optimizer='adam')"
   ]
  },
  {
   "cell_type": "code",
   "execution_count": null,
   "metadata": {},
   "outputs": [],
   "source": [
    "model.fit([[train['col1'], train['col2'], train['col3']],\n",
    "            train_data['target']])"
   ]
  },
  {
   "cell_type": "code",
   "execution_count": null,
   "metadata": {},
   "outputs": [],
   "source": [
    "model.evaluate([[test['col1'], test['col2'], test['col3']],\n",
    "                test['target']])"
   ]
  },
  {
   "source": [
    "# Exercise I: Make an input layer for home vs. away\n",
    "\n",
    "Now you will make an improvement to the model you used in the previous chapter for regular season games. You know there is a well-documented home-team advantage in basketball, so you will add a new input to your model to capture this effect.\n",
    "\n",
    "This model will have three inputs: `team_id_1`, `team_id_2`, and `home`. The team IDs will be integers that you look up in your team strength model from the previous chapter, and home will be a binary variable, 1 if `team_1` is playing at home, 0 if they are not.\n",
    "\n",
    "The `team_strength_model` you used in the previous chapter has been loaded into your workspace. After applying it to each input, use a Concatenate layer to join the two team strengths and with the home vs away variable, and pass the result to a Dense layer.\n",
    "\n",
    "### Instructions\n",
    "\n",
    "- Create three inputs layers of shape 1, one each for team 1, team 2, and home vs away.\n",
    "- Lookup the team inputs in `team_strength_model()`.\n",
    "- Concatenate the team strengths with the home input and pass to a Dense layer.\n",
    "\n"
   ],
   "cell_type": "markdown",
   "metadata": {}
  },
  {
   "cell_type": "code",
   "execution_count": null,
   "metadata": {},
   "outputs": [],
   "source": [
    "# Create an Input for each team\n",
    "team_in_1 = Input(shape=(1,), name='Team-1-In')\n",
    "team_in_2 = Input(shape=(1,), name='Team-2-In')\n",
    "\n",
    "# Create an input for home vs away\n",
    "home_in = Input(shape=(1,), name='Home-In')\n",
    "\n",
    "# Lookup the team inputs in the team strength model\n",
    "team_1_strength = team_strength_model(team_in_1)\n",
    "team_2_strength = team_strength_model(team_in_2)\n",
    "\n",
    "# Combine the team strengths with the home input using a Concatenate layer, then add a Dense layer\n",
    "out = Concatenate()([team_1_strength, team_2_strength, home_in])\n",
    "out = Dense(1)(out)"
   ]
  },
  {
   "source": [
    "# Exercise II: Make a model and compile it\n",
    "\n",
    "Now that you've input and output layers for the 3-input model, wrap them up in a Keras model class, and then compile the model, so you can fit it to data and use it to make predictions on new data.\n",
    "\n",
    "### Instructions\n",
    "\n",
    "- Create a model using `team_in_1`, `team_in_2`, and `home_in` as inputs and `out` as the output.\n",
    "- Compile the model using the `'adam'` optimizer and `'mean_absolute_error'` as the loss function.\n"
   ],
   "cell_type": "markdown",
   "metadata": {}
  },
  {
   "cell_type": "code",
   "execution_count": null,
   "metadata": {},
   "outputs": [],
   "source": [
    "# Import the model class\n",
    "from keras.models import Model\n",
    "\n",
    "# Make a Model\n",
    "model = Model([team_in_1, team_in_2, home_in], out)\n",
    "\n",
    "# Compile the model\n",
    "model.compile(optimizer='adam', loss='mean_absolute_error')"
   ]
  },
  {
   "source": [
    "# Exercise III: Fit the model and evaluate\n",
    "\n",
    "Now that you've defined a new model, fit it to the regular season basketball data.\n",
    "\n",
    "Use the `model` you fit in the previous exercise (which was trained on the regular season data) and evaluate the model on data for tournament games (`games_tourney`).\n",
    "\n",
    "### Instructions\n",
    "\n",
    "- Fit the model to the `games_season` dataset, using `'team_1'`, `'team_2'` and `'home'` columns as inputs, and the `'score_diff'` column as the target.\n",
    "- Fit the model using 1 epoch, 10% validation split and a batch size of 2048.\n",
    "- Evaluate the model on `games_tourney`, using the same inputs and outputs.\n"
   ],
   "cell_type": "markdown",
   "metadata": {}
  },
  {
   "cell_type": "code",
   "execution_count": null,
   "metadata": {},
   "outputs": [],
   "source": [
    "# Fit the model to the games_season dataset\n",
    "model.fit([games_season['team_1'], games_season['team_2'], games_season['home']],\n",
    "          games_season['score_diff'],\n",
    "          epochs=1,\n",
    "          verbose=1,\n",
    "          validation_split=0.1,\n",
    "          batch_size=2048)\n",
    "\n",
    "# Evaluate the model on the games_tourney dataset\n",
    "print(model.evaluate([games_tourney['team_1'], games_tourney['team_2'], games_tourney['home']], games_tourney['score_diff'], verbose=False))"
   ]
  }
 ]
}