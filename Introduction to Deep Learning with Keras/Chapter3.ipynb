{
 "metadata": {
  "language_info": {
   "codemirror_mode": {
    "name": "ipython",
    "version": 3
   },
   "file_extension": ".py",
   "mimetype": "text/x-python",
   "name": "python",
   "nbconvert_exporter": "python",
   "pygments_lexer": "ipython3",
   "version": 3
  },
  "orig_nbformat": 2
 },
 "nbformat": 4,
 "nbformat_minor": 2,
 "cells": [
  {
   "source": [
    "# Improving Your Model Performance\n",
    "\n",
    "In the previous chapters, you've trained a lot of models! You will now learn how to interpret learning curves to understand your models as they train. You will also visualize the effects of activation functions, batch-sizes, and batch-normalization. Finally, you will learn how to perform automatic hyperparameter optimization to your Keras models using sklearn."
   ],
   "cell_type": "markdown",
   "metadata": {}
  },
  {
   "source": [
    "# (1) Learning curves\n",
    "\n",
    "<img src=\"image/Screenshot 2021-01-29 142344.png\">\n",
    "<img src=\"image/Screenshot 2021-01-29 142401.png\">\n",
    "<img src=\"image/Screenshot 2021-01-29 142416.png\">\n",
    "<img src=\"image/Screenshot 2021-01-29 142445.png\">\n",
    "<img src=\"image/Screenshot 2021-01-29 142506.png\">\n",
    "<img src=\"image/Screenshot 2021-01-29 142536.png\">\n",
    "\n",
    "## Learning curves\n",
    "\n",
    "```\n",
    "# Store initial model weights\n",
    "init_weights = model.get_weights()\n",
    "# Lists for storing accuracies\n",
    "train_accs = []\n",
    "test_accs = []\n",
    "```\n",
    "\n",
    "```\n",
    "for train_size in train_sizes:\n",
    "    # Split a fraction according to train_size\n",
    "    X_train_frac, _, y_train_frac, _ = train_test_split(X_train, Y_train, Train_size=train_size)\n",
    "    # Set model initial weigths\n",
    "    model.set_weights(init_weights)\n",
    "    # Fit model on the training set fractopm\n",
    "    model.fit(X_train_frac, y_train_frac, epoch=100, verbose=0, callbacks=[EarlyStopping(mornitor='loss', patience=1)])\n",
    "    # Get the accuracy for this training set fraction\n",
    "    train_acc = model.evaluate(X_train_frac, y_train_frac, verbose=0)[1]\n",
    "    train_accs.append(train_acc)\n",
    "    # Get the accuracy on the whole test set\n",
    "    test_acc = model.evaluate(X_test, y_test, verbose=0)[1]\n",
    "    test_accs.append(test_acc)\n",
    "    print(\"Done with size: \", train_size)\n",
    "```"
   ],
   "cell_type": "markdown",
   "metadata": {}
  },
  {
   "source": [
    "# Exercise I: Learning the digits\n",
    "\n",
    "You're going to build a model on the &**digits dataset**, a sample dataset that comes pre-loaded with scikit learn. The **digits dataset** consist of **8x8 pixel handwritten digits from 0 to 9**:\n",
    "\n",
    "<img src=\"image/digits_dataset_sample.png\">\n",
    "\n",
    "You want to distinguish between each of the 10 possible digits given an image, so we are dealing with multi-class classification.\n",
    "The dataset has already been partitioned into `X_train`, `y_train`, `X_test`, and `y_test`, using 30% of the data as testing data. The labels are already one-hot encoded vectors, so you don't need to use Keras `to_categorical()` function.\n",
    "\n",
    "Let's build this new `model`!\n",
    "\n",
    "### Instructions\n",
    "\n",
    "- Add a `Dense` layer of 16 neurons with `relu` activation and an `input_shape` that takes the total number of pixels of the 8x8 digit image.\n",
    "- Add a `Dense` layer with 10 outputs and `softmax` activation.\n",
    "- Compile your model with `adam`, `categorical_crossentropy`, and `accuracy` metrics.\n",
    "- Make sure your model works by predicting on `X_train`."
   ],
   "cell_type": "markdown",
   "metadata": {}
  },
  {
   "cell_type": "code",
   "execution_count": null,
   "metadata": {},
   "outputs": [],
   "source": [
    "# Instantiate a Sequential model\n",
    "model = Sequential()\n",
    "\n",
    "# Input and hidden layer with input_shape, 16 neurons, and relu \n",
    "model.add(Dense(16, input_shape = (64,), activation = 'relu'))\n",
    "\n",
    "# Output layer with 10 neurons (one per digit) and softmax\n",
    "model.add(Dense(10, activation='softmax'))\n",
    "\n",
    "# Compile your model\n",
    "model.compile(optimizer = 'adam', loss = 'categorical_crossentropy', metrics = ['accuracy'])\n",
    "\n",
    "# Test if your model is well assembled by predicting before training\n",
    "print(model.predict(X_train))"
   ]
  },
  {
   "source": [
    "# Exercise II: Is the model overfitting?\n",
    "\n",
    "Let's train the `model` you just built and plot its learning curve to check out if it's overfitting! You can make use of the loaded function `plot_loss()` to plot training loss against validation loss, you can get both from the history callback.\n",
    "\n",
    "If you want to inspect the `plot_loss()` function code, paste this in the console: `show_code(plot_loss)`\n",
    "\n",
    "### Instructions\n",
    "\n",
    "- Train your model for 60 `epochs`, using `X_test` and `y_test` as validation data.\n",
    "- Use `plot_loss()` passing `loss` and `val_loss` as extracted from the history attribute of the `h_callback` object."
   ],
   "cell_type": "markdown",
   "metadata": {}
  },
  {
   "cell_type": "code",
   "execution_count": null,
   "metadata": {},
   "outputs": [],
   "source": [
    "# Train your model for 60 epochs, using X_test and y_test as validation data\n",
    "h_callback = model.fit(X_train, y_train, epochs = 60, validation_data = (X_test, y_test), verbose=0)\n",
    "\n",
    "# Extract from the h_callback object loss and val_loss to plot the learning curve\n",
    "plot_loss(h_callback.history['loss'], h_callback.history['val_loss'])"
   ]
  },
  {
   "cell_type": "code",
   "execution_count": null,
   "metadata": {},
   "outputs": [],
   "source": [
    "## Question\n",
    "\n",
    "Just by looking at the picture, do you think the learning curve shows this model is overfitting after having trained for 60 epochs?\n",
    "\n",
    "### Possible Answers\n",
    "\n",
    "- Yes, it started to overfit since the test loss is higher than the training loss.\n",
    "\n",
    "- No, the test loss is not getting higher as the epochs go by. (T)"
   ]
  },
  {
   "source": [
    "# Exercise III: Do we need more data?\n",
    "\n",
    "It's time to check whether the **digits dataset** `model` you built benefits from more training examples!\n",
    "\n",
    "In order to keep code to a minimum, various things are already initialized and ready to use:\n",
    "\n",
    "    - The `model` you just built.\n",
    "`X_train`, `y_train`, `X_test`, and `y_test`.\n",
    "    - The `initial_weights` of your model, saved after using `model.get_weights()`.\n",
    "    - A pre-defined list of training sizes: `training_sizes`.\n",
    "    - A pre-defined early stopping callback monitoring loss: `early_stop`.\n",
    "    - Two empty lists to store the evaluation results: `train_accs` and `test_accs`.\n",
    "Train your model on the different training sizes and evaluate the results on `X_test`. End by plotting the results with `plot_results()`.\n",
    "\n",
    "The full code for this exercise can be found on the slides!\n",
    "\n",
    "### Instructions\n",
    "\n",
    "- Get a fraction of the training data determined by the `size` we are currently evaluating in the loop.\n",
    "- Set the model weights to the `initial_weights` with `set_weights()` and train your model on the fraction of training data using `early_stop` as a callback.\n",
    "- Evaluate and store the accuracy for the training fraction and the test set.\n",
    "- Call `plot_results()` passing in the training and test accuracies for each training size."
   ],
   "cell_type": "markdown",
   "metadata": {}
  },
  {
   "cell_type": "code",
   "execution_count": null,
   "metadata": {},
   "outputs": [],
   "source": [
    "for size in training_sizes:\n",
    "  \t# Get a fraction of training data (we only care about the training data)\n",
    "    X_train_frac, y_train_frac = X_train[:size], y_train[:size]\n",
    "\n",
    "    # Reset the model to the initial weights and train it on the new training data fraction\n",
    "    model.set_weights(initial_weights)\n",
    "    model.fit(X_train_frac, y_train_frac, epochs = 50, callbacks = [early_stop])\n",
    "\n",
    "    # Evaluate and store both: the training data fraction and the complete test set results\n",
    "    train_accs.append(model.evaluate(X_train, y_train)[1])\n",
    "    test_accs.append(model.evaluate(X_test, y_test)[1])\n",
    "    \n",
    "# Plot train vs test accuracies\n",
    "plot_results(train_accs, test_accs)"
   ]
  }
 ]
}