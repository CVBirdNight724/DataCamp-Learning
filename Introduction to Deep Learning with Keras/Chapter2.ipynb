{
 "metadata": {
  "language_info": {
   "codemirror_mode": {
    "name": "ipython",
    "version": 3
   },
   "file_extension": ".py",
   "mimetype": "text/x-python",
   "name": "python",
   "nbconvert_exporter": "python",
   "pygments_lexer": "ipython3",
   "version": "3.6.10-final"
  },
  "orig_nbformat": 2,
  "kernelspec": {
   "name": "python3",
   "display_name": "Python 3",
   "language": "python"
  }
 },
 "nbformat": 4,
 "nbformat_minor": 2,
 "cells": [
  {
   "source": [
    "# Going Deeper\n",
    "\n",
    "By the end of this chapter, you will know how to solve binary, multi-class, and multi-label problems with neural networks. All of this by solving problems like detecting fake dollar bills, deciding who threw which dart at a board, and building an intelligent system to water your farm. You will also be able to plot model training metrics and to stop training and save your models when they no longer improve."
   ],
   "cell_type": "markdown",
   "metadata": {}
  },
  {
   "source": [
    "# (1) Binary classification\n",
    "\n",
    "## When to use binary classification?\n",
    "\n",
    "<img src=\"image/Screenshot 2021-01-28 144504.png\">\n",
    "\n",
    "## Our data set\n",
    "\n",
    "| coordinates | labels |\n",
    "| :- | :- |\n",
    "| [0.242, 0.038] | 1 |\n",
    "| [0.044, -0.057] | 1 |\n",
    "| [-0.787, -0.076] | 0 |\n",
    "\n",
    "## Pairplots\n",
    "\n",
    "```\n",
    "import seaborn as sns\n",
    "\n",
    "# Plot a pairplot\n",
    "sns.pairplot(circles, hue=\"target\")\n",
    "```\n",
    "\n",
    "## The sigmoid function\n",
    "\n",
    "<img src=\"image/Screenshot 2021-01-28 145359.png\">\n",
    "\n",
    "## Let's build it\n",
    "\n",
    "```\n",
    "from keras.models import Sequential\n",
    "from keras.layers import Dense\n",
    "# Instantiate a squential model\n",
    "model = Sequential()\n",
    "# Add input and hidden layer\n",
    "model.add(Dense(4, input_shape=(2,), activation='tanh'))\n",
    "# Add output layer, use sigmoid\n",
    "model.add(Dense(1, activation='sigmoid'))\n",
    "```\n",
    "## Compiling, training, predicting\n",
    "\n",
    "```\n",
    "# Compile model\n",
    "model.compile(optimizer='sgd', loss='binary_crossentropy')\n",
    "# Train model\n",
    "model.train(coordinates, labels, epochs=20)\n",
    "# Predict with trained model\n",
    "preds = model.predict(coordinates)\n",
    "```\n",
    "\n",
    "## Binary classification\n",
    "\n",
    "<img src=\"image/Screenshot 2021-01-28 145943.png\">"
   ],
   "cell_type": "markdown",
   "metadata": {}
  },
  {
   "source": [
    "# Exercise I: Exploring dollar bills\n",
    "\n",
    "You will practice building classification models in Keras with the **Banknote Authentication** dataset.\n",
    "\n",
    "Your goal is to distinguish between real and fake dollar bills. In order to do this, the dataset comes with 4 features: `variance`,`skewness`,`kurtosis` and `entropy`. These features are calculated by applying mathematical operations over the dollar bill images. The labels are found in the dataframe's `class` column.\n",
    "\n",
    "<img src=\"image/dollar_bills.png\">\n",
    "\n",
    "A pandas DataFrame named `banknotes` is ready to use, let's do some data exploration!\n",
    "\n",
    "### Instructions\n",
    "\n",
    "- Import `seaborn` as `sns`.\n",
    "- Use `seaborn`'s `pairplot()` on `banknotes` and set `hue` to be the name of the column containing the labels.\n",
    "- Generate descriptive statistics for the banknotes authentication data.\n",
    "- Count the number of observations per label with `.value_counts()`."
   ],
   "cell_type": "markdown",
   "metadata": {}
  },
  {
   "cell_type": "code",
   "execution_count": null,
   "metadata": {},
   "outputs": [],
   "source": [
    "# Import seaborn\n",
    "import seaborn as sns\n",
    "\n",
    "# Use pairplot and set the hue to be our class column\n",
    "sns.pairplot(banknotes, hue='class') \n",
    "\n",
    "# Show the plot\n",
    "plt.show()\n",
    "\n",
    "# Describe the data\n",
    "print('Dataset stats: \\n', banknotes.describe())\n",
    "\n",
    "# Count the number of observations per class\n",
    "print('Observations per class: \\n', banknotes['class'].value_counts())"
   ]
  },
  {
   "source": [
    "# Exercise II: A binary classification model\n",
    "\n",
    "Now that you know what the **Banknote Authentication** dataset looks like, we'll build a simple model to distinguish between real and fake bills.\n",
    "\n",
    "You will perform binary classification by using a single neuron as an output. The input layer will have 4 neurons since we have 4 features in our dataset. The model's output will be a value constrained between 0 and 1.\n",
    "\n",
    "We will interpret this output number as the probability of our input variables coming from a fake dollar bill, with 1 meaning we are certain it's a fake bill.\n",
    "\n",
    "<img src=\"image/model_chapter2_binary_classification.jfif\">\n",
    "\n",
    "### Instructions\n",
    "\n",
    "- Import the Sequential model and Dense layer from Keras.\n",
    "- Create a sequential model.\n",
    "Add a 4 neuron input layer with the `input_shape` parameter and a 1 neuron output layer with `sigmoid` activation.\n",
    "- Compile your model using `sgd` as an optimizer."
   ],
   "cell_type": "markdown",
   "metadata": {}
  },
  {
   "cell_type": "code",
   "execution_count": null,
   "metadata": {},
   "outputs": [],
   "source": [
    "# Import the sequential model and dense layer\n",
    "from keras.models import Sequential\n",
    "from keras.layers import Dense\n",
    "\n",
    "# Create a sequential model\n",
    "model = Sequential()\n",
    "\n",
    "# Add a dense layer \n",
    "model.add(Dense(1, input_shape=(4,), activation='sigmoid'))\n",
    "\n",
    "# Compile your model\n",
    "model.compile(loss='binary_crossentropy', optimizer='sgd', metrics=['accuracy'])\n",
    "\n",
    "# Display a summary of your model\n",
    "model.summary()"
   ]
  },
  {
   "source": [
    "# Exercise III: Is this dollar bill fake ?\n",
    "\n",
    "You are now ready to train your `model` and check how well it performs when classifying new bills! The dataset has already been partitioned into features: `X_train` & `X_test`, and labels: `y_train` & `y_test`.\n",
    "\n",
    "### Instructions\n",
    "\n",
    "- Train your model for 20 epochs calling `.fit()`, passing in the training data.\n",
    "- Check your model accuracy using the `.evaluate()` method on the test data.\n",
    "- Print `accuracy`."
   ],
   "cell_type": "markdown",
   "metadata": {}
  },
  {
   "cell_type": "code",
   "execution_count": null,
   "metadata": {},
   "outputs": [],
   "source": [
    "# Train your model for 20 epochs\n",
    "model.fit(X_train, y_train, epochs = 20)\n",
    "\n",
    "# Evaluate your model accuracy on the test set\n",
    "accuracy = model.evaluate(X_test, y_test)[1]\n",
    "\n",
    "# Print accuracy\n",
    "print('Accuracy:', accuracy)"
   ]
  }
 ]
}