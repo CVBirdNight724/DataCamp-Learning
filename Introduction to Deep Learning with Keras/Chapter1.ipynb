{
 "metadata": {
  "language_info": {
   "codemirror_mode": {
    "name": "ipython",
    "version": 3
   },
   "file_extension": ".py",
   "mimetype": "text/x-python",
   "name": "python",
   "nbconvert_exporter": "python",
   "pygments_lexer": "ipython3",
   "version": 3
  },
  "orig_nbformat": 2
 },
 "nbformat": 4,
 "nbformat_minor": 2,
 "cells": [
  {
   "source": [
    "# Introducing Keras\n",
    "\n",
    "In this first chapter, you will get introduced to neural networks, understand what kind of problems they can solve, and when to use them. You will also build several networks and save the earth by training a regression model that approximates the orbit of a meteor that is approaching us!"
   ],
   "cell_type": "markdown",
   "metadata": {}
  },
  {
   "source": [
    "# (1) What is Keras?\n",
    "\n",
    "## Theano vs Keras\n",
    "\n",
    "<img src=\"image/Screenshot 2021-01-28 092520.png\">\n",
    "\n",
    "## Keras\n",
    "- Deep Learning Framework\n",
    "- Enables fast experimentation\n",
    "- Runs on top of other frameworks\n",
    "- Written by Francois Chollet\n",
    "\n",
    "## Why use Keras?\n",
    "- Fast industry-ready models\n",
    "- For beginners and experts\n",
    "- Less code\n",
    "- Build any architecture\n",
    "- Deploy models in multiple platforms\n",
    "\n",
    "# Keras + TensorFlow\n",
    "- TensorFlow's high level framework of choice\n",
    "- Keras is complementary to TensorFlow\n",
    "- You can use TensorFlow for low level features\n",
    "\n",
    "## Feature Engineering\n",
    "\n",
    "<img src=\"image/Screenshot 2021-01-28 093128.png\">\n",
    "\n",
    "## Unstructured data\n",
    "\n",
    "<img src=\"image/Screenshot 2021-01-28 093246.png\">\n",
    "\n",
    "## So, when to use neural networks?\n",
    "- Dealing with Unstructured data\n",
    "- Don't need easily interpretable\n",
    "- You can benefit from a known architecture\n",
    "**Example:** Classify images of cats and dofs\n",
    "\n",
    "- **Images -> Unstructured data**\n",
    "- You don't care about why the network knows it's a cat or a dog\n",
    "- You can benefit from convolutional neural networks"
   ],
   "cell_type": "markdown",
   "metadata": {}
  },
  {
   "source": [
    "# Exercise I: Describing Keras\n",
    "\n",
    "Which of the following statements about Keras is false?\n",
    "\n",
    "### Possible Answers\n",
    "- Keras is integrated into TensorFlow, that means you can call Keras from within TensorFlow and get the best of both worlds.\n",
    "\n",
    "- Keras can work well on its own without using a backend, like TensorFlow. (T)\n",
    "\n",
    "- Keras is an open source project started by François Chollet."
   ],
   "cell_type": "markdown",
   "metadata": {}
  },
  {
   "source": [
    "# Exercise II: Would you use deep learning?\n",
    "\n",
    "Imagine you're building an app that allows you to take a picture of your clothes and then shows you a pair of shoes that would match well. This app needs a machine learning module that's in charge of identifying the type of clothes you are wearing, as well as their color and texture. Would you use deep learning to accomplish this task?\n",
    "\n",
    "### Possible Answers\n",
    "\n",
    "- I'd use deep learning, since we are dealing with tabular data and neural networks work well with images.\n",
    "\n",
    "- I'd use deep learning since we are dealing with unstructured data and neural networks work well with images. (T)\n",
    "\n",
    "- This task can be easily accomplished with other machine learning algorithms, so deep learning is not required."
   ],
   "cell_type": "markdown",
   "metadata": {}
  },
  {
   "source": [
    "# (2) Your first neural network\n",
    "\n",
    "## A neural network?\n",
    "\n",
    "<img src=\"image/Screenshot 2021-01-28 102612.png\">\n",
    "\n",
    "## Gradient descent\n",
    "\n",
    "<img src=\"image/Screenshot 2021-01-28 103336.png\">\n",
    "\n",
    "## The squential API\n",
    "\n",
    "<img src=\"image/Screenshot 2021-01-28 103431.png\">\n",
    "\n",
    "## Adding activations\n",
    "\n",
    "```\n",
    "from keras.models import Squential\n",
    "from keras.layers import Dense\n",
    "# Create a new sequential model\n",
    "model = Squential()\n",
    "# Add and input and dense layer\n",
    "model.add(Dense(2, input_shape=(3,), activation=\"relu\"))\n",
    "# Add a final 1 neuron layer\n",
    "model.add(Dense(1))\n",
    "```\n",
    "\n",
    "## Summarize your model!\n",
    "\n",
    "```\n",
    "model.summary()\n",
    "```\n",
    "## Visualize parameters\n",
    "\n",
    "<img src=\"image/Screenshot 2021-01-28 104018.png\">\n"
   ],
   "cell_type": "markdown",
   "metadata": {}
  },
  {
   "source": [
    "# Exercise III: Hello nets!\n",
    "\n",
    "You're going to build a simple neural network to get a feeling of how quickly it is to accomplish this in Keras.\n",
    "\n",
    "You will build a network that **takes two numbers as an input**, passes them through **a hidden layer of 10 neurons**, and finally **outputs a single non-constrained number**.\n",
    "\n",
    "A **non-constrained output can be obtained by avoiding setting an activation function in the output layer**. This is useful for problems like regression, when we want our output to be able to take any non-constrained value.\n",
    "\n",
    "<img src=\"image/hello_nets.png\">\n",
    "\n",
    "### Instructions\n",
    "\n",
    "- Import the `Sequential` model from - `keras.models` and the `Dense` layer from `keras.layers`.\n",
    "- Create an instance of the `Sequential` model.\n",
    "- Add a 10-neuron hidden `Dense` layer with an `input_shape` of two neurons.\n",
    "- Add a final 1-neuron output layer and summarize your model with `summary()`."
   ],
   "cell_type": "markdown",
   "metadata": {}
  },
  {
   "cell_type": "code",
   "execution_count": null,
   "metadata": {},
   "outputs": [],
   "source": [
    "# Import the Sequential model and Dense layer\n",
    "from keras.models import Sequential\n",
    "from keras.layers import Dense\n",
    "\n",
    "# Create a Sequential model\n",
    "model = Sequential()\n",
    "\n",
    "# Add an input layer and a hidden layer with 10 neurons\n",
    "model.add(Dense(10, input_shape=(2,), activation=\"relu\"))\n",
    "\n",
    "# Add a 1-neuron output layer\n",
    "model.add(Dense(1))\n",
    "\n",
    "# Summarise your model\n",
    "model.summary()"
   ]
  },
  {
   "source": [
    "# Exercise IV: Counting parameters\n",
    "\n",
    "You've just created a neural network. But you're going to create a new one now, taking some time to think about the weights of each layer. The Keras `Dense` layer and the `Sequential` model are already loaded for you to use.\n",
    "\n",
    "This is the network you will be creating:\n",
    "\n",
    "<img src=\"image/counting_parameters.png\">\n",
    "\n",
    "### Instructions\n",
    "\n",
    "- Instantiate a new `Sequential()` model.\n",
    "- Add a `Dense()` layer with five neurons and three neurons as input.\n",
    "- Add a final dense layer with one neuron and no activation."
   ],
   "cell_type": "markdown",
   "metadata": {}
  },
  {
   "cell_type": "code",
   "execution_count": null,
   "metadata": {},
   "outputs": [],
   "source": [
    "# Instantiate a new Sequential model\n",
    "model = Sequential()\n",
    "\n",
    "# Add a Dense layer with five neurons and three inputs\n",
    "model.add(Dense(5, input_shape=(3,), activation=\"relu\"))\n",
    "\n",
    "# Add a final Dense layer with one neuron and no activation\n",
    "model.add(Dense(1))\n",
    "\n",
    "# Summarize your model\n",
    "model.summary()"
   ]
  },
  {
   "source": [
    "### Questiob\n",
    "\n",
    "Given the model you just built, which answer is correct regarding the number of weights (parameters) in the hidden layer?\n",
    "\n",
    "### Possible Answers\n",
    "\n",
    "- There are 15 parameters, 3 for every neuron in the hidden layer.\n",
    "\n",
    "- There are 20 parameters, 15 from the connections of our inputs to our hidden layer and 5 from the bias weight of each neuron in the hidden layer. (T)\n",
    "\n",
    "- There are 20 parameters, no bias weights were needed in this simple model."
   ],
   "cell_type": "markdown",
   "metadata": {}
  },
  {
   "source": [
    "# Exercise V: Build as shown!\n",
    "\n",
    "You will take on a final challenge before moving on to the next lesson. Build the network shown in the picture below. Prove your mastered Keras basics in no time!\n",
    "\n",
    "<img src=\"image/build_as_shown.png\">\n",
    "\n",
    "### Instructions\n",
    "\n",
    "- Instantiate a `Sequential` model.\n",
    "- Build the input and hidden layer.\n",
    "- Add the output layer."
   ],
   "cell_type": "markdown",
   "metadata": {}
  },
  {
   "cell_type": "code",
   "execution_count": null,
   "metadata": {},
   "outputs": [],
   "source": [
    "from keras.models import Sequential\n",
    "from keras.layers import Dense\n",
    "\n",
    "# Instantiate a Sequential model\n",
    "model = Sequential()\n",
    "\n",
    "# Build the input and hidden layer\n",
    "model.add(Dense(3, input_shape=(2,), activation=\"relu\"))\n",
    "\n",
    "# Add the ouput layer\n",
    "model.add(Dense(1))"
   ]
  }
 ]
}