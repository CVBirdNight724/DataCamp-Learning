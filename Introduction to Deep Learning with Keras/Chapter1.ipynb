{
 "metadata": {
  "language_info": {
   "codemirror_mode": {
    "name": "ipython",
    "version": 3
   },
   "file_extension": ".py",
   "mimetype": "text/x-python",
   "name": "python",
   "nbconvert_exporter": "python",
   "pygments_lexer": "ipython3",
   "version": 3
  },
  "orig_nbformat": 2
 },
 "nbformat": 4,
 "nbformat_minor": 2,
 "cells": [
  {
   "source": [
    "# Introducing Keras\n",
    "\n",
    "In this first chapter, you will get introduced to neural networks, understand what kind of problems they can solve, and when to use them. You will also build several networks and save the earth by training a regression model that approximates the orbit of a meteor that is approaching us!"
   ],
   "cell_type": "markdown",
   "metadata": {}
  },
  {
   "source": [
    "# (1) What is Keras?\n",
    "\n",
    "## Theano vs Keras\n",
    "\n",
    "<img src=\"image/Screenshot 2021-01-28 092520.png\">\n",
    "\n",
    "## Keras\n",
    "- Deep Learning Framework\n",
    "- Enables fast experimentation\n",
    "- Runs on top of other frameworks\n",
    "- Written by Francois Chollet\n",
    "\n",
    "## Why use Keras?\n",
    "- Fast industry-ready models\n",
    "- For beginners and experts\n",
    "- Less code\n",
    "- Build any architecture\n",
    "- Deploy models in multiple platforms\n",
    "\n",
    "# Keras + TensorFlow\n",
    "- TensorFlow's high level framework of choice\n",
    "- Keras is complementary to TensorFlow\n",
    "- You can use TensorFlow for low level features\n",
    "\n",
    "## Feature Engineering\n",
    "\n",
    "<img src=\"image/Screenshot 2021-01-28 093128.png\">\n",
    "\n",
    "## Unstructured data\n",
    "\n",
    "<img src=\"image/Screenshot 2021-01-28 093246.png\">\n",
    "\n",
    "## So, when to use neural networks?\n",
    "- Dealing with Unstructured data\n",
    "- Don't need easily interpretable\n",
    "- You can benefit from a known architecture\n",
    "**Example:** Classify images of cats and dofs\n",
    "\n",
    "- **Images -> Unstructured data**\n",
    "- You don't care about why the network knows it's a cat or a dog\n",
    "- You can benefit from convolutional neural networks"
   ],
   "cell_type": "markdown",
   "metadata": {}
  },
  {
   "source": [
    "# Exercise I: Describing Keras\n",
    "\n",
    "Which of the following statements about Keras is false?\n",
    "\n",
    "### Possible Answers\n",
    "- Keras is integrated into TensorFlow, that means you can call Keras from within TensorFlow and get the best of both worlds.\n",
    "\n",
    "- Keras can work well on its own without using a backend, like TensorFlow. (T)\n",
    "\n",
    "- Keras is an open source project started by François Chollet."
   ],
   "cell_type": "markdown",
   "metadata": {}
  },
  {
   "source": [
    "# Exercise II: Would you use deep learning?\n",
    "\n",
    "Imagine you're building an app that allows you to take a picture of your clothes and then shows you a pair of shoes that would match well. This app needs a machine learning module that's in charge of identifying the type of clothes you are wearing, as well as their color and texture. Would you use deep learning to accomplish this task?\n",
    "\n",
    "### Possible Answers\n",
    "\n",
    "- I'd use deep learning, since we are dealing with tabular data and neural networks work well with images.\n",
    "\n",
    "- I'd use deep learning since we are dealing with unstructured data and neural networks work well with images. (T)\n",
    "\n",
    "- This task can be easily accomplished with other machine learning algorithms, so deep learning is not required."
   ],
   "cell_type": "markdown",
   "metadata": {}
  }
 ]
}